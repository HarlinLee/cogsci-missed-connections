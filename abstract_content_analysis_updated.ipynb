{
  "nbformat": 4,
  "nbformat_minor": 0,
  "metadata": {
    "colab": {
      "name": "abstract_content_analysis_updated.ipynb",
      "provenance": [],
      "collapsed_sections": [],
      "machine_shape": "hm",
      "toc_visible": true,
      "include_colab_link": true
    },
    "kernelspec": {
      "display_name": "Python 3",
      "name": "python3"
    },
    "language_info": {
      "name": "python"
    }
  },
  "cells": [
    {
      "cell_type": "markdown",
      "metadata": {
        "id": "view-in-github",
        "colab_type": "text"
      },
      "source": [
        "<a href=\"https://colab.research.google.com/github/HarlinLee/cogsci-missed-connections/blob/main/abstract_content_analysis_updated.ipynb\" target=\"_parent\"><img src=\"https://colab.research.google.com/assets/colab-badge.svg\" alt=\"Open In Colab\"/></a>"
      ]
    },
    {
      "cell_type": "code",
      "metadata": {
        "id": "YEVN5PWumRzA"
      },
      "source": [
        "import os\n",
        "import numpy as np\n",
        "import pandas as pd\n",
        "import matplotlib.pyplot as plt\n",
        "import seaborn as sns\n",
        "import pickle\n",
        "\n",
        "from sklearn.feature_extraction.text import TfidfVectorizer\n",
        "from sklearn.decomposition import NMF\n",
        "\n",
        "import gensim\n",
        "from gensim.utils import simple_preprocess"
      ],
      "execution_count": null,
      "outputs": []
    },
    {
      "cell_type": "code",
      "metadata": {
        "colab": {
          "base_uri": "https://localhost:8080/"
        },
        "id": "KW_st5UnmVqw",
        "outputId": "19345cb3-a62c-4ba2-98cb-90201614ede7"
      },
      "source": [
        "from google.colab import drive\n",
        "\n",
        "drive.mount('/content/drive') \n",
        "DRIVE_PATH = \"/content/drive/My Drive/REU evolution of scientific fields\""
      ],
      "execution_count": null,
      "outputs": [
        {
          "output_type": "stream",
          "name": "stdout",
          "text": [
            "Mounted at /content/drive\n"
          ]
        }
      ]
    },
    {
      "cell_type": "code",
      "metadata": {
        "colab": {
          "base_uri": "https://localhost:8080/"
        },
        "id": "yqHyDBcZG-nv",
        "outputId": "25f352ba-46de-427c-8ebc-18c760845ba3"
      },
      "source": [
        "# download required packages for \n",
        "import nltk\n",
        "\n",
        "from nltk.stem import WordNetLemmatizer\n",
        "from nltk.corpus import wordnet\n",
        "from nltk.corpus import stopwords\n",
        "\n",
        "nltk.download('stopwords')\n",
        "nltk.download('punkt')\n",
        "nltk.download('averaged_perceptron_tagger')\n",
        "nltk.download('wordnet')"
      ],
      "execution_count": null,
      "outputs": [
        {
          "output_type": "stream",
          "name": "stdout",
          "text": [
            "[nltk_data] Downloading package stopwords to /root/nltk_data...\n",
            "[nltk_data]   Unzipping corpora/stopwords.zip.\n",
            "[nltk_data] Downloading package punkt to /root/nltk_data...\n",
            "[nltk_data]   Unzipping tokenizers/punkt.zip.\n",
            "[nltk_data] Downloading package averaged_perceptron_tagger to\n",
            "[nltk_data]     /root/nltk_data...\n",
            "[nltk_data]   Unzipping taggers/averaged_perceptron_tagger.zip.\n",
            "[nltk_data] Downloading package wordnet to /root/nltk_data...\n",
            "[nltk_data]   Unzipping corpora/wordnet.zip.\n"
          ]
        },
        {
          "output_type": "execute_result",
          "data": {
            "text/plain": [
              "True"
            ]
          },
          "metadata": {},
          "execution_count": 3
        }
      ]
    },
    {
      "cell_type": "markdown",
      "metadata": {
        "id": "jV9bg2b-MDau"
      },
      "source": [
        "# Load Abstracts"
      ]
    },
    {
      "cell_type": "code",
      "metadata": {
        "id": "66snO9y-pz-W",
        "colab": {
          "base_uri": "https://localhost:8080/"
        },
        "outputId": "5fcb7f47-edd7-4996-8de2-78a223a1eb24"
      },
      "source": [
        "with open(os.path.join(DRIVE_PATH, 'filtered_new_fields_df.pkl'), 'rb') as file:\n",
        "  fields_df = pickle.load(file)\n",
        "print(fields_df.shape)"
      ],
      "execution_count": null,
      "outputs": [
        {
          "output_type": "stream",
          "name": "stdout",
          "text": [
            "(59384, 18)\n"
          ]
        }
      ]
    },
    {
      "cell_type": "markdown",
      "metadata": {
        "id": "ARJbSAmXS-yR"
      },
      "source": [
        "## Data Cleaning and Stopwords"
      ]
    },
    {
      "cell_type": "code",
      "metadata": {
        "id": "-g5WinmzKR6m"
      },
      "source": [
        "replaced = fields_df.LA.str.replace(r'\\W*\\d+\\W+\\d*\\W*\\d*|\\d+', ' ', regex=True) #dealing with lemmatized abstracts\n",
        "replaced = replaced.str.replace(r'[^\\x00-\\x7F]+', ' ', regex=True) "
      ],
      "execution_count": null,
      "outputs": []
    },
    {
      "cell_type": "code",
      "metadata": {
        "id": "so0ji-oUxIRB"
      },
      "source": [
        "def sent_to_words(sentences):\n",
        "    for sentence in sentences:\n",
        "        yield(simple_preprocess(str(sentence), deacc=True))  # deacc=True removes punctuations"
      ],
      "execution_count": null,
      "outputs": []
    },
    {
      "cell_type": "code",
      "metadata": {
        "id": "SzlW-P1RxrxG"
      },
      "source": [
        "replaced = replaced.str.lower().values.tolist()\n",
        "data_words = list(sent_to_words(replaced))"
      ],
      "execution_count": null,
      "outputs": []
    },
    {
      "cell_type": "code",
      "source": [
        "data_words_before = [data_words[i] for i in range(fields_df.shape[0]) if fields_df.Y.values[i] < 2012]\n",
        "before_Id = fields_df.Id[fields_df.Y.values < 2012]"
      ],
      "metadata": {
        "id": "nTyPPWZbjcbR"
      },
      "execution_count": null,
      "outputs": []
    },
    {
      "cell_type": "code",
      "source": [
        "#stopwords\n",
        "stopwords_list = stopwords.words('english')\n",
        "stopwords_list.extend(['et', 'al', 'et_al',\n",
        "                       'research', 'theory', 'concept', 'field', 'study', 'chapter', 'approach', 'new', 'this_paper',\n",
        "                       'use', 'argue', 'claim', 'argue_that', 'claim_that', 'explain', 'base_on',\n",
        "                       'paper', 'article', 'present', \n",
        "                       'one', 'two', 'three', 'four', 'five', 'six', 'seven', 'eight', 'nine', 'ten',\n",
        "                      #  'review',\n",
        "                       'science',\n",
        "                       'many','may','might',\n",
        "                       'work','provide','discuss',\n",
        "                       'development'\n",
        "                       ])"
      ],
      "metadata": {
        "id": "AZ4EZIOLmC0r"
      },
      "execution_count": null,
      "outputs": []
    },
    {
      "cell_type": "markdown",
      "source": [
        "# Topic Modeling on Before dataset"
      ],
      "metadata": {
        "id": "yjAi-MNJjpB-"
      }
    },
    {
      "cell_type": "markdown",
      "metadata": {
        "id": "Wc69DMuhjpCD"
      },
      "source": [
        "##Phrase Modeling: Bigram and Trigram Models"
      ]
    },
    {
      "cell_type": "code",
      "metadata": {
        "colab": {
          "base_uri": "https://localhost:8080/"
        },
        "outputId": "5816eb84-0410-4fbe-8d2c-8de25449f1bf",
        "id": "k4FZhJC7jpCD"
      },
      "source": [
        "# Build the bigram models\n",
        "bigram0 = gensim.models.Phrases(data_words_before, min_count=20, threshold=10) # higher threshold fewer phrases.\n",
        "# Faster way to get a sentence clubbed as a bigram\n",
        "bigram_mod0 = gensim.models.phrases.Phraser(bigram0)\n",
        "# Build the trigram models\n",
        "trigram0 = gensim.models.Phrases(bigram_mod0[data_words_before], min_count=20, threshold=10)\n",
        "# Faster way to get a sentence clubbed as a trigram\n",
        "trigram_mod0 = gensim.models.phrases.Phraser(trigram0)\n",
        "print(len(bigram0.vocab))\n",
        "print(len(trigram0.vocab))\n",
        "print(len(trigram_mod0.phrasegrams))"
      ],
      "execution_count": null,
      "outputs": [
        {
          "output_type": "stream",
          "name": "stdout",
          "text": [
            "997360\n",
            "1064965\n",
            "3103\n"
          ]
        }
      ]
    },
    {
      "cell_type": "code",
      "metadata": {
        "id": "KezFw6IfjpCD"
      },
      "source": [
        "# Define functions for bigrams and trigrams\n",
        "def make_trigrams0(texts):\n",
        "    return [trigram_mod0[bigram_mod0[doc]] for doc in texts]"
      ],
      "execution_count": null,
      "outputs": []
    },
    {
      "cell_type": "code",
      "metadata": {
        "id": "LOChxwyFjpCE"
      },
      "source": [
        "data_words_trigrams0 = make_trigrams0(data_words_before)\n",
        "transformed_text0 = [' '.join(doc) for doc in data_words_trigrams0]"
      ],
      "execution_count": null,
      "outputs": []
    },
    {
      "cell_type": "markdown",
      "metadata": {
        "id": "i9aQp4j3jpCE"
      },
      "source": [
        "## TF-IDF Bag of words"
      ]
    },
    {
      "cell_type": "code",
      "metadata": {
        "colab": {
          "base_uri": "https://localhost:8080/"
        },
        "outputId": "6f6cfcfe-aa23-4b76-9cc5-f17f7eae379a",
        "id": "oRc3LpfpjpCE"
      },
      "source": [
        "vectorizer0 = TfidfVectorizer(stop_words = stopwords_list,\n",
        "                             max_df = 0.80, #remove words that appear in more than x% of documents\n",
        "                             min_df = 0.0005, #remove words that appear in less than x% of documents\n",
        "                             )\n",
        "vectors0 = vectorizer0.fit_transform(transformed_text0).transpose()\n",
        "print(vectors0.shape)\n",
        "idx_to_word0 = np.array(vectorizer0.get_feature_names()) #dictionary to recover topics"
      ],
      "execution_count": null,
      "outputs": [
        {
          "output_type": "stream",
          "name": "stdout",
          "text": [
            "(8576, 32525)\n"
          ]
        },
        {
          "output_type": "stream",
          "name": "stderr",
          "text": [
            "/usr/local/lib/python3.7/dist-packages/sklearn/utils/deprecation.py:87: FutureWarning: Function get_feature_names is deprecated; get_feature_names is deprecated in 1.0 and will be removed in 1.2. Please use get_feature_names_out instead.\n",
            "  warnings.warn(msg, category=FutureWarning)\n"
          ]
        }
      ]
    },
    {
      "cell_type": "markdown",
      "metadata": {
        "id": "WX3s0dt-jpCE"
      },
      "source": [
        "##Hierarchical NMF on Transformed Data"
      ]
    },
    {
      "cell_type": "markdown",
      "metadata": {
        "id": "2fhra_qwjpCE"
      },
      "source": [
        "### NMF level 1"
      ]
    },
    {
      "cell_type": "code",
      "metadata": {
        "colab": {
          "base_uri": "https://localhost:8080/"
        },
        "outputId": "fbfce711-47ce-4a6f-f1f8-1e0ec2de11a2",
        "id": "TrWTdH9e8UvQ"
      },
      "source": [
        "num_topics0 = 50\n",
        "nmf0 = NMF(n_components=num_topics0, \n",
        "           init='random', \n",
        "           random_state=2021, \n",
        "           max_iter=500, \n",
        "           tol=1e-5, \n",
        "           alpha=0.01)\n",
        "W0 = nmf0.fit_transform(vectors0)\n",
        "H0 = nmf0.components_\n",
        "\n",
        "for i, topic in enumerate(W0.transpose()):\n",
        "    print(\"Topic {}: {}\\n\".format(i,\", \".join(reversed(idx_to_word0[topic.argsort()[-30:].astype(int)]))))\n",
        "    print(\"Topic {}: {}\\n\".format(i, \", \".join(reversed(np.round(topic[topic.argsort()[-30:].astype(int)], 4).astype(str)))))"
      ],
      "execution_count": null,
      "outputs": [
        {
          "output_type": "stream",
          "name": "stderr",
          "text": [
            "/usr/local/lib/python3.7/dist-packages/sklearn/decomposition/_nmf.py:1425: FutureWarning: `alpha` was deprecated in version 1.0 and will be removed in 1.2. Use `alpha_W` and `alpha_H` instead\n",
            "  FutureWarning,\n",
            "/usr/local/lib/python3.7/dist-packages/sklearn/decomposition/_nmf.py:1641: ConvergenceWarning: Maximum number of iterations 500 reached. Increase it to improve convergence.\n",
            "  ConvergenceWarning,\n"
          ]
        },
        {
          "output_type": "stream",
          "name": "stdout",
          "text": [
            "Topic 0: cognitive, ability, map, cognitive_science, information_processing, cognitive_psychology, processing, capacity, operation, tool, modeling, domain, such_as, module, cognitive_neuroscience, resource, support, skill, component, function, framework, cognitive_architecture, cognitive_informatics, develop, internal, theoretical, piaget, distribute, strategy, schema\n",
            "\n",
            "Topic 0: 3.2479, 0.1752, 0.1333, 0.1275, 0.1089, 0.0977, 0.0944, 0.0918, 0.0862, 0.0858, 0.0829, 0.0801, 0.0715, 0.0672, 0.067, 0.0662, 0.0661, 0.0609, 0.0608, 0.0575, 0.0572, 0.0528, 0.0517, 0.0503, 0.048, 0.048, 0.0469, 0.0465, 0.0463, 0.0461\n",
            "\n",
            "Topic 1: level, context, different, conceptual, framework, domain, within, notion, term, meaning, propose, phenomenon, perspective, general, principle, description, way, property, organization, view, describe, definition, type, define, individual, dynamic, feature, consider, theoretical, category\n",
            "\n",
            "Topic 1: 1.3235, 1.3127, 1.0707, 0.692, 0.6909, 0.5892, 0.4631, 0.3786, 0.3783, 0.3744, 0.2919, 0.2815, 0.2768, 0.2736, 0.2689, 0.2525, 0.245, 0.2275, 0.2237, 0.2189, 0.2119, 0.2085, 0.2079, 0.1886, 0.1856, 0.1811, 0.1786, 0.1753, 0.1732, 0.1708\n",
            "\n",
            "Topic 2: agent, belief, environment, architecture, interaction, intention, based, notion, dynamic, world, bdi, state, behaviour, simulation, multi_agent, agents, goal, semantics, mental_state, dialogue, society, artificial_agent, artificial, capability, commitment, framework, introduce, speech_act, multi_agent_system, act\n",
            "\n",
            "Topic 2: 3.0496, 0.3688, 0.2376, 0.2241, 0.1919, 0.1602, 0.1516, 0.1317, 0.1296, 0.1291, 0.129, 0.1167, 0.1157, 0.113, 0.1119, 0.1101, 0.1082, 0.1079, 0.106, 0.1042, 0.1001, 0.0978, 0.0963, 0.0942, 0.0928, 0.0924, 0.0911, 0.0896, 0.0888, 0.0859\n",
            "\n",
            "Topic 3: mind, body, mental, view, philosophy, thought, world, mental_state, physical, idea, argument, think, computational, others, modular, book, cognitive_science, module, content, understand, philosopher, philosophical, modularity, capacity, matter, symbol, nature, fodor, way, dualism\n",
            "\n",
            "Topic 3: 2.7882, 0.477, 0.2774, 0.2104, 0.2028, 0.1664, 0.1618, 0.1505, 0.1497, 0.1137, 0.1062, 0.1054, 0.1035, 0.101, 0.0929, 0.0929, 0.0892, 0.0861, 0.0823, 0.0817, 0.079, 0.0789, 0.0772, 0.0764, 0.0753, 0.0732, 0.0731, 0.0711, 0.0695, 0.0626\n",
            "\n",
            "Topic 4: cognition, cognitive_science, computational, view, computation, perspective, symbolic, embodied, cognitive_architecture, architecture, embody, connectionist, symbol, affect, argument, connectionism, embodiment, role, challenge, think, situate, hypothesis, embodied_cognition, issue, traditional, dynamical, information_processing, situated_cognition, implication, thesis\n",
            "\n",
            "Topic 4: 2.6268, 0.28, 0.1906, 0.1484, 0.138, 0.117, 0.1099, 0.1079, 0.1039, 0.0978, 0.0949, 0.0898, 0.0889, 0.0867, 0.0847, 0.0821, 0.0757, 0.0704, 0.0701, 0.0699, 0.0663, 0.0632, 0.0595, 0.0569, 0.055, 0.0548, 0.0546, 0.0529, 0.0524, 0.0521\n",
            "\n",
            "Topic 5: knowledge, domain, acquire, expert, know, acquisition, conceptual, world, represent, implicit, knowledge_acquisition, expertise, schema, based, explicit, semantic, understanding, skill, epistemological, scientific, knowledge_base, epistemology, management, comprehension, ai, application, situation, type, construction, text\n",
            "\n",
            "Topic 5: 2.7399, 0.2714, 0.1616, 0.1293, 0.1284, 0.1126, 0.1064, 0.1056, 0.1004, 0.0967, 0.0914, 0.087, 0.086, 0.0825, 0.0806, 0.0778, 0.0739, 0.0656, 0.0646, 0.0633, 0.059, 0.0582, 0.0581, 0.0581, 0.0557, 0.0529, 0.0514, 0.0506, 0.0504, 0.0498\n",
            "\n",
            "Topic 6: system, complex, dynamic, complexity, biological, artificial, component, systems, property, general, control, natural, develop, adaptive, physical, emergence, neural, symbol, multiple, computational, environment, subsystem, autonomous, anticipatory, part, systemic, describe, self_organization, living, principle\n",
            "\n",
            "Topic 6: 2.9372, 0.3133, 0.1546, 0.1267, 0.1159, 0.1094, 0.1079, 0.1039, 0.098, 0.0873, 0.0859, 0.0831, 0.0767, 0.0737, 0.0711, 0.0686, 0.0677, 0.0645, 0.063, 0.0571, 0.0566, 0.0565, 0.0558, 0.0555, 0.0554, 0.055, 0.0548, 0.0534, 0.0528, 0.0519\n",
            "\n",
            "Topic 7: learning, learn, learner, environment, education, educational, skill, instruction, category, teaching, acquisition, transfer, rule, sequence, acquire, instructional, training, strategy, teach, principle, based, practice, change, constructivist, form, need, imitation, situation, meaningful, machine\n",
            "\n",
            "Topic 7: 2.2266, 1.7514, 0.2606, 0.1867, 0.1404, 0.1052, 0.0996, 0.0918, 0.0916, 0.0889, 0.0853, 0.0852, 0.0852, 0.0842, 0.0784, 0.0719, 0.0686, 0.0679, 0.0665, 0.0659, 0.0617, 0.0613, 0.0611, 0.0561, 0.0559, 0.0551, 0.0548, 0.0539, 0.0519, 0.0511\n",
            "\n",
            "Topic 8: emotion, emotional, affective, appraisal, affect, emotions, basic, expression, experience, decision_making, robot, emotional_state, architecture, feeling, facial_expression, personality, express, emotion_regulation, state, character, aspect, role, psychological, motivation, emotional_response, neuroscience, anger, relate, propose, recognize\n",
            "\n",
            "Topic 8: 2.7244, 0.5001, 0.2225, 0.125, 0.1191, 0.1104, 0.1019, 0.1003, 0.0982, 0.0955, 0.0943, 0.0914, 0.0913, 0.0829, 0.0807, 0.0639, 0.0628, 0.0588, 0.0584, 0.0554, 0.0536, 0.052, 0.0478, 0.0466, 0.0431, 0.0431, 0.0402, 0.0402, 0.0394, 0.0392\n",
            "\n",
            "Topic 9: evolution, evolutionary, adaptation, evolve, environment, adaptive, organism, genetic, developmental, natural_selection, gene, change, selection, specie, emergence, origin, culture, biological, variation, cultural, evolutionary_psychology, trait, population, hypothesis, comparative, evolutionary_biology, complexity, primate, individual, darwin\n",
            "\n",
            "Topic 9: 1.7894, 1.418, 0.3418, 0.3387, 0.2886, 0.2812, 0.2763, 0.2702, 0.2667, 0.2646, 0.2546, 0.2398, 0.2211, 0.2149, 0.1782, 0.1738, 0.1544, 0.1498, 0.1469, 0.1456, 0.1433, 0.1358, 0.1315, 0.1296, 0.1264, 0.1253, 0.1226, 0.1171, 0.1138, 0.1123\n",
            "\n",
            "Topic 10: memory, retrieval, hippocampus, recall, storage, remember, store, episodic_memory, episodic, event, past, hippocampal, amnesia, long_term_memory, recollection, implicit, declarative_memory, encode, consolidation, form, semantic_memory, experience, retrieve, mnemonic, item, short_term_memory, retention, reconsolidation, age, explicit\n",
            "\n",
            "Topic 10: 2.8726, 0.1925, 0.1525, 0.1518, 0.142, 0.1391, 0.131, 0.1268, 0.1063, 0.1041, 0.1011, 0.0955, 0.0911, 0.086, 0.0838, 0.0749, 0.074, 0.0725, 0.0683, 0.0667, 0.0625, 0.0601, 0.0598, 0.0591, 0.0574, 0.0566, 0.0519, 0.0512, 0.0505, 0.0504\n",
            "\n",
            "Topic 11: music, musical, sound, performance, composition, listener, musician, art, auditory, computer, pitch, composer, musicology, culture, rhythm, piece, compositional, aesthetic, tone, listen, form, tonal, author, acoustic, melody, generative, improvisation, listening, performer, timbre\n",
            "\n",
            "Topic 11: 2.4113, 1.1814, 0.2804, 0.1493, 0.1389, 0.1216, 0.119, 0.1159, 0.1101, 0.1066, 0.1042, 0.1017, 0.0937, 0.0883, 0.0881, 0.076, 0.0717, 0.0716, 0.0692, 0.0646, 0.064, 0.0631, 0.0629, 0.0624, 0.0607, 0.0604, 0.0597, 0.0583, 0.0555, 0.0541\n",
            "\n",
            "Topic 12: behavior, behavioral, environment, complex, organism, skinner, principle, control, response, adaptive, individual, understand, behaviorism, goal, operant, verbal_behavior, contingency, rule, influence, reinforcement, stimulus, behaviorist, describe, nervous_system, exhibit, organize, term, organization, decision, must\n",
            "\n",
            "Topic 12: 2.5837, 0.6216, 0.1639, 0.1194, 0.1193, 0.1084, 0.0858, 0.0851, 0.0824, 0.0807, 0.0781, 0.0757, 0.0698, 0.0693, 0.066, 0.0591, 0.0586, 0.0586, 0.0553, 0.0529, 0.0523, 0.0517, 0.0508, 0.0494, 0.0481, 0.0465, 0.0462, 0.0445, 0.0434, 0.0431\n",
            "\n",
            "Topic 13: brain, function, neuroscience, neural, activity, neuron, area, cognitive_neuroscience, functional, network, neuroscientist, neuronal, image, region, fmri, neuroimaging, cortical, plasticity, neural_network, dynamic, functioning, eeg, processing, state, neurological, understand, neuroscientific, education, connection, different\n",
            "\n",
            "Topic 13: 2.796, 0.3818, 0.302, 0.2611, 0.2251, 0.1506, 0.1332, 0.1228, 0.12, 0.1166, 0.1049, 0.0988, 0.0981, 0.0939, 0.0871, 0.0823, 0.0821, 0.0783, 0.077, 0.0734, 0.0719, 0.0714, 0.0698, 0.0681, 0.0676, 0.0658, 0.0654, 0.0652, 0.0625, 0.0617\n",
            "\n",
            "Topic 14: student, mathematical, idea, text, tool, understanding, activity, mathematics, thinking, understand, teach, computer, analogy, way, teacher, practice, learner, classroom, course, teaching, material, instruction, write, develop, educational, strategy, example, education, problem_solving, program\n",
            "\n",
            "Topic 14: 1.7437, 0.7502, 0.4977, 0.4122, 0.3956, 0.3781, 0.3666, 0.3335, 0.2853, 0.2768, 0.2742, 0.2663, 0.2288, 0.2164, 0.212, 0.1804, 0.1772, 0.1757, 0.1747, 0.1567, 0.1512, 0.1495, 0.1453, 0.1443, 0.143, 0.1425, 0.1387, 0.1304, 0.128, 0.1244\n",
            "\n",
            "Topic 15: perception, experience, perceptual, sensory, world, environment, auditory, stimulus, vision, perceive, sense, view, sound, gibson, motion, direct, sens, color, sensation, psychophysics, organism, way, property, neural, phenomenology, feature, visual_perception, illusion, awareness, content\n",
            "\n",
            "Topic 15: 1.752, 1.0657, 1.0172, 0.7559, 0.2367, 0.2035, 0.1972, 0.1744, 0.1649, 0.1543, 0.1538, 0.1457, 0.1407, 0.132, 0.1315, 0.1282, 0.1214, 0.1188, 0.1054, 0.1044, 0.1033, 0.1013, 0.0956, 0.0945, 0.0907, 0.0894, 0.0834, 0.0816, 0.0771, 0.0771\n",
            "\n",
            "Topic 16: task, performance, perform, strategy, work_memory, ability, attention, participant, require, control, different, component, subject, span, complex, measure, skill, decision, specific, expert, complexity, activity, individual, involve, goal, wm, problem_solving, domain, expertise, group\n",
            "\n",
            "Topic 16: 2.3163, 0.6561, 0.2448, 0.2021, 0.1948, 0.1818, 0.142, 0.1275, 0.1255, 0.1159, 0.1141, 0.1141, 0.111, 0.1071, 0.1069, 0.1056, 0.1012, 0.0939, 0.0938, 0.0925, 0.0902, 0.0888, 0.0867, 0.0839, 0.0829, 0.08, 0.0793, 0.0788, 0.0779, 0.077\n",
            "\n",
            "Topic 17: design, creativity, creative, designer, interaction, technology, user, activity, artifact, engineering, product, practice, based, environment, support, idea, interactive, interface, explore, architecture, sketch, education, experience, art, aesthetic, style, computer, principle, artefact, application\n",
            "\n",
            "Topic 17: 2.5727, 0.3765, 0.3025, 0.298, 0.2065, 0.1499, 0.145, 0.1438, 0.1197, 0.1191, 0.1076, 0.0977, 0.093, 0.0912, 0.0808, 0.0782, 0.077, 0.0763, 0.0758, 0.0747, 0.0736, 0.0718, 0.0713, 0.0705, 0.0697, 0.0686, 0.068, 0.068, 0.0648, 0.0624\n",
            "\n",
            "Topic 18: metaphor, metaphorical, analogy, metaphoric, conceptual_metaphor, computer, metaphors, literal, conceptual, comprehension, interpretation, mapping, domain, novel, meaning, cognitive_linguistics, expression, lakoff, suggest, abstract, thought, discourse, way, example, creativity, this_article, organizational, understanding, term, metaphorically\n",
            "\n",
            "Topic 18: 2.6515, 0.2283, 0.1269, 0.1116, 0.1007, 0.0896, 0.0884, 0.0866, 0.0861, 0.0858, 0.0842, 0.0733, 0.0707, 0.0682, 0.066, 0.0637, 0.0633, 0.0629, 0.0622, 0.06, 0.0591, 0.0568, 0.0565, 0.0542, 0.0516, 0.0511, 0.0501, 0.0493, 0.048, 0.0476\n",
            "\n",
            "Topic 19: human, machine, computer, robot, primate, ability, culture, technology, understand, capacity, non, like, computer_interaction, capability, cultural, specie, human_being, way, tool, humans, face, natural, architecture, chimpanzee, interaction, unique, virtual, understanding, artificial, infant\n",
            "\n",
            "Topic 19: 2.7533, 0.2296, 0.2273, 0.1995, 0.1416, 0.14, 0.1375, 0.1369, 0.1332, 0.1143, 0.114, 0.0939, 0.0901, 0.0767, 0.0731, 0.0695, 0.0677, 0.0616, 0.0588, 0.0565, 0.0564, 0.0558, 0.0556, 0.0555, 0.0554, 0.0552, 0.055, 0.0542, 0.0541, 0.0539\n",
            "\n",
            "Topic 20: structure, function, network, functional, structural, organization, form, pattern, conceptual, property, relation, represent, term, complex, role, abstract, linguistic, element, organize, material, causal, anatomical, internal, relationship, unit, category, schema, analogy, define, organizational\n",
            "\n",
            "Topic 20: 2.3061, 0.9174, 0.2945, 0.2368, 0.2254, 0.1862, 0.166, 0.1445, 0.1148, 0.1097, 0.0878, 0.0869, 0.0831, 0.0823, 0.0767, 0.0749, 0.0741, 0.0741, 0.0738, 0.0713, 0.0705, 0.0683, 0.0682, 0.0654, 0.0654, 0.0651, 0.0644, 0.0634, 0.0612, 0.0593\n",
            "\n",
            "Topic 21: movement, motor, control, body, motor_control, coordination, pattern, sensory, muscle, motion, sensorimotor, hand, robot, cerebellum, limb, embodiment, dance, imitation, locomotion, feedback, move, rhythmic, program, voluntary, dynamic, sequence, part, nervous_system, bodily, posture\n",
            "\n",
            "Topic 21: 1.8027, 1.0566, 1.056, 0.5873, 0.217, 0.173, 0.1512, 0.147, 0.1411, 0.1136, 0.1133, 0.1118, 0.0984, 0.0964, 0.0873, 0.086, 0.0859, 0.0852, 0.0833, 0.0831, 0.0786, 0.0752, 0.0731, 0.0726, 0.0672, 0.0667, 0.0656, 0.0644, 0.0639, 0.063\n",
            "\n",
            "Topic 22: object, property, feature, infant, shape, object_recognition, category, relation, attention, part, world, identity, location, physical, perceptual, recognition, based, name, recognize, entity, categorization, represent, scene, perceive, see, subject, kind, tool, class, show\n",
            "\n",
            "Topic 22: 2.6224, 0.1605, 0.1547, 0.1334, 0.1271, 0.1228, 0.1227, 0.1204, 0.1139, 0.1022, 0.0934, 0.0926, 0.0864, 0.0853, 0.0852, 0.0835, 0.0801, 0.0796, 0.0766, 0.0745, 0.0742, 0.0709, 0.0702, 0.0689, 0.0637, 0.0631, 0.0621, 0.0618, 0.0587, 0.0548\n",
            "\n",
            "Topic 23: language, linguistic, language_acquisition, linguistics, processing, grammar, speech, word, syntax, meaning, aspect, acquisition, syntactic, thought, semantics, universal, acquire, innate, second, grammatical, sentence, emergence, natural_language, chomsky, learner, capacity, origin, bilingual, linguist, production\n",
            "\n",
            "Topic 23: 2.9178, 0.495, 0.1708, 0.1451, 0.1292, 0.1232, 0.1206, 0.117, 0.1069, 0.0954, 0.0917, 0.0893, 0.0863, 0.085, 0.0765, 0.0727, 0.0712, 0.0693, 0.0691, 0.0677, 0.0671, 0.0669, 0.0662, 0.0654, 0.0641, 0.0622, 0.0617, 0.0606, 0.0585, 0.0584\n",
            "\n",
            "Topic 24: game, play, role, player, narrative, character, story, chess, game_play, computer_game, an_important_role, playing, experience, strategy, video_game, interactive, gaming, form, interaction, world, rule, activity, way, cooperation, schema, situation, strategic, computer, games, user\n",
            "\n",
            "Topic 24: 1.8384, 1.2303, 0.661, 0.5408, 0.3199, 0.216, 0.1929, 0.1831, 0.1242, 0.1199, 0.1178, 0.1134, 0.1031, 0.1029, 0.0986, 0.0794, 0.0782, 0.0762, 0.0695, 0.0686, 0.0665, 0.065, 0.0636, 0.0618, 0.0582, 0.056, 0.0559, 0.0558, 0.0543, 0.0523\n",
            "\n",
            "Topic 25: self, sense, body, experience, self_awareness, others, person, agency, identity, life, reference, image, narrative, reflection, recognition, mirror, awareness, aspect, individual, form, reflective, personal, include, within, ego, emergence, construct, one_own, non, self_regulation\n",
            "\n",
            "Topic 25: 2.5612, 0.1734, 0.1578, 0.1555, 0.1421, 0.111, 0.1039, 0.1017, 0.0925, 0.0909, 0.0812, 0.0784, 0.0759, 0.0713, 0.0685, 0.0683, 0.068, 0.0661, 0.0651, 0.064, 0.0625, 0.06, 0.059, 0.0589, 0.0566, 0.0564, 0.0522, 0.0518, 0.0506, 0.0491\n",
            "\n",
            "Topic 26: spatial, space, map, body, environment, navigation, place, location, hippocampus, temporal, physical, people, mapping, reference, spatial_relation, mental, frame, cue, virtual, dimension, reasoning, sound, form, orientation, mental_representation, geometry, architecture, geography, time, hippocampal\n",
            "\n",
            "Topic 26: 1.817, 1.6359, 0.4192, 0.1746, 0.1655, 0.133, 0.1215, 0.1058, 0.0957, 0.094, 0.0899, 0.0858, 0.0855, 0.0796, 0.0772, 0.0755, 0.0671, 0.0652, 0.0633, 0.0601, 0.0594, 0.0593, 0.0589, 0.0558, 0.0548, 0.0541, 0.0532, 0.0529, 0.0528, 0.0527\n",
            "\n",
            "Topic 27: question, answer, address, whether, issue, raise, ask, how_do, think, way, concern, know, computer, first, would, question_about, could, pose, try, case, must, machine, make, like, debate, thought, kind, possible, important, seem\n",
            "\n",
            "Topic 27: 2.0762, 0.8371, 0.3963, 0.3692, 0.306, 0.2586, 0.2489, 0.197, 0.1595, 0.1517, 0.1477, 0.1355, 0.1285, 0.1267, 0.1234, 0.1161, 0.1098, 0.1089, 0.0972, 0.0969, 0.0922, 0.0919, 0.0906, 0.0895, 0.089, 0.0876, 0.0875, 0.0865, 0.0852, 0.0847\n",
            "\n",
            "Topic 28: analysis, method, data, experimental, technique, interpretation, image, statistical, apply, methodology, functional, develop, analyze, methodological, scientific, procedure, activity, analytic, application, quantitative, tool, theoretical, subject, conversation, fmri, result, discourse, pattern, employ, example\n",
            "\n",
            "Topic 28: 2.0676, 1.0674, 0.5018, 0.1944, 0.1747, 0.1676, 0.1581, 0.1485, 0.1356, 0.1314, 0.1222, 0.116, 0.1142, 0.1055, 0.101, 0.0997, 0.0993, 0.0985, 0.0982, 0.0964, 0.0956, 0.0948, 0.0895, 0.0829, 0.0825, 0.0817, 0.0799, 0.0788, 0.0766, 0.0745\n",
            "\n",
            "Topic 29: mechanism, architecture, propose, explanation, phenomenon, computational, attention, functional, simulation, involve, underlie, neural, suggest, control, mechanisms, causal, general, cognitive_architecture, account, adaptive, mechanistic, formation, adaptation, specific, imitation, principle, psychological, require, developmental, mechanistic_explanation\n",
            "\n",
            "Topic 29: 2.4597, 0.1601, 0.14, 0.1359, 0.1345, 0.1286, 0.1196, 0.1086, 0.1032, 0.0963, 0.0922, 0.0855, 0.0778, 0.0737, 0.0684, 0.0681, 0.068, 0.0679, 0.0677, 0.0638, 0.0638, 0.0621, 0.0592, 0.0588, 0.058, 0.0559, 0.0531, 0.0517, 0.0508, 0.0491\n",
            "\n",
            "Topic 30: child, developmental, adult, age, infant, ability, early, piaget, change, understanding, play, skill, young_child, develop, acquisition, autism, language_acquisition, year, stage, abstract, children, acquire, evidence, year_olds, vygotsky, understand, learn, developmental_psychology, word, innate\n",
            "\n",
            "Topic 30: 2.0308, 0.9221, 0.4381, 0.4047, 0.286, 0.2591, 0.2543, 0.2419, 0.2033, 0.1806, 0.174, 0.1511, 0.1502, 0.1361, 0.132, 0.1237, 0.1236, 0.1206, 0.107, 0.0979, 0.0973, 0.0967, 0.0941, 0.0925, 0.087, 0.0868, 0.0848, 0.0848, 0.0813, 0.0792\n",
            "\n",
            "Topic 31: problem, solution, solve, problem_solving, analogy, insight, strategy, difficulty, face, deal_with, attempt, give, problem_solve, computational, address, pose, concern, situation, general, however, difficult, explanation, require, find, philosophical, frame, transfer, fundamental, way, do_not\n",
            "\n",
            "Topic 31: 2.4866, 0.5148, 0.4343, 0.1556, 0.1426, 0.1275, 0.1166, 0.1117, 0.0999, 0.0928, 0.0821, 0.0778, 0.0771, 0.0745, 0.0739, 0.0736, 0.0627, 0.0611, 0.061, 0.0599, 0.058, 0.0565, 0.0558, 0.0558, 0.0549, 0.0548, 0.0542, 0.0541, 0.0533, 0.0531\n",
            "\n",
            "Topic 32: animal, behaviour, specie, comparative, ability, ethology, signal, bird, food, behavioural, laboratory, insect, however, example, mammal, tool, non, natural, sensory, make, physiology, stimulus, plant, navigation, vertebrate, nonhuman_animal, simple, capacity, number, often\n",
            "\n",
            "Topic 32: 2.4343, 0.333, 0.2756, 0.1892, 0.1791, 0.1502, 0.129, 0.0982, 0.0915, 0.0911, 0.0881, 0.0879, 0.0798, 0.0796, 0.0776, 0.0754, 0.075, 0.0749, 0.0742, 0.0733, 0.0729, 0.0712, 0.0698, 0.0686, 0.0685, 0.0657, 0.0656, 0.064, 0.0635, 0.0628\n",
            "\n",
            "Topic 33: communication, meaning, signal, communicative, message, interaction, medium, communicate, speech, dialogue, conversation, form, mean, speech_act, share, act, sign, pragmatic, semiotic, receiver, gesture, face, symbolic, discourse, sound, interpersonal, mode, sender, cybernetics, channel\n",
            "\n",
            "Topic 33: 2.4368, 0.3065, 0.2862, 0.2541, 0.2, 0.1768, 0.1759, 0.1582, 0.1483, 0.1233, 0.1196, 0.1155, 0.1147, 0.107, 0.1056, 0.0942, 0.0926, 0.0912, 0.0894, 0.0884, 0.0846, 0.0757, 0.0733, 0.0709, 0.066, 0.0655, 0.0632, 0.0613, 0.0596, 0.0586\n",
            "\n",
            "Topic 34: logic, reason, reasoning, belief, logical, inference, formal, rule, semantics, argument, reason_about, causal, form, mental, conclusion, premise, make, give, argumentation, ai, propositional, explanation, rational, account, case, notion, thinking, show, first, fact\n",
            "\n",
            "Topic 34: 1.422, 1.1326, 1.0448, 0.6203, 0.6012, 0.5176, 0.31, 0.2505, 0.2392, 0.2254, 0.1974, 0.1932, 0.1779, 0.1707, 0.1577, 0.1404, 0.1278, 0.1251, 0.1202, 0.1202, 0.1193, 0.1163, 0.1127, 0.1107, 0.1069, 0.1067, 0.1046, 0.1042, 0.0984, 0.0969\n",
            "\n",
            "Topic 35: representation, represent, content, abstract, form, support, conceptual, symbol, view, mental_representation, symbolic, propositional, notion, numerical, number, feature, share, world, role, explicit, account, distinction, semantic, computational, distinction_between, connectionist, construct, kind, internal_representation, diagram\n",
            "\n",
            "Topic 35: 2.7484, 0.2209, 0.1854, 0.141, 0.1406, 0.1182, 0.1035, 0.0967, 0.0907, 0.0901, 0.0827, 0.0772, 0.0762, 0.075, 0.0748, 0.0632, 0.0616, 0.0607, 0.0603, 0.0592, 0.059, 0.0575, 0.0574, 0.0529, 0.0526, 0.0512, 0.0508, 0.0504, 0.0503, 0.0503\n",
            "\n",
            "Topic 36: information, information_processing, informational, source, retrieval, sensory, signal, store, content, storage, relevant, text, transfer, term, shannon, encode, semantic, available, environment, integrate, represent, energy, integration, mean, access, technology, way, work_memory, processing, amount\n",
            "\n",
            "Topic 36: 2.7442, 0.1588, 0.0993, 0.0992, 0.0986, 0.0971, 0.0958, 0.0925, 0.0917, 0.0864, 0.0835, 0.0814, 0.0743, 0.0729, 0.0696, 0.0675, 0.0667, 0.065, 0.0615, 0.061, 0.0565, 0.0557, 0.0527, 0.0522, 0.052, 0.0518, 0.0516, 0.0494, 0.0485, 0.0468\n",
            "\n",
            "Topic 37: action, motor, intention, goal, imitation, mirror_neuron, others, execution, perception, act, perform, plan, observation, planning, activity, simulation, mirror_system, reason_about, understanding, sequence, execute, actor, understand, agency, mirror_neuron_system, affordances, guide, observe, joint_action, involve\n",
            "\n",
            "Topic 37: 2.8359, 0.1944, 0.1817, 0.1692, 0.1461, 0.136, 0.1334, 0.1133, 0.1104, 0.1081, 0.0964, 0.0892, 0.087, 0.0855, 0.0851, 0.0825, 0.0768, 0.0723, 0.0714, 0.0638, 0.0629, 0.0625, 0.0622, 0.0587, 0.0586, 0.0582, 0.0581, 0.0574, 0.057, 0.0558\n",
            "\n",
            "Topic 38: social, individual, network, interaction, group, cultural, social_interaction, social_cognition, culture, collective, people, behaviour, others, society, primate, socially, influence, actor, community, activity, share, within, identity, neuroscience, sociology, simulation, robot, imitation, environment, norm\n",
            "\n",
            "Topic 38: 2.6454, 0.3897, 0.2606, 0.2465, 0.2064, 0.1794, 0.1775, 0.1573, 0.1441, 0.1341, 0.1334, 0.1205, 0.1179, 0.1156, 0.1057, 0.1031, 0.0793, 0.0674, 0.0667, 0.0661, 0.062, 0.0593, 0.0586, 0.0568, 0.056, 0.0544, 0.0542, 0.0525, 0.0517, 0.0512\n",
            "\n",
            "Topic 39: intelligence, ai, test, artificial_intelligence, machine, ability, intelligent, general, turing_test, turing, computer, psychometric, creativity, sternberg, abstract, artificial, intellectual, robot, measure, iq, component, construct, artificial_intelligence_ai, intelligent_behavior, fluid, thinking, natural_intelligence, relate, individual_difference, define\n",
            "\n",
            "Topic 39: 2.5892, 0.2919, 0.2418, 0.2223, 0.1989, 0.1922, 0.1623, 0.1222, 0.1052, 0.098, 0.0952, 0.0909, 0.0903, 0.0836, 0.078, 0.0776, 0.0751, 0.0732, 0.0716, 0.0705, 0.0661, 0.0649, 0.0636, 0.0631, 0.0618, 0.059, 0.0588, 0.0579, 0.0573, 0.0568\n",
            "\n",
            "Topic 40: visual, vision, attention, image, processing, visual_perception, eye, stimulus, motion, art, pathway, color, area, cortical, neuron, visually, visual_cortex, scene, illusion, see, verbal, primate, feature, literacy, receptive_field, retina, picture, auditory, psychophysical, object_recognition\n",
            "\n",
            "Topic 40: 2.7026, 0.6123, 0.2754, 0.2574, 0.2088, 0.1397, 0.1382, 0.1254, 0.1246, 0.1149, 0.1124, 0.1011, 0.1003, 0.0866, 0.0865, 0.0822, 0.0813, 0.0796, 0.0758, 0.0746, 0.073, 0.0716, 0.0712, 0.071, 0.067, 0.0669, 0.0598, 0.0598, 0.0579, 0.0553\n",
            "\n",
            "Topic 41: psychology, cognitive_science, psychological, philosophy, scientific, discipline, neuroscience, philosophical, explanation, cognitive_psychology, psychologist, history, view, artificial_intelligence, university, linguistics, behaviorism, philosopher, theoretical, phenomenon, computer_science, empirical, within, nature, contemporary, account, ai, biology, term, journal\n",
            "\n",
            "Topic 41: 1.8537, 0.8138, 0.6492, 0.6325, 0.5072, 0.418, 0.352, 0.2467, 0.2198, 0.1883, 0.1833, 0.1819, 0.1774, 0.1733, 0.1725, 0.1654, 0.1632, 0.1413, 0.1396, 0.1313, 0.1195, 0.1166, 0.116, 0.1151, 0.1087, 0.1065, 0.1044, 0.1007, 0.1002, 0.099\n",
            "\n",
            "Topic 42: process, creative, creativity, involve, unconscious, mental, thought, psychological, conscious, think, underlie, thinking, describe, complex, understand, stage, product, individual, influence, component, comprehension, reading, nature, occur, automatic, production, decision_making, construction, operate, generate\n",
            "\n",
            "Topic 42: 2.7791, 0.279, 0.2757, 0.2272, 0.14, 0.1378, 0.1204, 0.1155, 0.1073, 0.1026, 0.0964, 0.0938, 0.0928, 0.0866, 0.0832, 0.0766, 0.0758, 0.0724, 0.0703, 0.07, 0.0694, 0.0659, 0.0656, 0.062, 0.0609, 0.0568, 0.0568, 0.0566, 0.0562, 0.0557\n",
            "\n",
            "Topic 43: consciousness, conscious, state, unconscious, awareness, machine, conscious_experience, quantum, access, phenomenal, experience, scientific, phenomenal_consciousness, dream, stream, physical, content, attention, neural_correlate, conscious_state, artificial, philosophical, subjective, propose, phenomenology, james, property, hard_problem, neural, non\n",
            "\n",
            "Topic 43: 2.9649, 0.5111, 0.2572, 0.1916, 0.175, 0.1375, 0.1362, 0.1156, 0.1083, 0.1039, 0.0992, 0.0977, 0.0959, 0.0958, 0.0946, 0.0922, 0.0853, 0.0844, 0.0814, 0.0766, 0.074, 0.0714, 0.0714, 0.0652, 0.0611, 0.0605, 0.0593, 0.0587, 0.0582, 0.057\n",
            "\n",
            "Topic 44: cell, biological, biology, life, gene, molecular, cellular, disease, organism, protein, network, complex, genetic, molecule, complexity, phenomenon, understand, tissue, understanding, function, physical, principle, age, chemical, molecular_biology, cancer, biologist, physic, signal, genetics\n",
            "\n",
            "Topic 44: 1.4687, 1.0529, 0.6695, 0.482, 0.44, 0.4202, 0.3915, 0.382, 0.3709, 0.315, 0.3071, 0.3024, 0.2997, 0.239, 0.2178, 0.2125, 0.1988, 0.1981, 0.1848, 0.181, 0.1796, 0.1754, 0.1665, 0.1557, 0.1534, 0.1405, 0.1396, 0.1365, 0.1349, 0.1321\n",
            "\n",
            "Topic 45: model, propose, describe, mental, modeling, data, simulation, develop, account, computational_model, mathematical, phenomenon, based, neural_network, modelling, computational, dynamic, formal, construct, prediction, simulate, stage, simple, incorporate, theoretical, exist, connectionist, connectionist_model, models, psychological\n",
            "\n",
            "Topic 45: 3.175, 0.1543, 0.1526, 0.1278, 0.1269, 0.1169, 0.1152, 0.1127, 0.1121, 0.1047, 0.0983, 0.0965, 0.0933, 0.0891, 0.0814, 0.0813, 0.0739, 0.0696, 0.0695, 0.0686, 0.0635, 0.0609, 0.0596, 0.0557, 0.0542, 0.0541, 0.054, 0.054, 0.0523, 0.0511\n",
            "\n",
            "Topic 46: experiment, effect, word, processing, result, stimulus, hypothesis, test, evidence, show, response, semantic, account, suggest, support, data, item, subject, category, face, report, letter, participant, recognition, picture, condition, find, do_not, text, rule\n",
            "\n",
            "Topic 46: 1.0414, 0.9004, 0.7521, 0.7452, 0.5546, 0.5426, 0.4666, 0.4616, 0.4218, 0.4023, 0.3854, 0.3456, 0.3383, 0.3001, 0.2868, 0.2722, 0.2467, 0.2354, 0.2353, 0.2339, 0.2294, 0.1952, 0.1951, 0.188, 0.1851, 0.183, 0.1818, 0.175, 0.1737, 0.1681\n",
            "\n",
            "Topic 47: time, event, change, temporal, dynamic, state, sequence, occur, past, future, narrative, causal, story, world, timing, order, space, experience, pattern, first, history, cause, way, series, physical, response, happen, duration, interval, activity\n",
            "\n",
            "Topic 47: 1.6341, 1.1878, 1.0495, 0.723, 0.2908, 0.2102, 0.1799, 0.162, 0.1541, 0.1451, 0.1408, 0.1158, 0.1061, 0.0983, 0.0955, 0.0855, 0.0774, 0.0771, 0.0766, 0.0751, 0.0713, 0.0703, 0.0688, 0.0686, 0.067, 0.0624, 0.0612, 0.0607, 0.0604, 0.0604\n",
            "\n",
            "Topic 48: paradigm, symbolic, ai, connectionist, computational, classical, connectionism, methodology, within, traditional, idea, shift, old, theoretical, programming, technology, develop, program, kuhn, exist, this_article, introduce, artificial_intelligence, information_processing, result, computer, relationship, term, alternative, however\n",
            "\n",
            "Topic 48: 2.3244, 0.1488, 0.1414, 0.1353, 0.1133, 0.1129, 0.1108, 0.0965, 0.0931, 0.0859, 0.0804, 0.0693, 0.0687, 0.0601, 0.0585, 0.0584, 0.0579, 0.0577, 0.0552, 0.0542, 0.0537, 0.0518, 0.0514, 0.0494, 0.049, 0.0484, 0.0475, 0.0472, 0.0455, 0.0454\n",
            "\n",
            "Topic 49: review, issue, area, recent, current, clinical, theoretical, literature, book, contribution, topic, author, important, first, technique, discussion, several, attention, also, major, include, this_article, advance, make, neuroscience, aspect, interest, this_chapter, consider, finding\n",
            "\n",
            "Topic 49: 1.1787, 0.6076, 0.5876, 0.4499, 0.4208, 0.4006, 0.3546, 0.3504, 0.3334, 0.3294, 0.3064, 0.2987, 0.288, 0.2825, 0.2823, 0.2818, 0.2765, 0.2757, 0.2641, 0.2606, 0.2606, 0.2452, 0.2437, 0.2381, 0.238, 0.2369, 0.2348, 0.2346, 0.214, 0.21\n",
            "\n"
          ]
        }
      ]
    },
    {
      "cell_type": "code",
      "metadata": {
        "colab": {
          "base_uri": "https://localhost:8080/",
          "height": 393
        },
        "outputId": "12ad16ae-c8f1-496e-ab7a-fb72f815adb6",
        "id": "6Xle65v88UvR"
      },
      "source": [
        "NMF_cluster0 = H0.argmax(axis=0)\n",
        "plt.figure(figsize=(8,6))\n",
        "plt.hist(NMF_cluster0, bins=num_topics0)\n",
        "plt.xlabel('NMF topic', fontsize=16)\n",
        "plt.ylabel('Number of papers in topic', fontsize=16)\n",
        "plt.show()"
      ],
      "execution_count": null,
      "outputs": [
        {
          "output_type": "display_data",
          "data": {
            "image/png": "[encoded data removed]",
            "text/plain": [
              "<Figure size 576x432 with 1 Axes>"
            ]
          },
          "metadata": {
            "needs_background": "light"
          }
        }
      ]
    },
    {
      "cell_type": "code",
      "source": [
        "# save\n",
        "with open(os.path.join(DRIVE_PATH,'nextstep', 'NMF_before_20220224.pkl'),'wb') as f:\n",
        "    pickle.dump((nmf0, W0, H0, idx_to_word0, before_Id), f)"
      ],
      "metadata": {
        "id": "TP_0I77v0_yH"
      },
      "execution_count": null,
      "outputs": []
    },
    {
      "cell_type": "code",
      "metadata": {
        "id": "cUKLXVkKjpCE"
      },
      "source": [
        "supertopics_dict_before = dict(zip(before_Id, NMF_cluster0))\n",
        "supertopic_to_keyword_before = {i:list(idx_to_word0[topic.argsort()[:-6:-1].astype(int)]) for i, topic in enumerate(W0.T)}\n",
        "id_to_topicword_before = {id:supertopic_to_keyword0[supertopics_dict0[id]] for id in before_Id}"
      ],
      "execution_count": null,
      "outputs": []
    },
    {
      "cell_type": "markdown",
      "metadata": {
        "id": "8QzGM5xGjpCE"
      },
      "source": [
        "### NMF level 2"
      ]
    },
    {
      "cell_type": "code",
      "metadata": {
        "id": "4VO3RX9RjpCE"
      },
      "source": [
        "def run_level2_nmf(vectors, n_subtopics, topic_id, NMF_cluster, idx_to_word):\n",
        "  nmf = NMF(n_components=n_subtopics, init='random', random_state=0)\n",
        "\n",
        "  subset = vectors[:, NMF_cluster==topic_id]\n",
        "  print(subset.shape)\n",
        "  W = nmf.fit_transform(subset)\n",
        "  H = nmf.components_\n",
        "\n",
        "  for i, topic in enumerate(W.transpose()):\n",
        "    print(\"Topic {}: {}\\n\".format(i,\", \".join(reversed(idx_to_word[topic.argsort()[-30:].astype(int)]))))\n",
        "  \n",
        "  return W, H\n",
        "\n",
        "def update_subtopics_dict(subtopics_dict, id_to_subtopicword, topic_id, W, sub_NMF_cluster, fields_df_Id, NMF_cluster, idx_to_word):\n",
        "  subtopics_dict0 = dict(zip(fields_df_Id[NMF_cluster==topic_id], sub_NMF_cluster))\n",
        "  subtopic_to_keyword0 = {i:list(idx_to_word[topic.argsort()[:-6:-1].astype(int)]) for i, topic in enumerate(W.T)}\n",
        "  id_to_subtopicword0 = {id:subtopic_to_keyword0[subtopics_dict0[id]] for id in fields_df_Id[NMF_cluster==topic_id]}\n",
        "  \n",
        "  subtopics_dict.update(subtopics_dict0)\n",
        "  id_to_subtopicword.update(id_to_subtopicword0)\n"
      ],
      "execution_count": null,
      "outputs": []
    },
    {
      "cell_type": "code",
      "metadata": {
        "colab": {
          "base_uri": "https://localhost:8080/"
        },
        "outputId": "7e73700c-5786-4e5d-bd4c-c6d15da255e9",
        "id": "9JndFc0XjpCE"
      },
      "source": [
        "subtopics_dict_before = {}\n",
        "id_to_subtopicword_before = {}\n",
        "\n",
        "ns = [10, 10, 8, 8, 4, 10, 10, 10, 10, 10, 8, 10, 10, 10, 10]\n",
        "for id, n in enumerate(ns):\n",
        "  print('====')\n",
        "  print('topic id', id)\n",
        "  W, H = run_level2_nmf(vectors0, n, id, NMF_cluster0, idx_to_word0)\n",
        "  sub_NMF_cluster0 = H.argmax(axis=0)\n",
        "  update_subtopics_dict(subtopics_dict_before, id_to_subtopicword_before, id, W, sub_NMF_cluster0, before_Id, NMF_cluster0, idx_to_word0)\n",
        "  "
      ],
      "execution_count": null,
      "outputs": [
        {
          "output_type": "stream",
          "name": "stdout",
          "text": [
            "====\n",
            "topic id 0\n",
            "(8584, 1643)\n",
            "Topic 0: model, disease, development, system, discuss, knowledge, animal, science, conceptual, review, many, describe, human, develop, way, structure, introduce, include, propose, representation, domain, developmental, understand, general, focus_on, scientific, basic, feature, consider, apply\n",
            "\n",
            "Topic 1: analogy, analogical, mapping, model, high_level, describe, similarity, stage, student, computational_model, analogical_reasoning, behaviour, inference, problem, structural, connectionist_model, competitive, extent, incremental, constraint, approximate, experiment, genomics, an_adequate, relational, drama, holyoak, support, pre, people\n",
            "\n",
            "Topic 2: cognition, model, connectionist, symbolic, connectionist_model, computational, architecture, neural_network, connectionism, different, cognitive, simulation, pdp, localist, learn, simulate, based, human, hybrid, cognitive_science, classical, implementation, paradigm, aspect, provide, fodor, mcclelland, ai, representation, discuss\n",
            "\n",
            "Topic 3: bayesian, causal, model, psychological, probability, bayesian_inference, probabilistic, rational, jones, reasoning, mechanistic, inference, theoretical, explanation, assumption, induction, love, account, normative, problem, cognitive_science, algorithmic, data, enlightenment, formulation, must, commitment, multiple, commentary, rely_on\n",
            "\n",
            "Topic 4: mathematical, modelling, model, biological, phenomenon, formal, mathematics, drug, system, reality, physical, may, understanding, behaviour, science, circadian, experimental, process, hypothesis, describe, example, help, qualitative, biology, application, analysis, computational, provide, complexity, neuron\n",
            "\n",
            "Topic 5: behavior, model, neural, level, behavioral, modeling, control, architecture, mechanism, computational, system, schema, task, neuron, motor, brain, movement, develop, perception, computational_model, pathway, animal, complex, cortical, function, prey, network, functional, frog, hippocampal\n",
            "\n",
            "Topic 6: mental, model, reason, premise, inference, reasoning, construct, conclusion, experiment, logic, reasoner, construction, situation, johnson_laird, problem, student, logical, represent, corroborate, propositional, deductive_reasoning, deduction, rule, conditionals, true, relation, qualitative, discourse, strategy, explanation\n",
            "\n",
            "Topic 7: process, cognitive, model, describe, story, information, propose, level, component, information_processing, attention, processing, discuss, development, creative, work, framework, work_memory, environment, narrative, human, discourse, perceptual, within, this_article, reader, text, intelligence, generation, representation\n",
            "\n",
            "Topic 8: data, model, account, effect, processing, experiment, task, show, result, prediction, test, word, stimulus, time, error, also, evidence, support, author, semantic, predict, response, based, report, associative, activation, decision, reading, phonological, category\n",
            "\n",
            "Topic 9: communication, model, dynamic, social, agent, simulation, network, context, role, interaction, dialogue, game, structure, individual, formal, propose, emergence, conversation, actor, based, phenomenon, form, system, meaning, self, semantics, information, describe, semantic, organizational\n",
            "\n",
            "====\n",
            "topic id 1\n",
            "(8584, 2138)\n",
            "Topic 0: attention, attentional, feature, location, top_down, processing, selection, mechanism, based, bottom_up, selective_attention, shift, stimulus, attentive, direct, control, process, task, visual_search, model, focus, neural, modulate, select, attend, review, binding, role, modulation, reading\n",
            "\n",
            "Topic 1: information, process, content, form, signal, meaning, question, transfer, term, environment, sensory, human, notion, conceptual, involve, semantic, integration, definition, informational, auditory, work, relevant, communication, source, encode, different, mean, available, may, whether\n",
            "\n",
            "Topic 2: visual, system, representation, image, area, brain, process, visual_perception, literacy, knowledge, human, processing, model, mechanism, many, design, cortical, review, visually, neuron, world, art, eye, analysis, data, discuss, color, visual_cortex, primate, communication\n",
            "\n",
            "Topic 3: motion, processing, movement, move, observer, color, insect, orientation, response, self, area, property, influence, neuron, pathway, neural, biological, apparent, signal, psychophysical, dynamic, review, form, evoke, include, cue, perceive, retinal, retina, fictive\n",
            "\n",
            "Topic 4: stimulus, word, processing, task, experiment, effect, face, letter, result, response, picture, semantic, participant, process, recognition, target, show, suggest, test, evidence, performance, find, name, item, number, pattern, hypothesis, read, subject, support\n",
            "\n",
            "Topic 5: spatial, space, representation, body, map, represent, time, temporal, navigation, location, people, cue, auditory, structure, mental_representation, human, movement, also, property, different, multisensory, environment, suggest, egocentric, code, number, evidence, place, move, cognition\n",
            "\n",
            "Topic 6: perceptual, experience, sensory, conceptual, illusion, processing, auditory, account, property, view, modality, representation, content, similarity, sense, may, categorization, form, world, filling, feature, term, activity, different, subject, process, category, make, phenomenon, state\n",
            "\n",
            "Topic 7: perception, sensory, gibson, stimulus, image, auditory, process, scene, feature, environment, color, direct, picture, perceive, event, action, world, visual_perception, way, colour, surface, principle, property, psychophysics, organism, percept, illusion, depth, phenomenon, provide\n",
            "\n",
            "Topic 8: object, representation, infant, object_recognition, shape, property, feature, action, based, category, identity, part, child, recognition, relation, view, represent, function, show, see, different, scene, physical, knowledge, world, event, location, recognize, change, individuation\n",
            "\n",
            "Topic 9: vision, binocular, early, see, pathway, system, eye, visual_perception, visual, high_level, computational, light, human, psychophysics, function, natural, image, neurophysiology, review, depth, peripheral, world, central, scene, mechanism, optic, disparity, processing, control, audition\n",
            "\n",
            "====\n",
            "topic id 2\n",
            "(8584, 1479)\n"
          ]
        },
        {
          "output_type": "stream",
          "name": "stderr",
          "text": [
            "/usr/local/lib/python3.7/dist-packages/sklearn/decomposition/_nmf.py:1641: ConvergenceWarning: Maximum number of iterations 200 reached. Increase it to improve convergence.\n",
            "  ConvergenceWarning,\n"
          ]
        },
        {
          "output_type": "stream",
          "name": "stdout",
          "text": [
            "Topic 0: action, perception, system, object, control, representation, event, effect, knowledge, human, process, change, execution, language, goal, reason_about, perform, state, problem, describe, provide, description, information, planning, analysis, result, also, evidence, such_as, involve\n",
            "\n",
            "Topic 1: belief, logic, reason_about, reason, knowledge, update, context, change, belief_revision, represent, logical, epistemic, reasoning, revision, state, set, model, desire, agent, operator, revise, epistemic_logic, provide, allow, believe, sentence, describe, program, hold, problem\n",
            "\n",
            "Topic 2: logic, semantics, communication, speech_act, commitment, communicative, conversation, protocol, dialogue, language, framework, communicative_act, act, dynamic, pragmatic, meaning, utterance, mental_attitude, deontic, propose, reason_about, based, interaction, mental_state, express, define, conversational, formal, notion, domain\n",
            "\n",
            "Topic 3: agent, model, notion, cognitive, architecture, environment, bdi, state, world, social, multi_agent, reason, society, result, agents, system, knowledge, human, behavior, multi_agent_system, order, capability, based, problem, communication, application, mind, interaction, propose, such_as\n",
            "\n",
            "Topic 4: motor, imitation, mirror_neuron, action, representation, observation, mirror_system, others, understanding, mirror_neuron_system, simulation, mirror, resonance, execution, monkey, verb, sensory, observed, ability, imagery, evidence, activation, neuron, system, activate, human, social_cognition, mechanism, understand, neural\n",
            "\n",
            "Topic 5: movement, control, perception, body, coordination, information, act, environment, motor_control, reach, ecological_approach, collective, imitation, process, collective_memory, within, order, rhythmic, motion, make, ideomotor, effect, actor, perceptual, integrate, sensory, performance, way, object, subject\n",
            "\n",
            "Topic 6: social, self, game, simulation, behavior, interaction, activity, play, model, character, process, environment, narrative, goal, behaviour, others, role, individual, situated, cognition, body, experience, propose, form, situate, context, cognitive, story, embodied, based\n",
            "\n",
            "Topic 7: intention, goal, plan, bdi, intentional, desire, intentionality, mental_state, conscious, others, intentional_action, infer, joint_action, obligation, notion, architecture, mirror_neuron_system, agency, understand, revision, joint, attitude, act, inference, ability, account, operator, logic, describe, defeasible\n",
            "\n",
            "====\n",
            "topic id 3\n",
            "(8584, 1185)\n",
            "Topic 0: consciousness, brain, human, model, machine, function, system, discuss, scientific, may, problem, propose, aspect, process, development, view, property, artificial, level, understand, neural, question, cognition, attention, conscious_experience, philosophical, cognitive, also, behavior, many\n",
            "\n",
            "Topic 1: stream, awareness, james, consciousness, occurrence, william_james, mental, inner, component, experience, principles, self_awareness, instance, kind, hold, account, bodily, present_article, time, basic, conception, series, pulse, content, second, perceptual, address, certain, intrinsic, every\n",
            "\n",
            "Topic 2: conscious, unconscious, process, thought, state, mental_state, system, global_workspace, processing, baars, mental, machine, think, content, evidence, information, something, perception, computational, global_workspace_theory, cognitive, like, non, voluntary, become, may, information_processing, function, psychological, suggest\n",
            "\n",
            "Topic 3: experience, phenomenal, state, phenomenal_consciousness, access, phenomenology, qualia, conscious_experience, sensory, block, neural_correlate, content, neural, attention, conscious_state, perception, empirical, subjective, like, world, account, report, feel, description, way, hard_problem, perceptual, phenomenally, information, term\n",
            "\n",
            "Topic 4: mind, body, philosophy, physical, mental, problem, cognitive_science, science, brain, thought, philosophical, scientific, question, matter, turing_test, book, machine, ai, intentionality, work, indian, view, world, human, answer, way, think, argument, philosopher, nature\n",
            "\n",
            "Topic 5: self, sense, aspect, self_awareness, body, experience, person, process, representation, subject, talk, others, propose, form, reflective, entity, concepts, different, interpersonal, conceptual, non, buddhist, reflection, analytic, representations, nature, development, inner_speech, immunology, within\n",
            "\n",
            "Topic 6: quantum, brain, state, physical, consciousness, penrose, psychosomatic, level, classical, energy, quantum_mechanic, physic, medicine, coherent, process, model, holistic, system, dynamic, altered_state, holographic, acupuncture, proposal, cell, non, computation, neural_network, subjective, law, neurology\n",
            "\n",
            "Topic 7: dream, lucid, wake, consciousness, sleep, state, dreaming, freud, altered_state, rem_sleep, may, wakefulness, possible, system, also, induce, awareness, propose, model, body, reality, non, hallucination, result, provide, neurobiological, suggest, complement, fall, integrate\n",
            "\n",
            "====\n",
            "topic id 4\n",
            "(8584, 1776)\n",
            "Topic 0: language, human, evolution, brain, system, cognition, cognitive, model, evolutionary, emergence, process, origin, linguistics, discuss, mind, social, evolve, view, may, change, learning, complex, capacity, function, thought, aspect, way, biological, ability, understand\n",
            "\n",
            "Topic 1: word, meaning, communication, processing, semantic, speech, model, sentence, syntactic, syntax, semantics, process, structure, form, mean, comprehension, system, symbolic, provide, analysis, aspect, involve, representation, context, grammatical, agent, communicate, human, task, function\n",
            "\n",
            "Topic 2: child, language_acquisition, language, development, acquisition, learning, input, learn, learner, acquire, second, sla, grammar, process, play, adult, infant, second_language_acquisition, speech, knowledge, role, evidence, social, developmental, early, first, perspective, interaction, cognitive, vygotsky\n",
            "\n",
            "Topic 3: linguistic, structure, linguistics, cognitive, language, natural_language, representation, cognitive_linguistics, syntax, grammar, universal, innate, spatial, hypothesis, chomsky, phenomenon, system, form, cognition, analysis, principle, category, generative_grammar, non, thought, conceptual, empirical, nonlinguistic, linguist, linguistic_competence\n",
            "\n",
            "====\n",
            "topic id 5\n",
            "(8584, 3534)\n",
            "Topic 0: process, task, comprehension, mathematical, involve, schema, mental, information, processing, thinking, student, model, problem, analysis, performance, problem_solving, context, thought, strategy, component, complex, effect, experiment, activity, decision_making, result, text, production, control, reading\n",
            "\n",
            "Topic 1: cognition, view, spatial, perception, cognitive_science, computation, human, perspective, issue, affect, computational, extended, notion, body, cognitive_architecture, development, paradigm, discuss, embody, different, challenge, form, embodied, information_processing, system, thesis, phenomenon, nature, aspect, work\n",
            "\n",
            "Topic 2: conceptual, structure, domain, semantic, category, space, represent, ontology, abstract, analogy, semantics, feature, schema, change, meaning, relation, specific, level, domain_specific, entity, property, different, model, propose, role, linguistic, construct, system, type, child\n",
            "\n",
            "Topic 3: logic, logical, context, semantics, formal, belief, mathematical, ai, notion, framework, contextual, property, program, natural_language, mathematics, introduce, nonmonotonic, information, proposition, temporal, semantic, artificial_intelligence, formalism, computational, dynamic, give, pragmatic, sentence, intensional, discuss\n",
            "\n",
            "Topic 4: cognitive_science, content, mind, argument, computational, view, connectionism, fodor, computation, philosophy, account, mental_representation, explanation, thought, classical, connectionist, mental, state, symbol, problem, notion, symbolic, way, philosophical, non, conception, psychology, meaning, semantic, question\n",
            "\n",
            "Topic 5: knowledge, system, know, acquire, information, human, world, expert, model, represent, understanding, ai, based, explicit, describe, discuss, implicit, learn, epistemological, acquisition, management, form, development, language, context, develop, application, science, learning, knowledge_acquisition\n",
            "\n",
            "Topic 6: representation, abstract, problem, represent, spatial, form, model, notion, system, support, world, space, view, propositional, information, object, numerical, level, construct, environment, issue, different, number, propose, way, agent, diagram, suggest, explicit, state\n",
            "\n",
            "Topic 7: inference, text, reader, causal, discourse, comprehension, information, rule, analogy, generation, story, text_comprehension, logical, generate, coherence, people, analogical, reading, make, premise, belief, processing, narrative, sentence, model, draw, read, conditional, mapping, form\n",
            "\n",
            "Topic 8: reasoning, reason, problem, problem_solving, conclusion, ability, domain, reason_about, spatial, strategy, commonsense, diagram, student, argument, task, child, expert, formal, logical, argumentation, defeasible, meta, premise, evidence, mental, probabilistic, form, analogy, support, human\n",
            "\n",
            "Topic 9: cognitive, development, model, map, system, mechanism, human, ability, environment, function, behavior, tool, modeling, framework, develop, perspective, change, analysis, provide, agent, structure, social, intelligence, individual, evolution, developmental, issue, science, discuss, dynamic\n",
            "\n",
            "====\n",
            "topic id 6\n",
            "(8584, 2049)\n",
            "Topic 0: system, model, behavior, knowledge, general, human, discuss, development, question, anticipatory, learn, nature, function, memory, visual, provide, science, multiple, develop, learning, context, may, review, social, describe, examine, propose, implicit, functional, basis\n",
            "\n",
            "Topic 1: control, motor, system, movement, level, sensory, behavior, mechanism, feedback, neural, cybernetics, action, task, oculomotor, body, process, coordination, attention, device, sensorimotor, model, goal, engineering, eye_movement, principle, brain, general, signal, may, muscle\n",
            "\n",
            "Topic 2: self, autopoietic, autopoiesis, organization, system, living, process, live_system, structure, social, individual, network, organism, autonomy, component, maturana, life, organize, varela, structural, unity, autonomous, representation, non, produce, regulation, suggest, environment, coupling, include\n",
            "\n",
            "Topic 3: information, sensory, process, communication, information_processing, structure, signal, cybernetics, system, evolutionary, informational, evolution, meaning, world, entropy, semantic, exchange, way, auditory, non, functional, shannon, environment, fundamental, energy, generation, activity, perception, neural, idea\n",
            "\n",
            "Topic 4: dynamic, model, system, development, stability, state, change, self_organization, developmental, agent, environment, level, principle, coordination, process, perspective, different, result, interaction, behavior, such_as, learn, organization, view, example, order, describe, give, lead, internal\n",
            "\n",
            "Topic 5: complex, complexity, system, science, adaptive, network, many, behavior, understand, biology, behaviour, principle, social, phenomenon, interaction, interact, simple, natural, world, pattern, highly, way, perspective, structure, element, chaotic, nonlinear, self_organization, individual, characteristic\n",
            "\n",
            "Topic 6: cognitive, system, mind, human, artificial, computer, computational, cognition, reason, processing, environment, representation, process, explanation, problem, based, design, reasoning, knowledge, task, support, symbol, logic, natural, vision, describe, symbolic, user, physical, develop\n",
            "\n",
            "Topic 7: semiotic, sign, communication, symbol, semiotics, system, meaning, symbolic, semiosis, level, relation, object, mode, mathematical, based, notion, introduce, live_system, user, signal, interpretation, peirce, process, ai, closure, language, digital, reference, discourse, cybernetics\n",
            "\n",
            "Topic 8: biological, biology, system, function, component, functional, organism, cell, property, disease, cellular, network, mechanism, model, life, physic, physical, living, phenomenon, behavior, artificial, molecular, analysis, evolution, mathematical, different, understanding, biologist, kind, physiology\n",
            "\n",
            "Topic 9: emergence, systems, notion, property, system, systemic, definition, part, framework, evolution, define, within, composite, living, life, component, entity, whole, emergent, artificial_life, intelligence, provide, explanation, context, description, thinking, consider, domain, abstract, particular\n",
            "\n",
            "====\n",
            "topic id 7\n",
            "(8584, 1917)\n"
          ]
        },
        {
          "output_type": "stream",
          "name": "stderr",
          "text": [
            "/usr/local/lib/python3.7/dist-packages/sklearn/decomposition/_nmf.py:1616: ConvergenceWarning: Maximum number of iterations 200 reached. Increase it to improve convergence.\n",
            "  random_state=self.random_state,\n"
          ]
        },
        {
          "output_type": "stream",
          "name": "stdout",
          "text": [
            "Topic 0: learning, model, human, social, process, system, cognitive, framework, discuss, machine, describe, development, language, problem, brain, work, domain, propose, this_article, aspect, provide, discovery, based, action, guide, active, knowledge, generative, area, environment\n",
            "\n",
            "Topic 1: transfer, instruction, analogy, context, training, concrete, analogical, effect, learn, procedure, strategy, programming, processing, retrieval, experiment, abstract, practice, test, based, problem_solving, concreteness, show, example, problem, task, learned, abstraction, condition, generic, information\n",
            "\n",
            "Topic 2: child, word, development, object, language, acquisition, linguistic, developmental, meaning, innate, general, acquire, constraint, gesture, language_acquisition, children, read, domain, novel, early, mechanism, school, learn, phonological, conceptual, principle, young_child, cognitive, domain_specific, ability\n",
            "\n",
            "Topic 3: learn, human, principle, process, mechanism, fact, system, nature, agent, people, object, model, individual, develop, discuss, issue, way, provide, work, current, knowledge, such_as, example, examine, self, set, review, also, aspect, experience\n",
            "\n",
            "Topic 4: educational, education, environment, teaching, process, design, teach, practice, instructional, instruction, interaction, context, activity, cognitive, technology, perspective, knowledge, social, skill, play, understanding, implication, development, game, classroom, based, tool, framework, experience, cognition\n",
            "\n",
            "Topic 5: task, sequence, knowledge, implicit_learning, performance, implicit, skill, strategy, rule, explicit, experiment, participant, text, effect, acquire, result, acquisition, serial, training, evidence, stimulus, test, condition, motor, structure, show, abstract, learning, process, instruction\n",
            "\n",
            "Topic 6: behavior, mechanism, animal, stimulus, response, process, model, associative, memory, simple, form, behavioral, associative_learning, rule, representation, change, phenomenon, event, cue, conditioning, result, rat, account, causal, imitation, general, suggest, involve, may, association\n",
            "\n",
            "Topic 7: learner, process, text, knowledge, input, learning, meaningful, information, ability, cognitive, structure, may, inductive_reasoning, representation, communication, role, material, idea, need, model, explore, teacher, collaborative_learning, language, generate, also, meaning, strategy, map, discourse\n",
            "\n",
            "Topic 8: student, teacher, analogy, map, science, way, make, teach, problem, conceptual, mathematics, understand, gesture, design, material, experience, example, mathematical, representation, program, lecture, model, physic, information, classroom, environment, strategy, problem_solving, idea, curriculum\n",
            "\n",
            "Topic 9: category, categorization, prototype, exemplar, model, task, learning, representation, feature, structure, object, stimulus, effect, people, base_rate, classification, error, experiment, similarity, suggest, categorize, bias, result, different, information, symbolic, dimension, participant, relational, novel\n",
            "\n",
            "====\n",
            "topic id 8\n",
            "(8584, 778)\n",
            "Topic 0: emotion, basic, model, experience, human, system, emotions, cognitive, perspective, psychological, term, role, view, process, state, work, this_article, different, consider, social, function, music, propose, cognition, suggest, understand, aspect, expression, abstract, language\n",
            "\n",
            "Topic 1: affect, detection, character, ai, improvisational, actor, work, metaphorical, mood, context, project, human, dialogue, virtual, also, user, evaluation, improvisation, convey, computer, focus_on, emotion, textual, speech, dramatic, report, judgment, user_interface, affective_state, communication\n",
            "\n",
            "Topic 2: emotion_regulation, emotion, regulate, model, control, cole, regulation, child, definition, review, variability, describe, strategy, perspective, construct, behavioral, development, involve, process, individual, others, address, versus, cognitive, generation, integrate, leave_out, imaging, martin, behavior\n",
            "\n",
            "Topic 3: emotional, model, experience, system, process, component, human, life, event, behaviour, machine, virtual, develop, memory, interactive, processing, character, brain, knowledge_base, also, primary, information, control, neutral, attention, realistic, way, level, cognitive_architecture, need\n",
            "\n",
            "Topic 4: agent, emotion, architecture, model, personality, mechanism, design, logic, propose, artificial_agent, action_selection, environment, human, framework, based, emotional_state, behaviour, reason_about, implement, deliberation, user, intelligent_agent, capability, aspect, intelligent, bdi, system, synthetic, describe, reasoning\n",
            "\n",
            "Topic 5: affective, neuroscience, ontology, affective_computing, science, game, discipline, affective_state, student, psychology, computer_interaction, community, compute, develop, process, definition, emotion, personality, address, representation, knowledge, human, method, stride, recognize, entity, effort, towards, reasoning, experience\n",
            "\n",
            "Topic 6: appraisal, emotion, process, model, computational_model, cognitive, antecedent, system, as_well_as, elicitation, dynamic, unfolding, episode, formal, module, architecture, cognition, feeling, integration, integrate, emotional_state, component, computational, abstract, engine, over_time, specification, with_respect, differentiation, need\n",
            "\n",
            "Topic 7: facial_expression, facial, expression, face, emotion, recognition, personality, communication, development, social, action, expressive, dialogue, utterance, display, signal, describe, automate, affective_computing, express, recognize, behavioral, data, perception, psychology, different, system, experience, application, basic\n",
            "\n",
            "Topic 8: decision_making, cognition, emotion, mind, moral, cognitive, neuroscience, process, mathematical, mechanism, aesthetic, relate, brain, understanding, perception, role, intuition, motivation, social, behavior, framework, knowledge_instinct, consciousness, function, include, discuss, somatic, thought, instinct, may\n",
            "\n",
            "Topic 9: robot, emotion, human, emotional_state, express, robotics, emotions, character, social, people, computer, communication, art, autonomy, capable, intelligent, capability, motivation, animal, equip_with, interaction, personality, model, expression, intelligence, behavior, application, personal, emotional_expression, robots\n",
            "\n",
            "====\n",
            "topic id 9\n",
            "(8584, 8021)\n",
            "Topic 0: evolution, evolutionary, biological, organism, biology, life, process, mechanism, function, adaptation, level, natural_selection, change, selection, structure, environment, evolve, adaptive, form, complexity, system, functional, origin, organization, specie, variation, evolutionary_biology, information, animal, complex\n",
            "\n",
            "Topic 1: problem, question, may, data, way, process, phenomenon, different, experiment, hypothesis, term, result, provide, idea, suggest, time, method, first, effect, task, evidence, response, make, account, theoretical, discuss, issue, many, case, show\n",
            "\n",
            "Topic 2: review, work, book, area, recent, topic, reader, contribution, current, issue, many, literature, provide, author, interest, publish, discuss, make, discussion, progress, this_chapter, technique, also, early, protein, important, function, several, first, include\n",
            "\n",
            "Topic 3: age, mechanism, aging, process, gerontology, lifespan, cause, program, senescence, age_related, old, cellular, stochastic, life_span, accumulation, child, plasticity, molecular_mechanism, death, level, molecular, understanding, biological, programmed, year, change, evidence, antagonistic, influence, basic\n",
            "\n",
            "Topic 4: science, psychology, philosophy, scientific, discipline, psychological, cognitive_science, history, mind, paradigm, philosophical, neuroscience, social, biology, philosopher, psychologist, physic, behaviorism, method, scientist, view, practice, nature, modern, contemporary, theoretical, cognitive_psychology, explanation, idea, within\n",
            "\n",
            "Topic 5: behavior, behavioral, analysis, skinner, control, environment, experimental, animal, verbal_behavior, operant, movement, behaviorism, level, within, stimulus, response, principle, influence, motor, organism, pattern, neuroscience, event, nervous_system, include, understand, functional, complex, physiological, method\n",
            "\n",
            "Topic 6: cell, cellular, protein, molecule, tissue, biology, molecular, biological, signal, life, network, cancer, membrane, differentiation, stem_cell, function, model, signaling, complex, growth, biologist, many, understanding, control, living_cell, cell_biology, structure, biochemical, process, plant\n",
            "\n",
            "Topic 7: development, developmental, change, process, child, motor, perspective, stage, cognitive, theoretical, early, model, system, adult, view, discuss, developmental_psychology, piaget, dynamic, this_article, recent, infant, human, understanding, framework, work, vygotsky, way, attachment, context\n",
            "\n",
            "Topic 8: disease, clinical, medicine, treatment, disorder, medical, diagnosis, therapy, patient, drug, health, understanding, basic, classification, therapeutic, symptom, clinician, pathogenesis, human, technique, application, advance, many, syndrome, diagnostic, discovery, cancer, heart, molecular, complex\n",
            "\n",
            "Topic 9: gene, genetic, genetics, molecular, protein, phenotype, environment, trait, genome, network, interaction, dna, developmental, behaviour, variation, environmental, epigenetic, molecular_biology, advance, pathway, inheritance, complex, disorder, mutation, molecular_genetics, factor, behavioural, genomics, genomic, human_genome\n",
            "\n",
            "====\n",
            "topic id 10\n",
            "(8584, 661)\n",
            "Topic 0: music, brain, human, emotion, language, perception, cognition, cognitive, model, system, computer, culture, may, emotional, domain, provide, discuss, such_as, evolution, processing, feature, understanding, mind, focus_on, review, musician, also, information, potential, affective\n",
            "\n",
            "Topic 1: performance, performer, expression, musician, expressive, instrument, audience, computer, improvisation, tempo, movement, analysis, real_time, piano, practice, generative, body, play, concert, gesture, communication, live, articulation, improvised, model, nature, result, synapse, expert, problem\n",
            "\n",
            "Topic 2: sound, sonic, auditory, timbre, experience, space, listen, temporal, source, communication, acoustic, form, physical, audio, electroacoustic_music, matter, environment, virtual, perception, different, image, synthesis, visual, part, body, embodiment, aspect, sense, material, meaning\n",
            "\n",
            "Topic 3: musical, system, structure, analysis, model, pattern, experience, listener, may, meaning, process, processing, work, cultural, develop, event, context, improvisation, structural, musical_instrument, rule, compose, form, complexity, consider, language, provide, aspect, memory, perception\n",
            "\n",
            "Topic 4: composition, composer, compositional, work, music, process, computer, score, tool, listener, create, timbre, space, aesthetic, algorithmic, piece, algorithm, model, author, creation, generative, synthesis, spatial, performer, musical_composition, sonic, electroacoustic_music, paradigm, this_article, time\n",
            "\n",
            "Topic 5: art, musicology, cognitive_science, systematic, form, aesthetic, visual, evolutionary, artistic, artist, creativity, space, artificial, develop, computational, cognitive, make, creative, humanity, melodic, historical, music, artwork, work, education, synesthesia, examine, include, critic, framework\n",
            "\n",
            "Topic 6: pitch, tonal, tone, chord, perception, tonality, harmonic, harmony, auditory, melodic, structure, listener, interval, tonal_music, acoustic, scale, perceptual, pattern, analysis, processing, way, involve, domain, principle, hierarchy, issue, model, temporal, melody, note\n",
            "\n",
            "Topic 7: rhythm, rhythmic, pulse, melody, temporal, oriented, performer, metrical, perception, meter, hear, harmony, sequence, music, listener, african, sense, organization, group, structure, time, timing, mathematical, computational_modeling, leading, voice, many, play, primacy, entrainment\n",
            "\n",
            "====\n",
            "topic id 11\n",
            "(8584, 1558)\n",
            "Topic 0: design, designer, process, knowledge, cognitive, engineering, activity, model, human, education, system, emergence, product, sketch, development, based, style, principle, abstract, paradigm, result, learning, support, representation, artifact, learn, visual, provide, different, method\n",
            "\n",
            "Topic 1: computer, work, artifact, human, system, technology, interface, activity, device, way, tool, mind, hci, computers, idea, machine, social, application, medium, many, environment, understand, view, could, people, call, history, procedure, development, example\n",
            "\n",
            "Topic 2: interaction, user, embodied, interactive, body, context, aesthetic, movement, environment, social, embodiment, design, affordances, framework, prototype, medium, describe, balance, interactional, springboard, bodily, whole_body, dialogue, interactivity, affordance, group, explore, engagement, technology, implication\n",
            "\n",
            "Topic 3: creativity, model, process, novelty, computational, definition, art, creation, domain, discuss, intelligence, exist, story, explore, artificial, attribute, psychology, may, imagery, discovery, also, investigate, ability, creative_thinking, sternberg, human, cognitive, propose, many, problem_solving\n",
            "\n",
            "Topic 4: metaphor, metaphorical, language, metaphoric, conceptual_metaphor, comprehension, metaphors, literal, process, conceptual, interpretation, discuss, suggest, cognitive, structure, cognitive_linguistics, novel, linguistic, model, knowledge, propose, abstract, mapping, also, organizational, mind, term, view, problem, example\n",
            "\n",
            "Topic 5: analogy, student, communication, context, process, idea, role, activity, understanding, model, domain, practice, understand, meaning, discourse, describe, conceptual, problem, analysis, work, construct, cognitive, way, suggest, interpretation, thinking, tool, problem_solving, function, visualization\n",
            "\n",
            "Topic 6: game, player, narrative, play, game_play, character, playing, gaming, computer_game, social, pervasive, discuss, social_interaction, video_game, simulation, meaning, shape, quest, world, process, engage, games, gestalt, playful, agency, medium, examine, virtual, rule, spatial\n",
            "\n",
            "Topic 7: creative, process, idea, novel, individual, solution, art, act, emergence, inspiration, thought, work, thinking, task, product, provide, problem, designer, produce, original, art_therapy, group, stage, activity, examine, insight, outcome, describe, result, account\n",
            "\n",
            "Topic 8: experience, user, narrative, story, technology, product, designer, way, interactive, develop, meaning, place, human, art, world, affective, body, create, movement, play, landscape, perception, may, embodied, framework, information, bodily, people, relationship_between, explore\n",
            "\n",
            "Topic 9: space, spatial, blend, architecture, architectural, structure, time, conceptual, place, event, blending, virtual, building, sound, notion, exploration, physical, architect, conceptual_blending, social, form, meaning, people, urban, mapping, explore, relationship, mental, input, change\n",
            "\n",
            "====\n",
            "topic id 12\n",
            "(8584, 2318)\n",
            "Topic 0: human, system, model, brain, development, communication, process, information, interaction, computer_interaction, understand, agent, non, language, technology, life, nature, perception, biological, discuss, way, design, form, understanding, work, experience, knowledge, thinking, make, factor\n",
            "\n",
            "Topic 1: primate, evolutionary, evolution, specie, evolve, ability, capacity, monkey, nonhuman_primate, tool, ape, comparative, chimpanzee, non, adaptation, human, infant, may, behaviour, cognitive, hominid, evidence, language, adaptive, communication, speech, evolutionary_psychology, face, hypothesis, mind\n",
            "\n",
            "Topic 2: behavior, behavioral, individual, analysis, environment, evolutionary, psychology, information, model, control, level, complex, science, biological, principle, ethology, adaptive, skinner, organism, psychological, organize, organization, evolutionary_psychology, gene, perspective, understand, show, group, dynamic, provide\n",
            "\n",
            "Topic 3: cognition, cognitive, human, ability, model, cognitive_science, provide, comparative, tool, architecture, process, psychology, information_processing, environment, cognitive_architecture, theoretical, performance, task, computational, spatial, technology, focus_on, decision_making, cognitive_psychology, artificial_intelligence, work, information, develop, analysis, set\n",
            "\n",
            "Topic 4: robot, interaction, robotics, robotic, communication, human, artificial, face, people, skill, robots, interact_with, child, develop, body, embodiment, imitation, discuss, build, ability, humanlike, movement, others, like, intelligent, capability, socially, developmental, artifact, learn\n",
            "\n",
            "Topic 5: social, individual, social_interaction, communication, interaction, social_cognition, behaviour, network, self, group, signal, people, agent, context, process, society, socially, development, psychology, others, provide, neuroscience, environment, play, system, structure, psychological, form, cognitive_neuroscience, review\n",
            "\n",
            "Topic 6: mind, machine, computer, turing, ai, turing_test, think, artificial_intelligence, program, could, like, psychology, question, chess, would, thinking, test, human_being, mental_state, game, understand, cognitive_science, people, computational, others, view, capacity, technology, computing, mental\n",
            "\n",
            "Topic 7: culture, cultural, individual, material, human, evolution, process, influence, biological, different, share, cultural_evolution, symbolic, shape, mechanism, evolve, inheritance, environment, cultural_transmission, adaptation, gene, product, way, form, nature, imitation, interaction, coevolution, capacity, change\n",
            "\n",
            "Topic 8: intelligence, test, intelligent, artificial_intelligence, ability, general, ai, construct, collective, turing_test, sternberg, psychometric, intelligent_behavior, measurement, level, measure, individual, discuss, iq, natural_intelligence, define, fluid, abstract, need, systems, performance, knowledge, cognitive, artificial, many\n",
            "\n",
            "Topic 9: animal, specie, question, ethology, may, model, comparative, comparative_psychology, signal, many, behaviour, laboratory, learn, however, share, nonhuman_animal, darwin, whether, non, tool, include, learning, ability, way, number, different, world, experimental, behavioral, animals\n",
            "\n",
            "====\n",
            "topic id 13\n",
            "(8584, 1980)\n",
            "Topic 0: brain, human, evolution, development, structure, change, work, may, view, learn, science, behavior, evolve, plasticity, system, functioning, understand, neuroscientist, early, learning, develop, book, model, way, organization, large, evolutionary, experience, biological, animal\n",
            "\n",
            "Topic 1: neuroscience, education, neuroscientific, educational, social, practice, discipline, psychology, brain, science, understanding, development, behavior, educator, bridge, advance, knowledge, scientific, finding, challenge, neuroscientist, cognitive_neuroscience, make, clinical, history, modern, this_article, learning, ethic, consumer\n",
            "\n",
            "Topic 2: network, functional, area, brain, connectivity, structural, connection, region, large_scale, complex, brain_region, activation, attention, task, cognitive, global, small, anatomical, may, organization, node, neuronal_network, cortical, processing, graph, principle, within, cognition, neuronal, integration\n",
            "\n",
            "Topic 3: cognitive_informatics, cognitive, science, natural_intelligence, process, intelligence, brain, internal, informatics, cognitive_science, information, engineering, computing, information_processing, model, mechanism, computer_science, ci, investigate, invited, enquiry, layer, renowned, external, wonder, panel, set, autonomously, application, as_well_as\n",
            "\n",
            "Topic 4: neuron, information, sensory, process, brain, model, computer, neural_network, representation, perception, system, computational, different, level, processing, motor, problem, understand, represent, mechanism, meaning, area, input, many, thought, question, action, computation, human, form\n",
            "\n",
            "Topic 5: mind, body, problem, brain, mental, consciousness, philosophy, physical, quantum, world, descartes, dualism, conscious, relation, science, understand, psychological, nature, experience, philosopher, view, cartesian, psychology, philosophical, perspective, neuroscientific, model, cognitive_neuroscience, cognitive_science, identity\n",
            "\n",
            "Topic 6: function, cognitive, structure, localization, area, brain, mental, understanding, cerebral_cortex, nervous_system, clinical, high, many, localize, th_century, lesion, motor, functional, cerebral, different, cerebellum, understand, may, perform, role, modularity, memory, process, such_as, view\n",
            "\n",
            "Topic 7: activity, brain, state, behavior, dynamic, process, eeg, pattern, mental, self, conscious, system, change, analysis, perception, dynamical, neuronal, stimulus, measure, mechanism, quantum, measurement, describe, specific, related, task, conscious_experience, control, behavioral, intention\n",
            "\n",
            "Topic 8: neural, reuse, event, dynamic, cognition, principle, process, biological, development, experience, cognitive, system, functional, structure, model, recent, connectivity, processing, cortical, may, pattern, functioning, modeling, support, term, anderson, complex, organization, several, evolutionary\n",
            "\n",
            "Topic 9: fmri, image, neuroimaging, human, technique, cognitive_neuroscience, method, data, brain, functional_magnetic_resonance_imaging, functional, imaging, task, development, technology, brain_imaging, analysis, reading, area, tool, processing, review, measure, activation, mapping, cognitive, advance, potential, different, limitation\n",
            "\n",
            "====\n",
            "topic id 14\n",
            "(8584, 1488)\n",
            "Topic 0: memory, system, development, human, learning, cognitive, work, function, issue, brain, model, knowledge, review, view, form, discuss, many, different, learn, recent, examine, theoretical, analysis, also, multiple, phenomenon, include, understanding, important, question\n",
            "\n",
            "Topic 1: experiment, item, effect, recall, task, word, processing, test, interference, performance, result, list, memory, span, subject, short_term_memory, picture, text, work_memory, account, semantic, encode, paradigm, show, participant, advantage, stimulus, data, condition, age\n",
            "\n",
            "Topic 2: recollection, familiarity, recognition_memory, recognition, memory, dual_process, judgment, process, signal_detection, source, false_memory, support, strength, know, item, procedure, evidence, test, implicit, model, provide, false, component, monitoring, whereas, distinct, face, suggest, mandler, strong\n",
            "\n",
            "Topic 3: reconsolidation, consolidation, process, memory_consolidation, reactivation, memory, amnesia, labile, memory_trace, sleep, evidence, disruption, consolidate, long_term_memory, state, become, stabilization, undergo, over_time, stable, formation, mechanism, initial, view, neocortical, know, time, molecular_mechanism, disrupt, trace\n",
            "\n",
            "Topic 4: information, storage, process, store, model, memory, human, learning, long_term_memory, brain, sensory, system, describe, learn, representation, mechanism, short_term_memory, structure, cognitive, information_processing, short_term, mental, behavior, term, propose, spatial, work_memory, retrieve, long_term, function\n",
            "\n",
            "Topic 5: hippocampus, hippocampal, declarative_memory, spatial, role, function, representation, region, brain, support, ltp, cortex, memory, learning, rat, dependent, model, relational, structure, neural, encode, neocortical, property, behavioral, parahippocampal, remote, synaptic_plasticity, long_term_potentiation, lesion, neuron\n",
            "\n",
            "Topic 6: episodic, episodic_memory, semantic_memory, memory, tulving, semantic, amnesia, declarative_memory, like, animal, human, system, distinction, factual, form, review, task, evidence, rodent, procedural, time, past, experience, neuroanatomical, propose, patient, specific, necessary, criterion, impairment\n",
            "\n",
            "Topic 7: event, past, experience, memory, false_memory, time, dream, imagine, occur, representation, future_event, recall, life, future, imagination, record, source, error, companion, state, misinformation, episode, original, eyewitness, sequence, people, personal, pair, reconstruction, narrative\n",
            "\n",
            "Topic 8: remember, past, collective_memory, remembering, self, know, social, individual, context, people, future, experience, forget, recall, view, voice, group, collective, future_event, mnemonic, knowledge, organizational, also, act, bartlett, encode, organization, within, notion, may\n",
            "\n",
            "Topic 9: retrieval, memory, storage, misinformation, cue, forgetting, retrieve, encode, memory_retrieval, interference, encoding, content, information, recall, recognition, error, effect, indicate, retrieval_cue, test, current, activation, context, confabulation, access, trace, role, failure, cause, inhibition\n",
            "\n"
          ]
        }
      ]
    },
    {
      "cell_type": "code",
      "metadata": {
        "id": "M2g5AxsRjpCE"
      },
      "source": [
        "# topics_df0 = pd.DataFrame.from_dict(supertopics_dict0, orient='index',columns=['SupertopicId'])\n",
        "# topics_df0['SubtopicId'] = topics_df0.index.map(subtopics_dict0)\n",
        "# topics_df0['SupertopicKeywords'] = topics_df0.index.map(id_to_topicword0)\n",
        "# topics_df0['SubtopicKeywords'] = topics_df0.index.map(id_to_subtopicword0)\n",
        "\n",
        "# topics_df0['Super3'] = topics_df0['SupertopicKeywords'].apply(lambda x: ', '.join(x[:3]))\n",
        "# topics_df0['Sub3'] = topics_df0['SubtopicKeywords'].apply(lambda x: ', '.join(x[:3]))"
      ],
      "execution_count": null,
      "outputs": []
    },
    {
      "cell_type": "code",
      "source": [
        "topics_df = pd.DataFrame(index = fields_df.Id)\n",
        "topics_df['SupertopicId_before'] = topics_df.index.map(supertopics_dict_before)\n",
        "topics_df['SubtopicId_before'] = topics_df.index.map(subtopics_dict_before)\n",
        "topics_df['SupertopicKeywords_before'] = topics_df.index.map(id_to_topicword_before)\n",
        "topics_df['SubtopicKeywords_before'] = topics_df.index.map(id_to_subtopicword_before)"
      ],
      "metadata": {
        "id": "k1HVa9HBAYqM"
      },
      "execution_count": null,
      "outputs": []
    },
    {
      "cell_type": "code",
      "source": [
        "topics_df.head()"
      ],
      "metadata": {
        "colab": {
          "base_uri": "https://localhost:8080/",
          "height": 333
        },
        "id": "xllbLitnA03a",
        "outputId": "b8006769-c400-47b3-a3e6-50549be47f3f"
      },
      "execution_count": null,
      "outputs": [
        {
          "output_type": "execute_result",
          "data": {
            "text/html": [
              "\n",
              "  <div id=\"df-4f1e5c1c-2470-495f-9142-3ed13becb7f9\">\n",
              "    <div class=\"colab-df-container\">\n",
              "      <div>\n",
              "<style scoped>\n",
              "    .dataframe tbody tr th:only-of-type {\n",
              "        vertical-align: middle;\n",
              "    }\n",
              "\n",
              "    .dataframe tbody tr th {\n",
              "        vertical-align: top;\n",
              "    }\n",
              "\n",
              "    .dataframe thead th {\n",
              "        text-align: right;\n",
              "    }\n",
              "</style>\n",
              "<table border=\"1\" class=\"dataframe\">\n",
              "  <thead>\n",
              "    <tr style=\"text-align: right;\">\n",
              "      <th></th>\n",
              "      <th>SupertopicId_before</th>\n",
              "      <th>SubtopicId_before</th>\n",
              "      <th>SupertopicKeywords_before</th>\n",
              "      <th>SubtopicKeywords_before</th>\n",
              "    </tr>\n",
              "    <tr>\n",
              "      <th>Id</th>\n",
              "      <th></th>\n",
              "      <th></th>\n",
              "      <th></th>\n",
              "      <th></th>\n",
              "    </tr>\n",
              "  </thead>\n",
              "  <tbody>\n",
              "    <tr>\n",
              "      <th>1999653836</th>\n",
              "      <td>13.0</td>\n",
              "      <td>2.0</td>\n",
              "      <td>[brain, function, mind, neuroscience, neural]</td>\n",
              "      <td>[network, functional, area, brain, connectivity]</td>\n",
              "    </tr>\n",
              "    <tr>\n",
              "      <th>10833075</th>\n",
              "      <td>NaN</td>\n",
              "      <td>NaN</td>\n",
              "      <td>NaN</td>\n",
              "      <td>NaN</td>\n",
              "    </tr>\n",
              "    <tr>\n",
              "      <th>2163480486</th>\n",
              "      <td>9.0</td>\n",
              "      <td>6.0</td>\n",
              "      <td>[development, review, science, problem, work]</td>\n",
              "      <td>[cell, cellular, protein, molecule, tissue]</td>\n",
              "    </tr>\n",
              "    <tr>\n",
              "      <th>3022532439</th>\n",
              "      <td>2.0</td>\n",
              "      <td>4.0</td>\n",
              "      <td>[action, agent, motor, social, belief]</td>\n",
              "      <td>[motor, imitation, mirror_neuron, action, repr...</td>\n",
              "    </tr>\n",
              "    <tr>\n",
              "      <th>2439568532</th>\n",
              "      <td>NaN</td>\n",
              "      <td>NaN</td>\n",
              "      <td>NaN</td>\n",
              "      <td>NaN</td>\n",
              "    </tr>\n",
              "  </tbody>\n",
              "</table>\n",
              "</div>\n",
              "      <button class=\"colab-df-convert\" onclick=\"convertToInteractive('df-4f1e5c1c-2470-495f-9142-3ed13becb7f9')\"\n",
              "              title=\"Convert this dataframe to an interactive table.\"\n",
              "              style=\"display:none;\">\n",
              "        \n",
              "  <svg xmlns=\"http://www.w3.org/2000/svg\" height=\"24px\"viewBox=\"0 0 24 24\"\n",
              "       width=\"24px\">\n",
              "    <path d=\"M0 0h24v24H0V0z\" fill=\"none\"/>\n",
              "    <path d=\"M18.56 5.44l.94 2.06.94-2.06 2.06-.94-2.06-.94-.94-2.06-.94 2.06-2.06.94zm-11 1L8.5 8.5l.94-2.06 2.06-.94-2.06-.94L8.5 2.5l-.94 2.06-2.06.94zm10 10l.94 2.06.94-2.06 2.06-.94-2.06-.94-.94-2.06-.94 2.06-2.06.94z\"/><path d=\"M17.41 7.96l-1.37-1.37c-.4-.4-.92-.59-1.43-.59-.52 0-1.04.2-1.43.59L10.3 9.45l-7.72 7.72c-.78.78-.78 2.05 0 2.83L4 21.41c.39.39.9.59 1.41.59.51 0 1.02-.2 1.41-.59l7.78-7.78 2.81-2.81c.8-.78.8-2.07 0-2.86zM5.41 20L4 18.59l7.72-7.72 1.47 1.35L5.41 20z\"/>\n",
              "  </svg>\n",
              "      </button>\n",
              "      \n",
              "  <style>\n",
              "    .colab-df-container {\n",
              "      display:flex;\n",
              "      flex-wrap:wrap;\n",
              "      gap: 12px;\n",
              "    }\n",
              "\n",
              "    .colab-df-convert {\n",
              "      background-color: #E8F0FE;\n",
              "      border: none;\n",
              "      border-radius: 50%;\n",
              "      cursor: pointer;\n",
              "      display: none;\n",
              "      fill: #1967D2;\n",
              "      height: 32px;\n",
              "      padding: 0 0 0 0;\n",
              "      width: 32px;\n",
              "    }\n",
              "\n",
              "    .colab-df-convert:hover {\n",
              "      background-color: #E2EBFA;\n",
              "      box-shadow: 0px 1px 2px rgba(60, 64, 67, 0.3), 0px 1px 3px 1px rgba(60, 64, 67, 0.15);\n",
              "      fill: #174EA6;\n",
              "    }\n",
              "\n",
              "    [theme=dark] .colab-df-convert {\n",
              "      background-color: #3B4455;\n",
              "      fill: #D2E3FC;\n",
              "    }\n",
              "\n",
              "    [theme=dark] .colab-df-convert:hover {\n",
              "      background-color: #434B5C;\n",
              "      box-shadow: 0px 1px 3px 1px rgba(0, 0, 0, 0.15);\n",
              "      filter: drop-shadow(0px 1px 2px rgba(0, 0, 0, 0.3));\n",
              "      fill: #FFFFFF;\n",
              "    }\n",
              "  </style>\n",
              "\n",
              "      <script>\n",
              "        const buttonEl =\n",
              "          document.querySelector('#df-4f1e5c1c-2470-495f-9142-3ed13becb7f9 button.colab-df-convert');\n",
              "        buttonEl.style.display =\n",
              "          google.colab.kernel.accessAllowed ? 'block' : 'none';\n",
              "\n",
              "        async function convertToInteractive(key) {\n",
              "          const element = document.querySelector('#df-4f1e5c1c-2470-495f-9142-3ed13becb7f9');\n",
              "          const dataTable =\n",
              "            await google.colab.kernel.invokeFunction('convertToInteractive',\n",
              "                                                     [key], {});\n",
              "          if (!dataTable) return;\n",
              "\n",
              "          const docLinkHtml = 'Like what you see? Visit the ' +\n",
              "            '<a target=\"_blank\" href=https://colab.research.google.com/notebooks/data_table.ipynb>data table notebook</a>'\n",
              "            + ' to learn more about interactive tables.';\n",
              "          element.innerHTML = '';\n",
              "          dataTable['output_type'] = 'display_data';\n",
              "          await google.colab.output.renderOutput(dataTable, element);\n",
              "          const docLink = document.createElement('div');\n",
              "          docLink.innerHTML = docLinkHtml;\n",
              "          element.appendChild(docLink);\n",
              "        }\n",
              "      </script>\n",
              "    </div>\n",
              "  </div>\n",
              "  "
            ],
            "text/plain": [
              "            SupertopicId_before  ...                            SubtopicKeywords_before\n",
              "Id                               ...                                                   \n",
              "1999653836                 13.0  ...   [network, functional, area, brain, connectivity]\n",
              "10833075                    NaN  ...                                                NaN\n",
              "2163480486                  9.0  ...        [cell, cellular, protein, molecule, tissue]\n",
              "3022532439                  2.0  ...  [motor, imitation, mirror_neuron, action, repr...\n",
              "2439568532                  NaN  ...                                                NaN\n",
              "\n",
              "[5 rows x 4 columns]"
            ]
          },
          "metadata": {},
          "execution_count": 36
        }
      ]
    },
    {
      "cell_type": "code",
      "metadata": {
        "id": "0yszTvhFjpCE"
      },
      "source": [
        "# save\n",
        "with open(os.path.join(DRIVE_PATH,'nextstep', 'topics_df_220122.pkl'),'wb') as f:\n",
        "    pickle.dump(topics_df,f)"
      ],
      "execution_count": null,
      "outputs": []
    },
    {
      "cell_type": "code",
      "source": [
        "# with open(os.path.join(DRIVE_PATH, 'topics_df_new.pkl'), 'rb') as file:\n",
        "#     topics_df = pickle.load(file)"
      ],
      "metadata": {
        "id": "bPrUXFL6jpCE"
      },
      "execution_count": null,
      "outputs": []
    },
    {
      "cell_type": "markdown",
      "source": [
        "# Topic Modeling on the whole dataset"
      ],
      "metadata": {
        "id": "FCrxVzTAjPHg"
      }
    },
    {
      "cell_type": "markdown",
      "metadata": {
        "id": "NXhmhIxfHrtj"
      },
      "source": [
        "##Phrase Modeling: Bigram and Trigram Models"
      ]
    },
    {
      "cell_type": "code",
      "metadata": {
        "colab": {
          "base_uri": "https://localhost:8080/"
        },
        "id": "8XGHPdeIHd9Z",
        "outputId": "ef66941a-1de9-4135-f1c4-cdef4f4c562a"
      },
      "source": [
        "# Build the bigram and trigram models\n",
        "bigram = gensim.models.Phrases(data_words, min_count=20, threshold=10) # higher threshold fewer phrases.\n",
        "bigram_mod = gensim.models.phrases.Phraser(bigram)\n",
        "trigram = gensim.models.Phrases(bigram[data_words], min_count=20, threshold=10)\n",
        "# Faster way to get a sentence clubbed as a trigram/bigram\n",
        "trigram_mod = gensim.models.phrases.Phraser(trigram)\n",
        "print(len(bigram.vocab))\n",
        "print(len(trigram.vocab))\n",
        "print(len(trigram_mod.phrasegrams))"
      ],
      "execution_count": null,
      "outputs": [
        {
          "output_type": "stream",
          "name": "stderr",
          "text": [
            "/usr/local/lib/python3.7/dist-packages/gensim/models/phrases.py:598: UserWarning: For a faster implementation, use the gensim.models.phrases.Phraser class\n",
            "  warnings.warn(\"For a faster implementation, use the gensim.models.phrases.Phraser class\")\n"
          ]
        },
        {
          "output_type": "stream",
          "name": "stdout",
          "text": [
            "1539348\n",
            "1661152\n",
            "5741\n"
          ]
        }
      ]
    },
    {
      "cell_type": "code",
      "metadata": {
        "id": "OwqU9mXHH_uW"
      },
      "source": [
        "# Define functions for bigrams and trigrams\n",
        "def make_trigrams(texts):\n",
        "    return [trigram_mod[bigram_mod[doc]] for doc in texts]"
      ],
      "execution_count": null,
      "outputs": []
    },
    {
      "cell_type": "code",
      "metadata": {
        "id": "_rpiEESAUrsh"
      },
      "source": [
        "data_words_trigrams = make_trigrams(data_words)\n",
        "transformed_text = [' '.join(doc) for doc in data_words_trigrams]"
      ],
      "execution_count": null,
      "outputs": []
    },
    {
      "cell_type": "markdown",
      "metadata": {
        "id": "L1qGw1YexcfD"
      },
      "source": [
        "## TF-IDF Bag of words"
      ]
    },
    {
      "cell_type": "code",
      "metadata": {
        "colab": {
          "base_uri": "https://localhost:8080/"
        },
        "id": "BRamw7wkTnO5",
        "outputId": "a5a00c3f-bd88-4bb7-f1ca-90b457630139"
      },
      "source": [
        "vectorizer = TfidfVectorizer(stop_words = stopwords_list,\n",
        "                             max_df = 0.80, #remove words that appear in more than x% of documents\n",
        "                             min_df = 0.0005, #remove words that appear in less than x% of documents\n",
        "                             )\n",
        "vectors = vectorizer.fit_transform(transformed_text).transpose()\n",
        "print(vectors.shape)\n",
        "idx_to_word = np.array(vectorizer.get_feature_names()) #dictionary to recover topics"
      ],
      "execution_count": null,
      "outputs": [
        {
          "output_type": "stream",
          "name": "stdout",
          "text": [
            "(9098, 59384)\n"
          ]
        },
        {
          "output_type": "stream",
          "name": "stderr",
          "text": [
            "/usr/local/lib/python3.7/dist-packages/sklearn/utils/deprecation.py:87: FutureWarning: Function get_feature_names is deprecated; get_feature_names is deprecated in 1.0 and will be removed in 1.2. Please use get_feature_names_out instead.\n",
            "  warnings.warn(msg, category=FutureWarning)\n"
          ]
        }
      ]
    },
    {
      "cell_type": "markdown",
      "metadata": {
        "id": "mkA_KIMATg3j"
      },
      "source": [
        "##Hierarchical NMF on Transformed Data"
      ]
    },
    {
      "cell_type": "markdown",
      "metadata": {
        "id": "ICyfCEB2yMi5"
      },
      "source": [
        "### NMF level 1"
      ]
    },
    {
      "cell_type": "code",
      "metadata": {
        "colab": {
          "base_uri": "https://localhost:8080/"
        },
        "outputId": "efb080cf-5d78-4f50-ea2f-13363acba849",
        "id": "Lbkja2KCAT8S"
      },
      "source": [
        "num_topics = 50\n",
        "nmf0 = NMF(n_components=num_topics, \n",
        "           init='random', \n",
        "           random_state=2021, \n",
        "           max_iter=500, \n",
        "           tol=1e-5, \n",
        "           alpha=0.01)\n",
        "W0 = nmf0.fit_transform(vectors)\n",
        "H0 = nmf0.components_\n",
        "\n",
        "for i, topic in enumerate(W0.transpose()):\n",
        "    print(\"Topic {}: {}\\n\".format(i,\", \".join(reversed(idx_to_word[topic.argsort()[-30:].astype(int)]))))\n",
        "    print(\"Topic {}: {}\\n\".format(i, \", \".join(reversed(np.round(topic[topic.argsort()[-30:].astype(int)], 4).astype(str)))))"
      ],
      "execution_count": null,
      "outputs": [
        {
          "output_type": "stream",
          "name": "stderr",
          "text": [
            "/usr/local/lib/python3.7/dist-packages/sklearn/decomposition/_nmf.py:1425: FutureWarning: `alpha` was deprecated in version 1.0 and will be removed in 1.2. Use `alpha_W` and `alpha_H` instead\n",
            "  FutureWarning,\n",
            "/usr/local/lib/python3.7/dist-packages/sklearn/decomposition/_nmf.py:1641: ConvergenceWarning: Maximum number of iterations 500 reached. Increase it to improve convergence.\n",
            "  ConvergenceWarning,\n"
          ]
        },
        {
          "output_type": "stream",
          "name": "stdout",
          "text": [
            "Topic 0: process, involve, unconscious, mental, conscious, psychological, underlie, complex, thinking, understand, dynamic, thought, decision_making, describe, stage, think, role, change, construction, occur, decision, influence, nature, automatic, creative, type, formation, selection, reading, operate\n",
            "\n",
            "Topic 0: 3.9025, 0.3249, 0.2233, 0.2182, 0.1801, 0.1597, 0.146, 0.1387, 0.1382, 0.1302, 0.1297, 0.129, 0.1265, 0.1178, 0.1122, 0.1114, 0.1022, 0.0977, 0.0926, 0.092, 0.0906, 0.0905, 0.0871, 0.0866, 0.0849, 0.0815, 0.0801, 0.0767, 0.0722, 0.072\n",
            "\n",
            "Topic 1: communication, signal, communicative, meaning, speech, interaction, message, gesture, communicate, medium, form, receiver, multimodal, mean, discourse, pragmatic, sign, dialogue, share, conversation, semiotic, face, technology, act, speech_act, emergence, symbolic, mode, sender, channel\n",
            "\n",
            "Topic 1: 3.2813, 0.5407, 0.338, 0.3191, 0.2541, 0.2317, 0.2215, 0.2147, 0.2097, 0.2048, 0.1548, 0.1505, 0.1295, 0.1246, 0.1222, 0.1217, 0.1191, 0.114, 0.1137, 0.1125, 0.1053, 0.0941, 0.0938, 0.0871, 0.0836, 0.0788, 0.0781, 0.0776, 0.077, 0.0744\n",
            "\n",
            "Topic 2: action, motor, goal, intention, mirror_neuron, imitation, others, act, execution, perform, understanding, event, plan, activity, affordances, planning, observation, sequence, simulation, actor, gesture, understand, sensorimotor, involve, embodied, mirror_neuron_system, verb, joint_action, agency, execute\n",
            "\n",
            "Topic 2: 3.8821, 0.3141, 0.2494, 0.2228, 0.1845, 0.1744, 0.1666, 0.1487, 0.1401, 0.1355, 0.1308, 0.1305, 0.1212, 0.1184, 0.1105, 0.1095, 0.108, 0.1043, 0.1026, 0.1009, 0.09, 0.0847, 0.0841, 0.0805, 0.0743, 0.0741, 0.0736, 0.0733, 0.0713, 0.0712\n",
            "\n",
            "Topic 3: social, individual, social_interaction, group, interaction, cultural, others, people, culture, collective, robot, neuroscience, society, influence, socially, behaviour, context, primate, identity, share, sociality, relationship, psychology, simulation, role, cooperation, face, interpersonal, imitation, understanding\n",
            "\n",
            "Topic 3: 3.6949, 0.3526, 0.2772, 0.2463, 0.2185, 0.2032, 0.1641, 0.1619, 0.1482, 0.1439, 0.1357, 0.1263, 0.1245, 0.113, 0.1093, 0.1072, 0.1017, 0.0955, 0.0844, 0.0798, 0.0786, 0.0749, 0.0702, 0.0693, 0.0658, 0.0635, 0.0633, 0.0613, 0.0609, 0.06\n",
            "\n",
            "Topic 4: learning, learn, learner, student, environment, education, teaching, educational, skill, teach, instruction, strategy, based, teacher, acquire, transfer, instructional, practice, acquisition, change, sequence, category, rule, classroom, context, training, principle, enhance, active, pedagogical\n",
            "\n",
            "Topic 4: 2.5335, 2.0596, 0.383, 0.3142, 0.2325, 0.2168, 0.148, 0.1405, 0.1263, 0.1241, 0.1212, 0.1062, 0.1046, 0.0967, 0.094, 0.0933, 0.0922, 0.0901, 0.0862, 0.0856, 0.0849, 0.0823, 0.0799, 0.0791, 0.0718, 0.0715, 0.0679, 0.0645, 0.0635, 0.0629\n",
            "\n",
            "Topic 5: task, performance, perform, attention, ability, strategy, require, participant, control, measure, wm, different, complex, goal, test, domain, decision, involve, subject, component, specific, cue, expert, solve, training, activity, decision_making, complexity, skill, across\n",
            "\n",
            "Topic 5: 2.6097, 0.7459, 0.2641, 0.2432, 0.194, 0.165, 0.1649, 0.1623, 0.1438, 0.1426, 0.1416, 0.1382, 0.1286, 0.1194, 0.1186, 0.1094, 0.1048, 0.1043, 0.103, 0.0993, 0.099, 0.0979, 0.0975, 0.0966, 0.0962, 0.0953, 0.0921, 0.0912, 0.0911, 0.091\n",
            "\n",
            "Topic 6: information, information_processing, sensory, store, informational, retrieval, source, relevant, shannon, environment, storage, encode, signal, transfer, integrate, represent, available, content, integration, contain, acquire, semantic, text, way, access, retrieve, amount, receive, transmission, energy\n",
            "\n",
            "Topic 6: 2.9352, 0.1568, 0.1303, 0.1214, 0.1018, 0.0873, 0.086, 0.0836, 0.0813, 0.0786, 0.0775, 0.0771, 0.0723, 0.0683, 0.0639, 0.0633, 0.0575, 0.0572, 0.0546, 0.0526, 0.0493, 0.0461, 0.0457, 0.0428, 0.0428, 0.0426, 0.0421, 0.0416, 0.0415, 0.0414\n",
            "\n",
            "Topic 7: analysis, method, data, student, mathematical, tool, technique, activity, image, practice, understanding, apply, develop, text, application, mathematics, analyze, methodology, scientific, experimental, describe, statistical, interpretation, teach, discourse, group, thinking, subject, example, quantitative\n",
            "\n",
            "Topic 7: 1.7041, 1.4283, 0.8122, 0.7103, 0.4945, 0.4815, 0.4016, 0.2961, 0.2578, 0.2191, 0.2184, 0.2132, 0.1974, 0.1972, 0.1967, 0.1903, 0.1838, 0.1833, 0.1654, 0.1529, 0.1478, 0.1469, 0.1408, 0.1359, 0.1247, 0.1245, 0.1231, 0.1209, 0.1209, 0.1204\n",
            "\n",
            "Topic 8: consciousness, conscious, state, unconscious, machine, awareness, quantum, conscious_experience, attention, physical, neural_correlate, phenomenal, scientific, content, access, phenomenal_consciousness, hard_problem, subjective, propose, conscious_state, dream, stream, artificial, philosophical, qualia, aspect, neural, subjective_experience, phenomenon, property\n",
            "\n",
            "Topic 8: 2.9481, 0.473, 0.2336, 0.1727, 0.1634, 0.157, 0.1535, 0.15, 0.1048, 0.0982, 0.0965, 0.095, 0.0922, 0.0887, 0.0874, 0.0848, 0.0753, 0.0748, 0.0709, 0.0698, 0.0696, 0.0686, 0.0634, 0.0624, 0.062, 0.0576, 0.0555, 0.0518, 0.0514, 0.0507\n",
            "\n",
            "Topic 9: model, propose, modeling, describe, based, mental, computational_model, simulation, mathematical, develop, data, prediction, computational, modelling, neural_network, formal, account, theoretical, dynamic, simulate, phenomenon, construct, models, build, implement, bayesian, stage, simple, incorporate, architecture\n",
            "\n",
            "Topic 9: 3.0951, 0.1629, 0.1444, 0.138, 0.1202, 0.118, 0.1166, 0.1134, 0.1129, 0.1044, 0.0838, 0.082, 0.0791, 0.073, 0.0714, 0.067, 0.0647, 0.0631, 0.062, 0.0596, 0.0568, 0.054, 0.0501, 0.0499, 0.0492, 0.047, 0.0468, 0.0468, 0.0462, 0.0453\n",
            "\n",
            "Topic 10: space, spatial, time, temporal, map, navigation, environment, hippocampus, relation, place, location, dimension, event, mapping, physical, hippocampal, architecture, orientation, mental, people, frame, landmark, place_cell, represent, dynamic, egocentric, architectural, distance, geometry, virtual\n",
            "\n",
            "Topic 10: 1.8553, 1.7663, 0.8063, 0.403, 0.3596, 0.1557, 0.1296, 0.1286, 0.1283, 0.1206, 0.1203, 0.1139, 0.1099, 0.1012, 0.0931, 0.0858, 0.0755, 0.0752, 0.0747, 0.0715, 0.0652, 0.0634, 0.0596, 0.0591, 0.0587, 0.0565, 0.0543, 0.0536, 0.0515, 0.051\n",
            "\n",
            "Topic 11: logic, reason, reasoning, belief, logical, inference, formal, semantics, argument, rule, thinking, reason_about, mathematical, causal, form, mental, argumentation, conclusion, ai, make, give, show, epistemic, mathematics, philosophy, think, premise, intuition, thought, rational\n",
            "\n",
            "Topic 11: 1.5086, 1.1828, 1.1141, 0.8503, 0.6319, 0.4304, 0.3278, 0.2537, 0.2529, 0.2232, 0.2183, 0.2167, 0.201, 0.1974, 0.1867, 0.1747, 0.1585, 0.1582, 0.156, 0.1383, 0.13, 0.127, 0.1244, 0.1244, 0.1175, 0.117, 0.117, 0.117, 0.1141, 0.1126\n",
            "\n",
            "Topic 12: music, musical, sound, performance, auditory, listener, musician, rhythm, art, composition, pitch, musicology, composer, culture, listen, piece, computer, improvisation, acoustic, performer, listening, melody, generative, compositional, practice, rhythmic, instrument, aesthetic, tonal, form\n",
            "\n",
            "Topic 12: 2.6428, 1.1858, 0.327, 0.1549, 0.1304, 0.1264, 0.1255, 0.1175, 0.1075, 0.0966, 0.0942, 0.0901, 0.0885, 0.0856, 0.0841, 0.0803, 0.0755, 0.0705, 0.0678, 0.0657, 0.0652, 0.0624, 0.0586, 0.0583, 0.0582, 0.0572, 0.0566, 0.0565, 0.0562, 0.0562\n",
            "\n",
            "Topic 13: cognitive, ability, cognitive_science, map, capacity, domain, tool, skill, information_processing, processing, control, modeling, cognitive_psychology, cognitive_architecture, operation, framework, cognitive_neuroscience, resource, activity, strategy, environment, such_as, computational, support, cognitive_linguistics, cognitively, engineering, component, problem_solving, develop\n",
            "\n",
            "Topic 13: 3.0058, 0.1507, 0.1237, 0.1236, 0.0846, 0.0831, 0.0785, 0.0677, 0.0662, 0.0653, 0.0652, 0.0647, 0.0642, 0.0618, 0.0606, 0.0584, 0.0553, 0.0527, 0.0494, 0.0459, 0.0457, 0.0455, 0.0452, 0.0438, 0.0428, 0.0416, 0.0404, 0.0398, 0.0384, 0.0384\n",
            "\n",
            "Topic 14: emotion, emotional, affective, affect, emotions, appraisal, expression, robot, recognition, basic, decision_making, facial_expression, feeling, emotional_state, architecture, emotion_regulation, personality, express, psychological, state, propose, motivation, facial, recognize, psychology, affective_computing, aspect, computational_model, role, user\n",
            "\n",
            "Topic 14: 2.9486, 0.5022, 0.2089, 0.1316, 0.1303, 0.1157, 0.1026, 0.099, 0.0931, 0.0911, 0.0897, 0.0883, 0.0873, 0.0848, 0.0798, 0.0751, 0.0645, 0.064, 0.0537, 0.0517, 0.0489, 0.0475, 0.0453, 0.0453, 0.0444, 0.0441, 0.0429, 0.0415, 0.0408, 0.0405\n",
            "\n",
            "Topic 15: creativity, creative, idea, art, computational, novel, novelty, generation, creative_thinking, artistic, generate, innovation, creation, imagination, artist, domain, individual, analogy, produce, explore, thinking, insight, divergent_thinking, generative, product, solution, ability, measure, computer, support\n",
            "\n",
            "Topic 15: 2.3982, 1.3425, 0.3641, 0.2748, 0.1613, 0.1424, 0.1368, 0.1277, 0.1117, 0.1012, 0.0995, 0.0912, 0.0898, 0.0879, 0.0864, 0.0808, 0.0805, 0.0797, 0.0708, 0.0703, 0.069, 0.066, 0.0656, 0.0651, 0.065, 0.0646, 0.063, 0.0623, 0.0614, 0.0608\n",
            "\n",
            "Topic 16: agent, belief, environment, interaction, architecture, behaviour, world, intention, goal, based, artificial_agent, dynamic, simulation, bdi, state, multi_agent, artificial, notion, framework, dialogue, autonomous, society, agents, result, agency, reason_about, capability, introduce, mental_state, autonomous_agent\n",
            "\n",
            "Topic 16: 2.7912, 0.2676, 0.2358, 0.2068, 0.1727, 0.1505, 0.1331, 0.1291, 0.1288, 0.1277, 0.1192, 0.1112, 0.1076, 0.105, 0.1042, 0.097, 0.0961, 0.0896, 0.0873, 0.0856, 0.0849, 0.0833, 0.0823, 0.0811, 0.0791, 0.0781, 0.0773, 0.076, 0.0709, 0.0704\n",
            "\n",
            "Topic 17: function, functional, role, dream, serve, cortical, play, hippocampus, neural, high, structural, localization, physiological, specific, nervous_system, physiology, perform, anatomical, understand, form, cerebellum, clinical, cerebellar, region, hippocampal, sleep, brain_region, mental, cortex, protein\n",
            "\n",
            "Topic 17: 2.7103, 0.5262, 0.2749, 0.1098, 0.0911, 0.0886, 0.0885, 0.0878, 0.0875, 0.0861, 0.0842, 0.0832, 0.0781, 0.0764, 0.0751, 0.0727, 0.0722, 0.0689, 0.0627, 0.0624, 0.0598, 0.0574, 0.055, 0.0548, 0.0546, 0.0538, 0.0536, 0.0532, 0.0529, 0.0529\n",
            "\n",
            "Topic 18: behavior, behavioral, skinner, analysis, environment, complex, individual, organism, verbal, goal, psychology, response, adaptive, principle, behaviorism, influence, control, pattern, event, neural, decision_making, understand, operant, organization, stimulus, dynamic, choice, psychological, behaviorist, motivation\n",
            "\n",
            "Topic 18: 2.8474, 0.6358, 0.1522, 0.1429, 0.1422, 0.1083, 0.0973, 0.0955, 0.0923, 0.0882, 0.0822, 0.0802, 0.0796, 0.074, 0.0726, 0.0651, 0.0611, 0.0604, 0.06, 0.0593, 0.0585, 0.0567, 0.056, 0.0548, 0.0514, 0.051, 0.051, 0.0508, 0.05, 0.0486\n",
            "\n",
            "Topic 19: intelligence, ai, artificial_intelligence, test, intelligent, machine, ability, turing, computer, natural, artificial, turing_test, general_intelligence, artificial_intelligence_ai, computing, psychometric, abstract, cognitive_informatics, individual_difference, intellectual, sternberg, information_processing, general, measure, fluid, intelligent_behavior, construct, gardner, need, define\n",
            "\n",
            "Topic 19: 2.7518, 0.4252, 0.2441, 0.1924, 0.172, 0.1707, 0.165, 0.1188, 0.1084, 0.0986, 0.0944, 0.092, 0.0843, 0.0825, 0.0801, 0.0698, 0.0688, 0.0679, 0.0657, 0.065, 0.0601, 0.0585, 0.0534, 0.0529, 0.0529, 0.0524, 0.0524, 0.0522, 0.0514, 0.0513\n",
            "\n",
            "Topic 20: knowledge, domain, acquire, conceptual, world, know, expert, acquisition, understanding, semantic, represent, knowledge_acquisition, implicit, skill, scientific, expertise, schema, explicit, text, epistemology, epistemic, based, construct, situation, knowledge_base, transfer, epistemological, people, construction, comprehension\n",
            "\n",
            "Topic 20: 2.9054, 0.2561, 0.1651, 0.1451, 0.1244, 0.1237, 0.1012, 0.101, 0.101, 0.0983, 0.0889, 0.0861, 0.0825, 0.0816, 0.0815, 0.0786, 0.0784, 0.0779, 0.0767, 0.0617, 0.0612, 0.0565, 0.0564, 0.0531, 0.053, 0.0517, 0.0517, 0.0516, 0.0512, 0.0486\n",
            "\n",
            "Topic 21: metaphor, metaphorical, conceptual_metaphor, metaphoric, analogy, conceptual, mapping, abstract, discourse, domain, computer, metaphors, interpretation, source, cognitive_linguistics, literal, understanding, metonymy, novel, meaning, lakoff, target_domain, scientific, thought, expression, this_article, linguistic, way, metaphorically, metaphor_comprehension\n",
            "\n",
            "Topic 21: 2.8271, 0.2658, 0.1814, 0.1405, 0.1371, 0.1235, 0.1021, 0.0983, 0.0975, 0.0942, 0.0922, 0.0899, 0.0852, 0.0845, 0.0844, 0.0812, 0.0683, 0.0622, 0.0622, 0.0615, 0.0611, 0.0604, 0.0585, 0.0568, 0.0567, 0.0565, 0.0552, 0.0538, 0.0526, 0.0524\n",
            "\n",
            "Topic 22: different, level, context, framework, view, conceptual, explanation, term, phenomenon, account, within, notion, perspective, domain, propose, way, dynamic, meaning, theoretical, property, principle, general, consider, type, idea, definition, paradigm, change, description, relation\n",
            "\n",
            "Topic 22: 0.9767, 0.9677, 0.9541, 0.7651, 0.6617, 0.5844, 0.5577, 0.5329, 0.5176, 0.4628, 0.4515, 0.4468, 0.3873, 0.3772, 0.3576, 0.3187, 0.3058, 0.2876, 0.259, 0.2527, 0.2474, 0.2414, 0.2217, 0.2167, 0.2157, 0.212, 0.2115, 0.2111, 0.2095, 0.206\n",
            "\n",
            "Topic 23: cognition, cognitive_science, embodied, view, computational, computation, embody, account, embodied_cognition, embodiment, symbolic, cognitive_architecture, enactive, perspective, extend, situate, information_processing, think, ground, affect, symbol, argument, thesis, quantum, role, connectionist, connectionism, challenge, comparative, nature\n",
            "\n",
            "Topic 23: 2.8861, 0.3271, 0.1624, 0.1621, 0.1455, 0.1362, 0.127, 0.0985, 0.0983, 0.0835, 0.0813, 0.072, 0.0702, 0.0686, 0.0682, 0.0675, 0.0585, 0.0559, 0.0524, 0.0509, 0.0508, 0.0499, 0.0498, 0.0484, 0.0472, 0.0472, 0.0466, 0.0439, 0.0438, 0.0412\n",
            "\n",
            "Topic 24: self, sense, others, self_awareness, narrative, identity, aspect, agency, reference, mirror, control, person, life, reflection, form, individual, personal, image, oneself, recognition, construct, self_referential, ego, subject, within, author, propose, include, capacity, one_own\n",
            "\n",
            "Topic 24: 2.8522, 0.1391, 0.1132, 0.1038, 0.1023, 0.0916, 0.0898, 0.0832, 0.0827, 0.0772, 0.0762, 0.0761, 0.0677, 0.0644, 0.0618, 0.0606, 0.0565, 0.0551, 0.0533, 0.0507, 0.0498, 0.0488, 0.0487, 0.045, 0.0436, 0.0436, 0.0435, 0.0433, 0.0432, 0.0429\n",
            "\n",
            "Topic 25: memory, retrieval, event, remember, hippocampus, store, episodic_memory, storage, recall, past, long_term_memory, hippocampal, collective, episodic, recollection, encode, formation, item, consolidation, recognition, retrieve, reconsolidation, capacity, form, declarative_memory, amnesia, mnemonic, implicit, future, semantic_memory\n",
            "\n",
            "Topic 25: 3.2881, 0.2305, 0.1818, 0.1742, 0.172, 0.1588, 0.1523, 0.151, 0.1492, 0.1245, 0.1092, 0.1012, 0.0968, 0.0909, 0.0846, 0.0819, 0.0796, 0.0792, 0.079, 0.0741, 0.0732, 0.0707, 0.0695, 0.0685, 0.0672, 0.066, 0.0623, 0.0607, 0.0601, 0.0585\n",
            "\n",
            "Topic 26: visual, vision, image, attention, processing, eye, art, stimulus, visual_perception, area, scene, feature, motion, color, pathway, visual_cortex, neuron, see, object_recognition, auditory, cortical, visualization, visually, retina, light, eye_movement, early, face, verbal, primate\n",
            "\n",
            "Topic 26: 2.882, 0.5716, 0.3408, 0.331, 0.1912, 0.1623, 0.151, 0.1482, 0.1383, 0.1274, 0.1063, 0.1029, 0.1017, 0.0938, 0.0935, 0.0899, 0.0866, 0.0849, 0.0702, 0.0698, 0.0688, 0.0685, 0.0668, 0.0663, 0.0658, 0.0649, 0.0628, 0.0621, 0.0618, 0.0613\n",
            "\n",
            "Topic 27: body, interaction, embodiment, embodied, environment, bodily, physical, robot, embody, technology, part, embodied_cognition, world, sense, image, perspective, gesture, body_schema, sensorimotor, practice, way, explore, robotics, shape, organism, organ, role, awareness, activity, tool\n",
            "\n",
            "Topic 27: 2.5808, 0.4382, 0.406, 0.3964, 0.3911, 0.2505, 0.2438, 0.1995, 0.1719, 0.1679, 0.161, 0.1384, 0.1347, 0.1341, 0.1249, 0.1094, 0.1062, 0.1039, 0.0981, 0.0974, 0.0949, 0.0906, 0.0839, 0.0755, 0.0712, 0.0711, 0.0706, 0.0684, 0.0668, 0.0665\n",
            "\n",
            "Topic 28: experience, event, world, way, narrative, sense, art, sensory, dream, people, user, content, create, reality, thought, phenomenology, life, story, character, change, emotional, form, experiential, presence, future, explore, time, digital, imagination, meaning\n",
            "\n",
            "Topic 28: 2.5814, 0.3982, 0.2745, 0.2545, 0.2509, 0.1861, 0.1859, 0.1703, 0.1608, 0.1342, 0.1285, 0.1185, 0.1159, 0.1156, 0.1147, 0.1103, 0.1042, 0.0975, 0.0973, 0.0913, 0.0908, 0.0908, 0.0901, 0.0892, 0.0889, 0.0878, 0.0875, 0.0844, 0.0843, 0.0842\n",
            "\n",
            "Topic 29: cell, biological, biology, life, disease, molecular, organism, cellular, gene, genetic, protein, complex, molecule, complexity, cancer, understand, understanding, tissue, principle, physical, physic, age, chemical, phenomenon, plant, discovery, dna, physiology, fundamental, molecular_biology\n",
            "\n",
            "Topic 29: 1.4261, 1.212, 0.8539, 0.6575, 0.4748, 0.4663, 0.4581, 0.4536, 0.4468, 0.3715, 0.3499, 0.3322, 0.264, 0.2599, 0.2517, 0.2452, 0.2428, 0.2331, 0.2159, 0.2153, 0.2024, 0.198, 0.1969, 0.19, 0.18, 0.1725, 0.1608, 0.1595, 0.1567, 0.1556\n",
            "\n",
            "Topic 30: brain, neuroscience, neural, activity, neuron, area, cognitive_neuroscience, fmri, neuroscientist, neuronal, neuroimaging, connectivity, plasticity, functional, change, image, functioning, neuroscientific, state, region, circuit, dynamic, connection, eeg, brain_region, understand, different, cortical, neural_network, disorder\n",
            "\n",
            "Topic 30: 3.2007, 0.3359, 0.2622, 0.2367, 0.1629, 0.1227, 0.119, 0.1033, 0.0999, 0.0989, 0.096, 0.0867, 0.0806, 0.0797, 0.079, 0.0755, 0.0726, 0.0705, 0.0695, 0.0691, 0.068, 0.0652, 0.0649, 0.0635, 0.0627, 0.0618, 0.0583, 0.0576, 0.0554, 0.0552\n",
            "\n",
            "Topic 31: game, play, player, narrative, role, video_game, story, character, chess, digital_game, strategy, computer_game, games, gameplay, gaming, explore, cooperation, interactive, ai, rule, medium, strategic, mechanic, an_important_role, signal, world, create, game_theoretic, engage, way\n",
            "\n",
            "Topic 31: 2.4885, 0.9441, 0.7152, 0.3741, 0.2655, 0.1662, 0.1661, 0.159, 0.1285, 0.1277, 0.112, 0.11, 0.1003, 0.0905, 0.0851, 0.0812, 0.0812, 0.079, 0.0755, 0.0704, 0.0675, 0.0654, 0.0623, 0.0621, 0.062, 0.0595, 0.0576, 0.0528, 0.0525, 0.0515\n",
            "\n",
            "Topic 32: child, developmental, age, adult, play, ability, early, infant, change, skill, understanding, piaget, gesture, develop, young_child, language_acquisition, year, number, acquisition, autism, speech, acquire, children, abstract, evidence, stage, year_olds, learn, understand, support\n",
            "\n",
            "Topic 32: 2.2753, 0.8844, 0.4755, 0.4518, 0.3942, 0.3372, 0.3248, 0.3039, 0.2337, 0.209, 0.1983, 0.1932, 0.178, 0.1736, 0.1685, 0.1462, 0.145, 0.1439, 0.1372, 0.1225, 0.1211, 0.1059, 0.1057, 0.1016, 0.1012, 0.0985, 0.0897, 0.0885, 0.0884, 0.0856\n",
            "\n",
            "Topic 33: language, linguistic, language_acquisition, processing, linguistics, speech, word, syntax, grammar, thought, meaning, acquisition, production, aspect, bilingual, second, sign, syntactic, natural_language, learner, speaker, origin, semantics, capacity, universal, acquire, symbol, sentence, grammatical, chomsky\n",
            "\n",
            "Topic 33: 3.3144, 0.473, 0.1723, 0.1633, 0.1522, 0.1522, 0.1166, 0.1071, 0.1046, 0.1045, 0.1031, 0.103, 0.0886, 0.0854, 0.085, 0.0823, 0.0808, 0.0794, 0.0768, 0.0696, 0.0682, 0.0678, 0.0671, 0.065, 0.0612, 0.0609, 0.0606, 0.0598, 0.0597, 0.0591\n",
            "\n",
            "Topic 34: structure, structural, pattern, organization, form, conceptual, linguistic, narrative, schema, story, category, material, causal, property, analogy, protein, sequence, relation, abstract, event, relationship, element, organize, represent, mapping, relational, grammar, unit, internal, constraint\n",
            "\n",
            "Topic 34: 2.7408, 0.249, 0.2439, 0.214, 0.1841, 0.1555, 0.1305, 0.1257, 0.1057, 0.0947, 0.0928, 0.0898, 0.0896, 0.0893, 0.0886, 0.0883, 0.0869, 0.0819, 0.0778, 0.0774, 0.076, 0.0759, 0.075, 0.073, 0.0726, 0.0725, 0.063, 0.0622, 0.0618, 0.0603\n",
            "\n",
            "Topic 35: experiment, effect, word, processing, result, stimulus, hypothesis, semantic, evidence, test, show, response, suggest, support, account, data, report, face, category, participant, item, find, recognition, abstract, finding, do_not, number, however, meaning, condition\n",
            "\n",
            "Topic 35: 1.0595, 0.9108, 0.882, 0.8566, 0.5861, 0.5293, 0.525, 0.5187, 0.4934, 0.4581, 0.4296, 0.4, 0.3474, 0.3266, 0.2541, 0.2444, 0.24, 0.238, 0.2289, 0.2234, 0.2215, 0.2128, 0.2118, 0.2106, 0.1969, 0.1939, 0.1917, 0.1895, 0.1878, 0.1851\n",
            "\n",
            "Topic 36: problem, solution, solve, question, problem_solving, analogy, answer, address, insight, strategy, face, difficulty, concern, deal_with, problem_solve, issue, give, computational, pose, attempt, do_not, raise, must, difficult, general, way, seem, find, require, philosophical\n",
            "\n",
            "Topic 36: 2.6899, 0.5711, 0.5198, 0.2104, 0.1754, 0.1551, 0.1432, 0.1319, 0.1307, 0.1283, 0.1267, 0.1093, 0.099, 0.0976, 0.0941, 0.0937, 0.0933, 0.0918, 0.0886, 0.087, 0.0845, 0.0766, 0.0759, 0.0753, 0.0749, 0.0736, 0.0718, 0.0685, 0.0653, 0.0643\n",
            "\n",
            "Topic 37: movement, control, motor, motor_control, coordination, dance, muscle, motion, hand, pattern, sensorimotor, sensory, move, feedback, speech, cerebellum, neural, sequence, motor_skill, dynamic, limb, arm, execution, rhythmic, behaviour, locomotion, imitation, performance, program, involve\n",
            "\n",
            "Topic 37: 2.1508, 1.3493, 1.0181, 0.2127, 0.1618, 0.1479, 0.1327, 0.1323, 0.1306, 0.1274, 0.1161, 0.1058, 0.1021, 0.0989, 0.09, 0.0865, 0.0852, 0.0785, 0.073, 0.0715, 0.0711, 0.0609, 0.0604, 0.0599, 0.0583, 0.0578, 0.0575, 0.0566, 0.0553, 0.0532\n",
            "\n",
            "Topic 38: mind, philosophy, mental, cognitive_science, thought, view, psychology, mental_state, world, think, idea, philosophical, philosopher, others, computer, computational, argument, understand, physical, thinking, psychological, nature, conception, quantum, book, scientific, capacity, way, matter, content\n",
            "\n",
            "Topic 38: 2.913, 0.3404, 0.3385, 0.2481, 0.2179, 0.189, 0.1657, 0.144, 0.1263, 0.1233, 0.1157, 0.1071, 0.1071, 0.1064, 0.0931, 0.0895, 0.0862, 0.0831, 0.0826, 0.0824, 0.0786, 0.0774, 0.075, 0.0725, 0.0714, 0.0706, 0.0698, 0.0693, 0.0677, 0.0673\n",
            "\n",
            "Topic 39: review, psychology, neuroscience, issue, question, area, theoretical, clinical, book, topic, current, literature, contribution, recent, scientific, important, author, discipline, cognitive_science, include, address, this_article, first, discussion, interest, make, this_chapter, highlight, future, advance\n",
            "\n",
            "Topic 39: 0.9831, 0.6653, 0.6414, 0.6402, 0.4971, 0.476, 0.3829, 0.3684, 0.3589, 0.3586, 0.3559, 0.3502, 0.3402, 0.3359, 0.3259, 0.3251, 0.3145, 0.3116, 0.3045, 0.299, 0.2987, 0.2933, 0.2808, 0.2681, 0.2649, 0.2617, 0.2565, 0.2524, 0.2517, 0.251\n",
            "\n",
            "Topic 40: animal, behaviour, specie, comparative, ability, question, signal, ethology, non, plant, bird, insect, behavioural, navigation, tool, different, sensory, mammal, vertebrate, capacity, primate, nonhuman_animal, whether, behavioral, food, laboratory, nervous_system, example, however, animals\n",
            "\n",
            "Topic 40: 2.7746, 0.375, 0.2629, 0.2037, 0.1925, 0.1605, 0.1516, 0.1493, 0.1313, 0.1289, 0.1169, 0.1164, 0.1161, 0.0969, 0.0963, 0.0944, 0.0918, 0.0851, 0.0828, 0.082, 0.0792, 0.0777, 0.075, 0.0746, 0.0744, 0.0742, 0.0728, 0.0716, 0.0707, 0.0688\n",
            "\n",
            "Topic 41: design, designer, interaction, technology, user, artifact, activity, practice, engineering, product, architecture, thinking, based, digital, interactive, environment, explore, hci, support, principle, computer, tool, artefact, material, sketch, project, interface, idea, create, framework\n",
            "\n",
            "Topic 41: 2.9765, 0.3513, 0.2859, 0.1856, 0.1795, 0.1641, 0.1547, 0.1471, 0.121, 0.1182, 0.1134, 0.1105, 0.1081, 0.1016, 0.0933, 0.0915, 0.0849, 0.0847, 0.0823, 0.0796, 0.0768, 0.0729, 0.0718, 0.071, 0.0708, 0.0703, 0.0688, 0.0675, 0.0665, 0.0654\n",
            "\n",
            "Topic 42: human, robot, machine, computer, ability, non, technology, like, primate, capacity, ai, understand, culture, capability, human_being, artificial, unique, artificial_intelligence, computer_interaction, could, modern, way, specie, humans, cultural, nature, interaction, natural, tool, create\n",
            "\n",
            "Topic 42: 3.2692, 0.3676, 0.3389, 0.2091, 0.1889, 0.1771, 0.1755, 0.135, 0.1344, 0.1275, 0.1249, 0.1233, 0.1068, 0.1042, 0.0825, 0.0817, 0.0806, 0.0758, 0.075, 0.0721, 0.0714, 0.0713, 0.0701, 0.0696, 0.0681, 0.068, 0.0637, 0.063, 0.0627, 0.0616\n",
            "\n",
            "Topic 43: mechanism, attention, propose, causal, computational, explanation, phenomenon, mechanistic, architecture, underlie, involve, mechanistic_explanation, neural, mechanisms, control, suggest, simulation, account, evidence, specific, attentional, component, operation, adaptation, hypothesis, review, implement, imitation, allow, require\n",
            "\n",
            "Topic 43: 2.7599, 0.2639, 0.1719, 0.1478, 0.1433, 0.1374, 0.1314, 0.1217, 0.1019, 0.0977, 0.0966, 0.0931, 0.092, 0.0895, 0.089, 0.0855, 0.0846, 0.0763, 0.0739, 0.0723, 0.067, 0.0645, 0.0643, 0.0623, 0.0598, 0.0591, 0.0589, 0.0575, 0.0557, 0.0539\n",
            "\n",
            "Topic 44: evolution, evolutionary, change, adaptation, evolve, developmental, selection, natural_selection, adaptive, environment, cultural, genetic, specie, organism, gene, culture, origin, trait, emergence, population, variation, biological, hypothesis, comparative, evolutionary_biology, individual, ecological, fitness, evolutionary_psychology, darwinian\n",
            "\n",
            "Topic 44: 2.092, 1.6295, 0.4496, 0.4112, 0.3736, 0.323, 0.293, 0.2855, 0.2767, 0.2683, 0.2465, 0.2344, 0.2319, 0.2232, 0.2201, 0.2141, 0.2066, 0.2035, 0.1859, 0.1726, 0.1724, 0.161, 0.1602, 0.1418, 0.141, 0.1408, 0.1402, 0.136, 0.1254, 0.1211\n",
            "\n",
            "Topic 45: object, property, category, feature, object_recognition, shape, physical, relation, part, infant, perceptual, identity, recognition, subject, location, represent, tool, world, scene, recognize, mathematical, name, perceive, categorization, show, entity, see, objects, individuation, view\n",
            "\n",
            "Topic 45: 3.0157, 0.1799, 0.1776, 0.1719, 0.1187, 0.1176, 0.1121, 0.1067, 0.104, 0.0976, 0.0938, 0.0906, 0.0905, 0.0868, 0.0847, 0.0842, 0.083, 0.0825, 0.0824, 0.0798, 0.0781, 0.076, 0.0719, 0.0682, 0.0661, 0.0656, 0.0655, 0.0653, 0.0589, 0.0567\n",
            "\n",
            "Topic 46: perception, perceptual, sensory, auditory, vision, stimulus, sound, environment, perceive, world, color, sens, processing, signal, sense, gibson, motion, direct, multisensory, property, visual_perception, view, psychophysics, illusion, sensation, conscious, percept, principle, affordances, modality\n",
            "\n",
            "Topic 46: 2.3904, 1.064, 0.7561, 0.321, 0.2745, 0.2071, 0.2065, 0.2016, 0.1748, 0.1734, 0.1664, 0.1664, 0.151, 0.1506, 0.1331, 0.1169, 0.1159, 0.1104, 0.1067, 0.1053, 0.1052, 0.099, 0.0988, 0.0965, 0.0956, 0.0905, 0.0868, 0.0854, 0.0839, 0.0827\n",
            "\n",
            "Topic 47: representation, represent, abstract, content, conceptual, support, form, mental_representation, semantic, neural, symbolic, symbol, number, role, numerical, format, perceptual, encode, ontology, propositional, feature, representations, multiple, evidence, issue, linguistic, share, involve, diagram, hippocampal\n",
            "\n",
            "Topic 47: 3.0122, 0.2477, 0.187, 0.1613, 0.1552, 0.1118, 0.1064, 0.1033, 0.1028, 0.0962, 0.0953, 0.087, 0.0827, 0.0826, 0.0698, 0.0696, 0.0676, 0.0644, 0.0612, 0.0609, 0.0609, 0.0571, 0.0533, 0.0516, 0.0506, 0.0502, 0.0478, 0.0475, 0.0472, 0.0467\n",
            "\n",
            "Topic 48: network, dynamic, complex, functional, connectivity, region, pattern, connection, large_scale, brain_region, graph, architecture, node, neural_network, functional_connectivity, semantic, interaction, area, structural, activation, property, hub, neuron, here_we, within, organization, global, small_world, neural, review\n",
            "\n",
            "Topic 48: 2.9389, 0.3348, 0.2238, 0.2125, 0.2054, 0.1999, 0.1586, 0.1487, 0.133, 0.1302, 0.1175, 0.1138, 0.1119, 0.1087, 0.1045, 0.1042, 0.0956, 0.0953, 0.0885, 0.0885, 0.0842, 0.0813, 0.0796, 0.0794, 0.0785, 0.0779, 0.0724, 0.0711, 0.0706, 0.0702\n",
            "\n",
            "Topic 49: system, complex, complexity, dynamic, artificial, component, systems, biological, control, emergence, property, general, natural, computational, develop, autonomous, symbol, describe, multiple, emergent, computer, neural, self_organization, organization, subsystem, physical, interact, systemic, adaptive, complex_adaptive\n",
            "\n",
            "Topic 49: 3.2927, 0.3109, 0.1381, 0.1379, 0.1305, 0.1206, 0.111, 0.104, 0.0997, 0.094, 0.089, 0.0818, 0.0806, 0.0804, 0.0796, 0.0736, 0.0682, 0.0652, 0.065, 0.0642, 0.0622, 0.0622, 0.0616, 0.0609, 0.06, 0.0581, 0.0559, 0.055, 0.0544, 0.053\n",
            "\n"
          ]
        }
      ]
    },
    {
      "cell_type": "code",
      "metadata": {
        "colab": {
          "base_uri": "https://localhost:8080/",
          "height": 342
        },
        "id": "T9we_XbvAT8W",
        "outputId": "196ada01-8b13-40fa-a43c-1a9c5b20f940"
      },
      "source": [
        "NMF_cluster = H0.argmax(axis=0)\n",
        "plt.figure(figsize=(7,5))\n",
        "plt.hist(NMF_cluster,bins=num_topics)\n",
        "plt.xlabel('NMF topic', fontsize=16)\n",
        "plt.ylabel('Number of papers in topic', fontsize=16)\n",
        "plt.show()"
      ],
      "execution_count": null,
      "outputs": [
        {
          "output_type": "display_data",
          "data": {
            "image/png": "[encoded data removed]",
            "text/plain": [
              "<Figure size 504x360 with 1 Axes>"
            ]
          },
          "metadata": {
            "needs_background": "light"
          }
        }
      ]
    },
    {
      "cell_type": "code",
      "source": [
        "# save\n",
        "with open(os.path.join(DRIVE_PATH,'nextstep', 'NMF_all_20220224.pkl'),'wb') as f:\n",
        "    pickle.dump((nmf0, W0, H0, idx_to_word, fields_df.Id), f)"
      ],
      "metadata": {
        "id": "TaRNhaluVveF"
      },
      "execution_count": null,
      "outputs": []
    },
    {
      "cell_type": "code",
      "metadata": {
        "id": "hUmmTBirOpMJ"
      },
      "source": [
        "supertopics_dict = dict(zip(fields_df.Id,NMF_cluster))\n",
        "supertopic_to_keyword = {i:list(idx_to_word[topic.argsort()[:-6:-1].astype(int)]) for i, topic in enumerate(W0.T)}\n",
        "id_to_topicword = {id:supertopic_to_keyword[supertopics_dict[id]] for id in fields_df.Id}"
      ],
      "execution_count": null,
      "outputs": []
    },
    {
      "cell_type": "code",
      "metadata": {
        "colab": {
          "base_uri": "https://localhost:8080/"
        },
        "id": "kpSYi-rDQpGG",
        "outputId": "b70e01e2-fdf6-405e-ecf1-7a0fc9e3bb13"
      },
      "source": [
        "{i:\", \".join(idx_to_word[topic.argsort()[:-6:-1].astype(int)]) for i, topic in enumerate(W0.T)}"
      ],
      "execution_count": null,
      "outputs": [
        {
          "output_type": "execute_result",
          "data": {
            "text/plain": [
              "{0: 'language, linguistic, communication, word, processing',\n",
              " 1: 'development, science, review, biological, problem',\n",
              " 2: 'action, agent, motor, perception, movement',\n",
              " 3: 'human, social, behavior, animal, robot',\n",
              " 4: 'learning, learn, knowledge, student, learner',\n",
              " 5: 'memory, work, retrieval, information, event',\n",
              " 6: 'visual, object, representation, information, spatial',\n",
              " 7: 'system, complex, information, biological, dynamic',\n",
              " 8: 'consciousness, conscious, mind, self, experience',\n",
              " 9: 'model, propose, agent, describe, based',\n",
              " 10: 'design, creativity, metaphor, creative, game',\n",
              " 11: 'music, musical, sound, perception, performance',\n",
              " 12: 'emotion, emotional, agent, affective, affect',\n",
              " 13: 'cognitive, cognition, process, mind, cognitive_science',\n",
              " 14: 'brain, network, function, neuroscience, neural'}"
            ]
          },
          "metadata": {},
          "execution_count": 20
        }
      ]
    },
    {
      "cell_type": "markdown",
      "metadata": {
        "id": "nXn-Fm1F0y-j"
      },
      "source": [
        "### NMF level 2"
      ]
    },
    {
      "cell_type": "code",
      "metadata": {
        "id": "_52w_qqazYip"
      },
      "source": [
        "# def run_level2_nmf(n_subtopics, topic_id, NMF_cluster):\n",
        "#   nmf = NMF(n_components=n_subtopics, init='random', random_state=0)\n",
        "\n",
        "#   subset = vectors[:, NMF_cluster==topic_id]\n",
        "#   print(subset.shape)\n",
        "#   W = nmf.fit_transform(subset)\n",
        "#   H = nmf.components_\n",
        "\n",
        "#   for i, topic in enumerate(W.transpose()):\n",
        "#     print(\"Topic {}: {}\\n\".format(i,\", \".join(reversed(idx_to_word[topic.argsort()[-30:].astype(int)]))))\n",
        "  \n",
        "#   return W, H\n",
        "\n",
        "# def update_subtopics_dict(topic_id, W, sub_NMF_cluster, fields_df, NMF_cluster, idx_to_word):\n",
        "#   subtopics_dict0 = dict(zip(fields_df.Id[NMF_cluster==topic_id], sub_NMF_cluster))\n",
        "#   subtopic_to_keyword0 = {i:list(idx_to_word[topic.argsort()[:-6:-1].astype(int)]) for i, topic in enumerate(W.T)}\n",
        "#   id_to_subtopicword0 = {id:subtopic_to_keyword0[subtopics_dict0[id]] for id in fields_df.Id[NMF_cluster==topic_id]}\n",
        "  \n",
        "#   subtopics_dict.update(subtopics_dict0)\n",
        "#   id_to_subtopicword.update(id_to_subtopicword0)\n"
      ],
      "execution_count": null,
      "outputs": []
    },
    {
      "cell_type": "code",
      "metadata": {
        "colab": {
          "base_uri": "https://localhost:8080/"
        },
        "id": "NIShUFB0XQlL",
        "outputId": "8a97f917-b38c-43fc-99c9-0fd21e6d4c0b"
      },
      "source": [
        "subtopics_dict = {}\n",
        "id_to_subtopicword = {}\n",
        "\n",
        "ns = [10, 10, 8, 8, 4, 10, 10, 10, 10, 10, 8, 10, 10, 10, 10]\n",
        "for id, n in enumerate(ns):\n",
        "  print('====')\n",
        "  print('topic id', id)\n",
        "  W, H = run_level2_nmf(vectors, n, id, NMF_cluster, idx_to_word)\n",
        "  sub_NMF_cluster0 = H.argmax(axis=0)\n",
        "  update_subtopics_dict(subtopics_dict, id_to_subtopicword, id, W, sub_NMF_cluster0, fields_df.Id, NMF_cluster, idx_to_word)"
      ],
      "execution_count": null,
      "outputs": [
        {
          "output_type": "stream",
          "name": "stdout",
          "text": [
            "====\n",
            "topic id 0\n",
            "(9106, 2502)\n",
            "Topic 0: language, brain, human, cognition, system, cognitive, learning, development, model, function, social, aspect, learn, understand, process, action, role, sign, way, play, show, understanding, influence, describe, spatial, universal, change, behavior, acquire, consider\n",
            "\n",
            "Topic 1: meaning, word, semantic, language, mean, agent, form, semantics, sentence, structure, game, expression, symbolic, model, show, world, compositional, term, context, utterance, conceptual, call, embodied, account, construction, express, describe, ground, provide, system\n",
            "\n",
            "Topic 2: processing, language, production, comprehension, network, region, syntactic, process, brain, sentence, area, phonological, aphasia, function, evidence, syntax, involve, language_comprehension, structure, neural, support, model, left, mechanism, review, may, broca, functional, system, level\n",
            "\n",
            "Topic 3: evolution, language, human, evolutionary, evolve, origin, emergence, capacity, cultural_evolution, hypothesis, specie, biological, animal, adaptation, change, syntax, mechanism, natural_selection, complex, cultural_transmission, ability, cultural, may, vocal, structure, model, genetic, suggest, evidence, population\n",
            "\n",
            "Topic 4: communication, communicative, pragmatic, language, animal, agent, communicate, human, system, ability, message, interaction, social, context, signal, speech_act, intention, explore, task, origin, symbol, make, develop, process, community, gesture, competence, propose, referential, emergence\n",
            "\n",
            "Topic 5: language_acquisition, child, development, acquisition, language, input, learner, acquire, learning, learn, second, second_language_acquisition, process, knowledge, infant, sla, grammar, first, early, play, adult, developmental, ability, universal_grammar, role, innate, develop, learnability, evidence, account\n",
            "\n",
            "Topic 6: linguistic, structure, cognitive, process, constraint, phenomenon, representation, universal, cognitive_linguistics, knowledge, natural_language, pattern, system, speaker, linguistic_competence, property, sign, innate, form, question, reality, different, nonlinguistic, individual, model, level, shape, capacity, empirical, population\n",
            "\n",
            "Topic 7: speech, gesture, disorder, gene, human, child, sign, genetic, development, auditory, impairment, speech_sound, vocal, modern, broca, vocalization, neurolinguistic, brain, prosody, involve, production, primate, early, purpose, analysis, anatomical, modality, capacity, gestural, code\n",
            "\n",
            "Topic 8: linguistics, language, thought, mind, philosophy, cognitive_science, view, perspective, problem, semantics, question, hypothesis, theoretical, logic, book, psychology, formal, work, conceptual, pragmatic, cognition, chomsky, science, argument, syntax, cognitive_linguistics, analysis, domain, grammar, think\n",
            "\n",
            "Topic 9: bilingual, bilingualism, language, control, switch, processing, brain, second, switching, speaker, monolingual, consequence, code, neural, change, cognitive, effect, acquisition, multilingual, green, neuroimaging_technique, advantage, consider, discuss, competition, review, issue, hypothesis, interference, proficient\n",
            "\n",
            "====\n",
            "topic id 1\n",
            "(9106, 9417)\n",
            "Topic 0: development, developmental, change, process, child, early, theoretical, perspective, motor, stage, this_article, developmental_biology, developmental_psychology, discuss, dynamic, plant, conceptual, role, growth, work, include, focus_on, human, model, pattern, view, period, recent, embryo, context\n",
            "\n",
            "Topic 1: review, problem, question, issue, work, provide, discuss, many, may, method, data, make, first, author, different, also, important, book, describe, literature, term, time, theoretical, result, area, recent, hypothesis, current, discussion, way\n",
            "\n",
            "Topic 2: gene, genetic, genetics, environment, phenotype, epigenetic, epigenetics, molecular, dna, genome, trait, inheritance, organism, mutation, molecular_genetics, environmental, disorder, variation, complex, individual, molecular_biology, problem, view, genomic, genomics, information, interaction, geneticist, gene_expression, program\n",
            "\n",
            "Topic 3: cell, cellular, tissue, molecule, signal, cell_biology, stem_cell, signaling, physiology, collective, cell_type, mechanical, biologist, communication, experimental, work, control, many, network, life, single_cell, interaction, growth, molecular, receptor, process, origin, fundamental, embryo, scientist\n",
            "\n",
            "Topic 4: behavior, behavioral, analysis, skinner, verbal, functional, animal, environment, behaviorism, organism, radical_behaviorism, neuroscience, level, operant, term, control, include, principle, within, method, experimental, provide, therapy, function, physiological, organization, reinforcement, basic, response, applied\n",
            "\n",
            "Topic 5: protein, biology, biological, function, life, structure, molecular, plant, molecule, cellular, structural, chemical, membrane, mechanism, organism, process, functional, chemistry, physic, physical, complex, understanding, understand, many, principle, biochemistry, dna, tissue, organization, molecular_biology\n",
            "\n",
            "Topic 6: science, psychology, scientific, philosophy, psychological, discipline, paradigm, neuroscience, history, philosophical, phenomenon, psychologist, method, explanation, cognitive_science, philosopher, view, mind, nature, behaviorism, practice, natural_science, within, knowledge, scientist, logical, contemporary, biology, modern, physic\n",
            "\n",
            "Topic 7: evolutionary, evolution, organism, natural_selection, selection, change, process, adaptation, mechanism, biological, adaptive, life, variation, evo_devo, age, evolutionary_biology, trait, evolve, origin, environment, level, novelty, complexity, explanation, darwinian, ecological, developmental, population, specie, form\n",
            "\n",
            "Topic 8: cancer, tumor, carcinogenesis, treatment, progression, mutation, molecular, perspective, therapeutic, pathway, tissue, view, therapy, somatic, many, biology, complex, strategy, current, causation, dynamic, target, cellular, progress, propose, epigenetic, genetic, novel, drug, resistance\n",
            "\n",
            "Topic 9: disease, age, clinical, medicine, treatment, disorder, medical, health, genetic, therapy, diagnosis, aging, human, understanding, patient, cause, advance, mechanism, therapeutic, basic, clinician, process, knowledge, molecular, pathogenesis, discovery, drug, classification, syndrome, diagnostic\n",
            "\n",
            "====\n",
            "topic id 2\n",
            "(9106, 2365)\n",
            "Topic 0: action, language, representation, perception, object, human, effect, system, model, understanding, perform, execution, knowledge, represent, provide, goal, process, recognition, describe, information, domain, observation, observe, result, planning, state, control, description, understand, processing\n",
            "\n",
            "Topic 1: intention, goal, others, joint_action, plan, intentional_action, conscious, intentional, recognition, bdi, infer, act, understand, mirror_neuron_system, desire, action, joint, ability, intend, actor, allow, planning, agency, mirror_neuron, intentionality, social, notion, bci, behavior, infant\n",
            "\n",
            "Topic 2: affordances, perception, environment, action, gibson, affordance, ecological, perceive, perceptual, ecological_psychology, view, information, animal, organism, possibility, sensory, behavior, system, control, coupling, provide, dynamic, role, robotics, perspective, opportunity, direct, brain, tool, notion\n",
            "\n",
            "Topic 3: agent, communication, world, environment, notion, multi_agent, model, state, knowledge, interaction, semantics, propose, act, behavior, dialogue, artificial_agent, commitment, problem, based, information, result, goal, conversation, argumentation, may, agents, mental_state, speech_act, rational_agent, framework\n",
            "\n",
            "Topic 4: belief, logic, change, reason_about, belief_revision, knowledge, operator, dynamic, update, iterated, epistemic, represent, semantics, revision, reason, reasoning, operation, logical, dynamic_epistemic_logic, state, preference, work, base, characterise, postulate, information, set, framework, propositional, expressive\n",
            "\n",
            "Topic 5: motor, imitation, mirror_neuron, simulation, mirror, others, observation, mirror_neuron_system, sensory, execution, mirror_system, representation, system, action, mechanism, development, evidence, understanding, mns, activation, motor_control, support, verb, function, sensorimotor, hand, perceptual, ability, suggest, neuron\n",
            "\n",
            "Topic 6: self, body, gesture, process, behavior, activity, interaction, experience, social, act, embodied, agency, mechanism, world, individual, way, event, may, others, control, goal, dynamic, sense, context, structure, account, form, cognition, narrative, role\n",
            "\n",
            "Topic 7: movement, control, body, coordination, disorder, rhythmic, motor_control, posture, level, limb, dance, information, discrete, behavior, muscle, reach, different, hand, environment, active, time, primary, move, bci, make, motion, order, actor, involve, syntactic\n",
            "\n",
            "====\n",
            "topic id 3\n",
            "(9106, 4261)\n"
          ]
        },
        {
          "output_type": "stream",
          "name": "stderr",
          "text": [
            "/usr/local/lib/python3.7/dist-packages/sklearn/decomposition/_nmf.py:1616: ConvergenceWarning: Maximum number of iterations 200 reached. Increase it to improve convergence.\n",
            "  random_state=self.random_state,\n"
          ]
        },
        {
          "output_type": "stream",
          "name": "stdout",
          "text": [
            "Topic 0: agent, interaction, society, behaviour, artificial_agent, individual, simulation, norm, model, artificial, based, belief, environment, interact_with, game, moral, architecture, affective, ai, commitment, modeling, actor, human, group, collective, like, dynamic, show, goal, action\n",
            "\n",
            "Topic 1: behavior, behavioral, analysis, evolutionary, individual, environment, psychology, evolution, information, complex, group, model, skinner, perspective, influence, principle, provide, organism, verbal, adaptive, genetic, play, framework, level, understand, goal, cooperation, gene, many, describe\n",
            "\n",
            "Topic 2: intelligence, ai, artificial_intelligence, machine, intelligent, turing, test, turing_test, ability, general_intelligence, need, artificial, machine_intelligence, artificial_intelligence_ai, computer, multiple, future, discuss, natural, like, question, goal, knowledge, problem, could, define, build, various, many, such_as\n",
            "\n",
            "Topic 3: social, cognition, network, social_interaction, individual, neuroscience, process, group, structure, brain, cognitive, context, interaction, mechanism, system, others, self, model, science, people, provide, influence, dynamic, cultural, role, understand, development, within, behaviour, psychology\n",
            "\n",
            "Topic 4: robot, human, robotics, robot_interaction, machine, robotic, interaction, robots, people, like, humanoid_robot, artificial, interact_with, humanoid, child, design, discuss, develop, explore, ethical, body, humanlike, embodiment, interactive, future, socially, user, technology, build, science_fiction\n",
            "\n",
            "Topic 5: communication, signal, communicative, speech, language, primate, face, evolution, communicate, vocal, share, receiver, gesture, interaction, multimodal, evolutionary, form, cooperative, perspective, meaning, evolve, individual, suggest, medium, message, intentional, act, cooperation, symbolic, information\n",
            "\n",
            "Topic 6: human, mind, cognition, machine, evolutionary, evolution, development, ability, non, cognitive, culture, understand, process, cultural, technology, computer, primate, system, brain, language, nature, capacity, way, may, body, make, biological, ai, work, include\n",
            "\n",
            "Topic 7: animal, non, specie, behaviour, question, ethology, ability, comparative, may, comparative_psychology, tool, primate, signal, capacity, animals, nonhuman_animal, cognition, model, behavioral, many, whether, mind, cognitive, way, include, different, researcher, share, learning, such_as\n",
            "\n",
            "====\n",
            "topic id 4\n",
            "(9106, 3794)\n",
            "Topic 0: learning, process, model, social, environment, language, development, human, cognitive, based, framework, perspective, brain, behavior, provide, change, system, discuss, motor, memory, science, design, different, activity, context, individual, mechanism, action, experience, education\n",
            "\n",
            "Topic 1: knowledge, learner, child, transfer, acquire, process, structure, skill, task, acquisition, domain, conceptual, instruction, cognitive, instructional, development, context, representation, understanding, information, education, problem, abstract, change, teach, may, strategy, construct, map, mathematical\n",
            "\n",
            "Topic 2: student, teacher, teaching, teach, classroom, science, understanding, education, mathematical, instruction, educational, environment, strategy, course, practice, thinking, mathematics, problem, conceptual, instructional, activity, way, curriculum, physic, develop, improve, reason, provide, material, learn\n",
            "\n",
            "Topic 3: learn, process, mechanism, model, task, human, behavior, ability, child, structure, experiment, environment, system, result, cognitive, animal, principle, suggest, agent, language, rule, information, work, show, context, such_as, people, experience, provide, review\n",
            "\n",
            "====\n",
            "topic id 5\n",
            "(9106, 3045)\n",
            "Topic 0: memory, system, collective, development, human, model, form, brain, learning, discuss, social, different, process, function, way, phenomenon, issue, formation, review, knowledge, view, this_article, multiple, individual, learn, many, implicit, change, type, recent\n",
            "\n",
            "Topic 1: work, memory, capacity, task, cognitive, process, working_memory, model, attention, processing, ability, component, language, role, function, performance, baddeley, human, development, review, short_term_memory, theoretical, cognition, span, describe, system, provide, mechanism, intelligence, control\n",
            "\n",
            "Topic 2: reconsolidation, consolidation, process, memory_trace, reactivation, memory, memory_consolidation, labile, consolidated, updating, engram, consolidate, become, interference, mechanism, disruption, over_time, reactivate, formation, modification, change, time, update, strengthen, treatment, amnesia, stabilization, stable, trace, may\n",
            "\n",
            "Topic 3: event, remember, past, future, experience, remembering, imagination, imagine, past_event, narrative, time, forget, occur, self, people, recall, recollection, personal, process, life, detail, also, simulation, may, know, false_memory, construction, context, collective, reconstruction\n",
            "\n",
            "Topic 4: retrieval, cue, encoding, content, episodic, retrieve, practice, process, memory, storage, encode, context, access, model, retrieval_cue, region, test, activation, failure, information, network, semantic, temporal, role, monitoring, structure, interference, review, analogical, retention\n",
            "\n",
            "Topic 5: sleep, dream, memory_consolidation, wake, consolidation, during_sleep, brain, rem_sleep, memory, role, reactivation, learning, state, function, dependent, day, dreaming, replay, offline, formation, network, mnemonic, process, freud, across, mechanism, activity, experience, associated, content\n",
            "\n",
            "Topic 6: hippocampus, hippocampal, spatial, memory, declarative_memory, role, representation, function, support, brain, rodent, remote, system, structure, rat, neural, context, consolidation, experience, neuron, recent, encode, relational, evidence, animal, learning, suggest, circuit, region, medial_temporal_lobe\n",
            "\n",
            "Topic 7: information, store, storage, memory, long_term_memory, process, retrieve, brain, learning, knowledge, system, learn, short_term_memory, sensory, human, behavior, retain, model, mechanism, experience, recall, structure, encode, animal, engram, time, short_term, long_term, ability, acquire\n",
            "\n",
            "Topic 8: item, effect, recognition, experiment, recall, test, memory, word, task, performance, recollection, familiarity, result, processing, encode, list, stimulus, show, judgment, paradigm, source, participant, suggest, subject, account, context, interference, remember, picture, text\n",
            "\n",
            "Topic 9: episodic_memory, episodic, semantic_memory, tulving, human, semantic, animal, amnesia, like, system, declarative_memory, memory, form, time, episode, mental_time_travel, idea, review, procedural_memory, experience, propose, story, model, past, type, factual, feature, neuroanatomical, functional, recall\n",
            "\n",
            "====\n",
            "topic id 6\n",
            "(9106, 6457)\n",
            "Topic 0: object, property, feature, object_recognition, shape, action, infant, category, part, recognition, physical, mathematical, identity, view, based, human, show, recognize, tool, represent, child, scene, experience, individuation, relation, objects, brain, world, see, function\n",
            "\n",
            "Topic 1: semantic, knowledge, word, category, conceptual, meaning, abstract, structure, semantics, feature, concrete, content, property, represent, linguistic, domain, specific, relation, role, semantic_memory, context, type, language, picture, entity, network, sentence, form, account, patient\n",
            "\n",
            "Topic 2: visual, image, attention, system, area, brain, visual_perception, human, feature, art, experience, process, model, neuron, method, eye, review, analysis, visual_cortex, scene, design, explore, cortical, work, pathway, visually, visualization, many, motion, mechanism\n",
            "\n",
            "Topic 3: information, process, sensory, signal, communication, shannon, way, relevant, form, notion, informational, work, meaning, different, sense, environment, term, content, context, provide, question, definition, human, science, encode, may, contain, discuss, mean, need\n",
            "\n",
            "Topic 4: representation, represent, knowledge, problem, abstract, form, conceptual, student, system, content, view, way, support, model, cognitive, role, human, process, structure, provide, notion, neural, world, mental_representation, account, understanding, cognitive_science, different, body, number\n",
            "\n",
            "Topic 5: perceptual, perception, sensory, color, experience, auditory, property, process, perceive, account, view, world, motion, content, perceptual_experience, sense, stimulus, sens, form, feature, image, illusion, modality, principle, phenomenon, sound, organization, different, environment, way\n",
            "\n",
            "Topic 6: spatial, space, map, time, navigation, relation, structure, temporal, location, environment, body, cognition, human, movement, experience, people, egocentric, place, represent, reasoning, cognitive, mental, dimension, may, physical, ability, orientation, language, also, such_as\n",
            "\n",
            "Topic 7: face, processing, neural, evidence, stimulus, face_recognition, area, expertise, object_recognition, brain, recognition, identity, process, review, mechanism, region, multisensory, sensory, pathway, specific, neuron, system, model, local, network, cortical, selective, early, encode, holistic\n",
            "\n",
            "Topic 8: vision, eye, early, perception, world, see, light, system, visual_perception, human, computational, animal, peripheral, motion, retina, review, scene, sense, mechanism, audition, make, stage, marr, natural, function, pathway, image, psychophysics, environment, machine\n",
            "\n",
            "Topic 9: task, experiment, stimulus, effect, attention, word, response, result, participant, letter, performance, show, cue, test, target, process, find, suggest, number, evidence, subject, child, item, hypothesis, report, time, control, condition, support, search\n",
            "\n",
            "====\n",
            "topic id 7\n",
            "(9106, 4296)\n"
          ]
        },
        {
          "output_type": "stream",
          "name": "stderr",
          "text": [
            "/usr/local/lib/python3.7/dist-packages/sklearn/decomposition/_nmf.py:1616: ConvergenceWarning: Maximum number of iterations 200 reached. Increase it to improve convergence.\n",
            "  random_state=self.random_state,\n"
          ]
        },
        {
          "output_type": "stream",
          "name": "stdout",
          "text": [
            "Topic 0: system, model, cognitive, human, cognition, process, learn, design, develop, provide, social, discuss, general, artificial, development, propose, work, describe, memory, support, learning, suggest, visual, systems, nature, anticipatory, question, mind, action, brain\n",
            "\n",
            "Topic 1: behavior, function, sensory, environment, body, system, mechanism, functional, motor, neural, principle, physiological, behavioral, organism, animal, brain, many, movement, may, perception, adaptive, review, pattern, auditory, perceptual, role, stimulus, response, understand, integration\n",
            "\n",
            "Topic 2: complex, complexity, network, science, system, many, behaviour, interaction, understand, social, simple, perspective, phenomenon, interact, systems, emergence, biology, emergent, disease, understanding, chaos, nonlinear, complex_adaptive, natural, element, scientific, may, whole, part, way\n",
            "\n",
            "Topic 3: biological, biology, system, cell, network, cellular, molecular, organism, function, disease, protein, component, physic, science, gene, biologist, systems_biology, mathematical, understanding, understand, evolution, mechanism, phenomenon, molecular_biology, model, fundamental, physical, engineering, important, analysis\n",
            "\n",
            "Topic 4: control, system, feedback, movement, engineering, cybernetics, model, motor, mechanism, paradigm, motivational, regulate, neural, process, regulation, task, architecture, motor_control, level, framework, hierarchical, robotics, device, self, meta, discuss, different, action, cybernetic, speech\n",
            "\n",
            "Topic 5: information, process, structure, information_processing, informational, cybernetics, meaning, entropy, shannon, computation, physical, natural, genetic, transfer, environment, processing, human, semantic, idea, consider, live_system, sensory, way, exchange, apply, energy, dna, non, fundamental, relate\n",
            "\n",
            "Topic 6: dynamic, development, developmental, change, process, model, level, system, view, perspective, framework, self_organization, coordination, nature, stability, dynamical, state, paradigm, individual, within, family, discuss, principle, theoretical, pattern, describe, interaction, self_organizing, attractor, analysis\n",
            "\n",
            "Topic 7: life, emergence, self, organization, property, evolution, system, living, component, level, process, chemical, live_system, organism, autopoietic, definition, structure, individual, autopoiesis, origin, self_organization, autonomy, evolutionary, organizational, propose, consider, phenomenon, artificial_life, entity, within\n",
            "\n",
            "Topic 8: knowledge, belief, logic, ai, reason, reasoning, representation, based, problem, logical, system, conceptual, agent, domain, artificial_intelligence, formal, structure, represent, natural_language, explanation, semantic, describe, framework, task, semantics, computer, computational, world, human, intelligence\n",
            "\n",
            "Topic 9: communication, language, signal, system, symbol, agent, sign, meaning, human, semiotic, communicative, evolution, interaction, symbolic, social, speech, linguistic, emergence, evolve, combinatorial, emerge, animal, natural_language, semiotics, receiver, experiment, communicate, tumor, robot, form\n",
            "\n",
            "====\n",
            "topic id 8\n",
            "(9106, 2382)\n",
            "Topic 0: consciousness, human, model, machine, brain, attention, propose, aspect, scientific, discuss, cognitive, form, issue, neural_correlate, system, function, development, level, question, review, animal, science, may, philosophical, functional, recent, artificial, many, problem, exist\n",
            "\n",
            "Topic 1: state, brain, experience, conscious_experience, information, neural, process, physical, structure, world, system, level, activity, space, phenomenon, dynamic, body, function, subjective, subjective_experience, may, view, property, mechanism, model, science, conscious_state, iit, perception, problem\n",
            "\n",
            "Topic 2: unconscious, process, mental, psychoanalytic, freud, thought, conscious, access, state, processing, psychological, ego, form, mental_state, without, unconsciousness, explanation, information, cognitive, influence, behavior, imagining, act, survival, mechanism, memory, existence, realm, freudian, idea\n",
            "\n",
            "Topic 3: awareness, stream, james, consciousness, inner, occurrence, mental, william_james, experience, self_awareness, component, content, account, time, kind, instance, principles, attention, hold, bodily, perceptual, aware, second, object, conception, intrinsic, basic, intentionality, address, series\n",
            "\n",
            "Topic 4: mind, philosophy, body, problem, mental, science, cognitive_science, physical, brain, human, book, machine, world, philosopher, thought, matter, philosophical, intelligence, ai, question, neuroscience, turing_test, think, psychology, nature, work, life, scientific, perception, searle\n",
            "\n",
            "Topic 5: dream, wake, dreaming, sleep, lucid, experience, state, rem_sleep, world, distortion, content, reality, altered_state, such_as, during_sleep, process, freud, occur, propose, nature, waking, virtual_reality, activity, also, hallucination, refers, stimulation, origin, condition, may\n",
            "\n",
            "Topic 6: quantum, brain, penrose, physical, consciousness, quantum_mechanic, energy, physic, classical, holographic, psychosomatic, holistic, wave, microtubule, medicine, information, state, model, entanglement, process, quantum_mechanical, quantum_physic, acupuncture, phenomenon, universe, law, interpretation, neuron, macroscopic, non_local\n",
            "\n",
            "Topic 7: self, sense, aspect, experience, body, self_awareness, form, reference, narrative, subject, representation, others, person, process, human, knowledge, development, recognition, non, entity, discuss, oneself, account, propose, image, nature, embodied, also, mirror, object\n",
            "\n",
            "Topic 8: conscious, machine, thought, perception, process, system, human, think, processing, artificial, non, robot, content, behavior, architecture, evidence, agent, information_processing, question, global_workspace_theory, computational, global_workspace, illusion, result, computer, nonconscious, also, baars, animal, part\n",
            "\n",
            "Topic 9: phenomenal, phenomenal_consciousness, access, qualia, block, attention, argument, account, content, phenomenology, hard_problem, like, conscious_experience, experience, property, distinction_between, dennett, recent, state, feel, report, problem, higher_order, term, neural_correlate, without, physicalism, intentionality, explanation, seem\n",
            "\n",
            "====\n",
            "topic id 9\n",
            "(9106, 4662)\n",
            "Topic 0: model, cognitive, system, discuss, describe, science, learn, cognition, propose, memory, develop, review, mind, this_chapter, this_article, scientific, abstract, general, learning, brain, design, introduce, visual, provide, information, first, work, author, apply, outline\n",
            "\n",
            "Topic 1: process, dynamic, development, model, mechanism, propose, communication, theoretical, network, self, change, developmental, evolution, evolutionary, social, stage, individual, describe, structure, interaction, different, system, level, emergence, discuss, role, work, biological, group, within\n",
            "\n",
            "Topic 2: explanation, causal, mechanistic, explanatory, account, dynamical, phenomenon, mechanism, mechanistic_explanation, model, provide, non, cognitive_science, scientific, based, cause, abductive, offer, philosophical, satisfy, case, require, framework, problem, philosophy, interpretation, system, science, term, functional\n",
            "\n",
            "Topic 3: data, account, processing, model, experiment, effect, result, prediction, task, test, show, word, simulation, evidence, stimulus, support, reading, response, provide, problem, hypothesis, propose, semantic, review, memory, report, time, also, performance, pattern\n",
            "\n",
            "Topic 4: agent, belief, model, simulation, based, dialogue, social, interaction, logic, bdi, behaviour, dynamic, intention, game, notion, world, environment, state, epistemic, communication, semantics, reason_about, internal, mind, propose, cognitive, knowledge, individual, architecture, argumentation\n",
            "\n",
            "Topic 5: animal, disease, model, human, disorder, clinical, review, mouse, organism, behaviour, many, treatment, rodent, challenge, may, experimental, specie, drug, genetic, pathogenesis, advance, current, patient, make, potential, development, translation, addiction, often, age\n",
            "\n",
            "Topic 6: mental, reason, reasoning, logic, inference, premise, logical, model, formal, rule, conclusion, problem, human, conditionals, construct, propositional, construction, process, belief, form, reasoner, deduction, probability, probabilistic, strategy, student, give, deductive_reasoning, psychological, johnson_laird\n",
            "\n",
            "Topic 7: conceptual, knowledge, representation, structure, domain, model, semantic, language, modeling, represent, meaning, context, ontology, semantics, role, text, formal, category, analogy, based, situation, discourse, abstraction, describe, framework, narrative, problem, dialogue, construct, relation\n",
            "\n",
            "Topic 8: behavior, neural, behavioral, computational, human, cognitive, model, cognition, decision_making, modeling, level, brain, computational_model, architecture, control, bayesian, system, neuroscience, neural_network, mechanism, framework, task, cognitive_architecture, decision, cognitive_science, function, develop, psychological, work, provide\n",
            "\n",
            "Topic 9: mathematical, phenomenon, biological, model, modelling, cell, biology, mathematics, experimental, system, describe, physical, application, student, description, analysis, mathematical_modeling, complex, science, modeling, may, quantitative, tool, mathematical_modelling, understanding, many, formal, develop, understand, often\n",
            "\n",
            "====\n",
            "topic id 10\n",
            "(9106, 4084)\n",
            "Topic 0: design, designer, process, cognitive, system, human, model, product, artifact, engineering, problem, knowledge, based, cognition, visual, principle, paradigm, role, development, framework, sketch, representation, method, learning, develop, action, support, propose, result, pattern\n",
            "\n",
            "Topic 1: game, player, play, video_game, computer_game, games, gameplay, digital_game, experience, mechanic, gaming, rule, world, genre, chess, ai, explore, behavior, serious, social, discuss, medium, learning, development, strategy, playing, create, experiment, virtual, provide\n",
            "\n",
            "Topic 2: creativity, computational, human, intelligence, idea, model, process, novelty, cognitive, social, domain, system, discuss, individual, creative_thinking, art, measure, level, definition, ability, brain, psychology, propose, artificial, also, involve, many, useful, perspective, problem_solving\n",
            "\n",
            "Topic 3: narrative, story, character, storytelling, interactive, emergent, event, user, structure, generation, player, plot, interactive_narrative, analysis, framework, based, process, generate, knowledge, element, visualization, medium, text, comprehension, form, discourse, create, world, planning, system\n",
            "\n",
            "Topic 4: metaphor, metaphorical, conceptual_metaphor, metaphoric, language, conceptual, metaphors, domain, discourse, abstract, mapping, interpretation, cognitive, literal, source, cognitive_linguistics, process, linguistic, structure, novel, analogy, understanding, role, understand, way, propose, different, scientific, suggest, processing\n",
            "\n",
            "Topic 5: student, activity, idea, art, work, process, practice, space, thinking, context, way, communication, analysis, form, play, tool, knowledge, architecture, computer, meaning, understanding, role, method, mathematical, structure, explore, conceptual, gesture, describe, within\n",
            "\n",
            "Topic 6: creative, process, idea, novel, solution, generate, designer, creative_thinking, generation, imagination, group, insight, analogy, describe, task, emergence, creation, model, act, inspiration, may, individual, ability, novelty, people, work, framework, product, stage, abduction\n",
            "\n",
            "Topic 7: interaction, experience, technology, user, body, embodied, digital, movement, interactive, explore, environment, human, space, embodiment, way, medium, bodily, people, hci, social, sensory, multisensory, within, interface, world, physical, sens, perception, context, engagement\n",
            "\n",
            "====\n",
            "topic id 11\n",
            "(9106, 1308)\n",
            "Topic 0: music, human, brain, emotion, cognition, language, emotional, model, cognitive, system, culture, listen, review, provide, perception, discuss, function, way, also, may, aspect, feature, experience, domain, role, evolutionary, information, propose, mind, method\n",
            "\n",
            "Topic 1: musical, structure, experience, analysis, system, model, listener, form, meaning, may, cultural, work, suggest, culture, structural, develop, creativity, processing, context, pattern, process, consider, aspect, musicology, development, musical_instrument, understanding, expression, event, dynamic\n",
            "\n",
            "Topic 2: art, aesthetic, visual, form, space, musicology, artistic, artist, machine, creative, evolutionary, sonic, work, architecture, generative, examine, make, science, address, book, human, dance, spatial, practice, time, create, education, order, artwork, artificial\n",
            "\n",
            "Topic 3: rhythm, rhythmic, entrainment, melody, temporal, meter, timing, dance, beat, pulse, tempo, perception, movement, human, speech, music, time, pattern, across, behaviour, evolution, comparative, structure, harmony, song, specie, oriented, african, organization, brain\n",
            "\n",
            "Topic 4: composer, composition, compositional, process, work, piece, computer, music_composition, listener, creative, create, notation, system, technique, performer, score, tool, practice, electroacoustic_music, algorithmic, algorithm, generative, artistic, musical_composition, creation, model, aesthetic, time, describe, paradigm\n",
            "\n",
            "Topic 5: pitch, tonal, tone, harmony, timbre, tonality, chord, harmonic, structure, melodic, listener, perception, analysis, note, dissonance, interval, melody, scale, temporal, contour, tension, tune, pattern, such_as, domain, cognitive, principle, acoustic, voice, local\n",
            "\n",
            "Topic 6: auditory, perception, processing, acoustic, brain, language, process, speech, beat, motor, neural, structure, hearing, sensory, stimulus, perceptual, stream, system, syntax, review, temporal, evidence, hear, network, mechanism, organization, involve, different, harmonic, training\n",
            "\n",
            "Topic 7: improvisation, creativity, jazz, creative, improvised, artistic, process, interaction, free, explore, improvise, activity, rhythmic, real_time, involve, improvisational, complex, collaborative, cognitive, context, interactive, idea, style, melody, technology, generation, personality, method, domain, performance\n",
            "\n",
            "Topic 8: performance, musician, performer, instrument, expressive, expression, ensemble, practice, movement, gesture, audience, interaction, analysis, expert, computer, body, piece, instrumental, tempo, communication, musical_instrument, play, concert, piano, real_time, explore, improvise, data, motor, embodied\n",
            "\n",
            "Topic 9: sound, timbre, sonic, source, experience, listen, electroacoustic_music, object, space, acoustic, voice, sense, technology, hear, body, this_article, material, also, environment, hearing, listening, spectral, meaning, film, world, listener, explore, spatial, way, interaction\n",
            "\n",
            "====\n",
            "topic id 12\n",
            "(9106, 1466)\n",
            "Topic 0: emotion, basic, model, emotions, music, cognitive, propose, state, system, experience, cognition, perspective, term, view, different, account, role, work, suggest, function, language, abstract, consider, this_chapter, this_article, definition, researcher, design, focus_on, structure\n",
            "\n",
            "Topic 1: facial_expression, facial, recognition, expression, face, emotion, basic, social, universality, culture, signal, expressive, data, challenge, development, display, video, darwin, animation, automatic, automate, computer_vision, analysis, perception, utterance, experience, component, recognize, mimicry, psychology\n",
            "\n",
            "Topic 2: affect, detection, improvisational, ai, mood, metaphorical, context, work, improvisation, dialogue, interpretation, user, actor, character, evaluation, theme, also, project, sensing, user_interface, input, textual, judgment, core, text, virtual, affective_state, open_ended, semantic, scenario\n",
            "\n",
            "Topic 3: human, emotion, computer, recognition, machine, technology, affective_computing, communication, user, express, speech, application, character, system, design, recognize, emotional_state, emotions, aspect, computer_interaction, intelligent, emotional_intelligence, personality, artificial, interaction, psychology, intelligence, art, like, expression\n",
            "\n",
            "Topic 4: appraisal, emotion, model, process, cognitive, system, computational_model, engine, elicitation, integration, antecedent, component, episode, evaluation, generation, dynamic, integrate, feeling, module, lack, emotional_state, aspect, architecture, unfolding, as_well_as, need, theorise, appraise, abstract, recursive\n",
            "\n",
            "Topic 5: affective, science, game, cognitive, ontology, affective_state, architecture, process, provide, learning, learn, ethical_issue, player, definition, domain, psychology, develop, affective_computing, application, address, modeling, discipline, taxonomy, challenge, design, basis, detection, analysis, include, neuroscience\n",
            "\n",
            "Topic 6: emotion_regulation, cognition, mind, process, emotion, decision_making, brain, neuroscience, aesthetic, cognitive, discuss, mathematical, behavior, mechanism, moral, relate, psychology, social, review, psychological, perception, framework, include, self, role, development, describe, thought, motivation, intuition\n",
            "\n",
            "Topic 7: robot, emotion, robotics, social, human, emotions, model, moral, people, architecture, robotic, autonomy, empathic, art, express, emotional_state, robots, tour, capable, propose, motivation, mind, create, artificial, interaction, ground, friendship, understand, embodied, service\n",
            "\n",
            "Topic 8: emotional, experience, model, process, system, mechanism, processing, cognitive, component, dynamic, response, attention, control, provide, life, development, neutral, learning, result, social, simulation, event, network, character, phenomenon, evidence, arousal, semantic, negative, interaction\n",
            "\n",
            "Topic 9: agent, emotion, architecture, model, personality, decision_making, logic, bdi, artificial_agent, framework, emotional_state, propose, behaviour, empathic, action_selection, believable, mechanism, behavior, environment, reason, interaction, reason_about, design, cognitive, implementation, formal, based, like, mood, human\n",
            "\n",
            "====\n",
            "topic id 13\n",
            "(9106, 5122)\n",
            "Topic 0: cognitive, model, system, human, function, mechanism, structure, map, environment, agent, behavior, brain, language, analysis, evolution, information, modeling, tool, provide, network, propose, representation, design, develop, framework, describe, discuss, state, make, activity\n",
            "\n",
            "Topic 1: development, cognitive, child, developmental, piaget, perspective, theoretical, mathematical, social, change, skill, translation, adult, cultural, infant, stage, early, discuss, thinking, review, culture, understand, education, understanding, implication, framework, construct, conceptual, psychology, finding\n",
            "\n",
            "Topic 2: mind, philosophy, body, view, human, mental, reading, extend, modularity, module, brain, mental_state, idea, world, psychology, thought, understand, belief, embodiment, individual, modular, argument, way, others, question, embodied, ability, thesis, conception, capacity\n",
            "\n",
            "Topic 3: cognition, human, social, body, view, perception, embody, embodied, animal, environment, embodiment, model, system, embodied_cognition, perspective, extend, brain, spatial, evolution, also, work, comparative, situate, way, action, interaction, issue, form, time, affect\n",
            "\n",
            "Topic 4: cognitive_science, philosophy, science, psychology, anthropology, discipline, artificial_intelligence, embodied, cognitive_scientist, linguistics, philosophical, cognitive_psychology, scientific, work, computer_science, theoretical, traditional, question, neuroscience, methodological, idea, perspective, area, within, book, epistemology, embodied_cognition, offer, issue, dynamical\n",
            "\n",
            "Topic 5: process, mental, involve, thinking, information, thought, attention, unconscious, model, analysis, type, translation, think, perception, processing, psychological, underlie, decision_making, text, discuss, consider, brain, semiotic, view, automatic, dynamic, complex, activity, comprehension, understand\n",
            "\n",
            "Topic 6: computational, computation, explanation, account, level, content, argument, connectionism, representation, view, symbolic, connectionist, cognitive_architecture, symbol, semantic, formal, structure, framework, conceptual, notion, fodor, problem, thought, mental_representation, classical, semantics, explanatory, abstract, systematicity, linguistic\n",
            "\n",
            "Topic 7: task, control, ability, performance, reasoning, reason, domain, test, problem_solving, decision_making, strategy, problem, different, skill, complex, spatial, processing, evidence, involve, decision, result, component, may, suggest, solve, show, tool, provide, require, measure\n",
            "\n",
            "Topic 8: knowledge, structure, conceptual, domain, representation, acquire, information, epistemological, linguistic, schema, represent, engineering, acquisition, construction, semantic, perspective, application, different, epistemic, science, text, knowledge_acquisition, expert, student, world, epistemology, management, category, human, aspect\n",
            "\n",
            "Topic 9: intelligence, cognitive_informatics, computing, ability, science, information_processing, ci, cognitive, ai, test, psychometric, fluid, engineering, artificial_intelligence, application, natural, cc, human, individual_difference, set, brain, intelligent, internal, psychology, factor, computer_science, general_intelligence, invited, renowned, mechanism\n",
            "\n",
            "====\n",
            "topic id 14\n",
            "(9106, 4223)\n",
            "Topic 0: brain, model, science, change, system, work, memory, development, provide, this_article, learn, learning, consciousness, world, structure, social, organization, plasticity, information, time, part, functioning, view, machine, book, way, also, develop, whole, make\n",
            "\n",
            "Topic 1: functional, connectivity, structural, brain, connection, connectome, architecture, brain_region, functional_connectivity, region, analysis, anatomical, organization, area, map, data, pattern, cortical, task, review, large_scale, effective_connectivity, method, different, integration, mapping, white_matter, across, framework, graph\n",
            "\n",
            "Topic 2: human, brain, evolution, intelligence, development, technology, animal, evolutionary, language, cognition, art, ability, biological, science, culture, develop, knowledge, cultural, life, complex, body, understand, large, evolve, cognitive, may, organ, social, primate, specie\n",
            "\n",
            "Topic 3: neuroscience, science, education, neuroscientific, discipline, psychology, advance, understanding, social, clinical, scientific, practice, neuroscientist, behavior, nervous_system, development, knowledge, disorder, moral, neuro, finding, ai, review, modern, basic, application, psychological, emerge, educational, treatment\n",
            "\n",
            "Topic 4: network, large_scale, complex, dynamic, graph, structure, attention, brain_region, connection, region, control, node, task, cognition, cognitive, functional_connectivity, hub, small_world, analysis, social, here_we, semantic, system, activation, within, understand, modular, characterize, recent, executive\n",
            "\n",
            "Topic 5: neuron, neuronal, neural_network, circuit, cell, information, computation, map, single_neuron, computational, many, connection, behaviour, computer, understand, spike, model, make, animal, code, neuroscientist, nervous_system, know, different, form, implement, learn, stimulation, part, perform\n",
            "\n",
            "Topic 6: fmri, technique, neuroimaging, method, image, functional_magnetic_resonance_imaging, cognitive_neuroscience, brain, data, analysis, technology, review, development, application, imaging, eeg, activity, clinical, signal, provide, advance, tool, measure, brain_imaging, methodology, researcher, challenge, methodological, limitation, recent\n",
            "\n",
            "Topic 7: function, structure, cognitive, localization, area, nervous_system, lesion, clinical, mental, may, many, high, localize, th_century, mapping, dream, cerebral, neurology, motor, understanding, role, such_as, cortical, understand, sleep, describe, development, cortex, level, memory\n",
            "\n",
            "Topic 8: mind, body, brain, mental, problem, quantum, physical, philosophy, psychological, world, thought, view, conscious, philosopher, self, descartes, consciousness, dualism, cognitive_neuroscience, relation, process, science, cartesian, way, psychology, see, idea, subjective, scientific, philosophical\n",
            "\n",
            "Topic 9: neural, process, activity, information, behavior, dynamic, processing, mechanism, sensory, model, pattern, cognitive, brain, perception, different, system, area, task, state, behavioral, may, representation, control, stimulus, level, complex, suggest, mental, involve, signal\n",
            "\n"
          ]
        }
      ]
    },
    {
      "cell_type": "code",
      "metadata": {
        "id": "4Ic-9H4D2Y3v"
      },
      "source": [
        "# topics_df = pd.DataFrame.from_dict(supertopics_dict,orient='index',columns=['SupertopicId'])\n",
        "# topics_df['SubtopicId'] = topics_df.index.map(subtopics_dict)\n",
        "# topics_df['SupertopicKeywords'] = topics_df.index.map(id_to_topicword)\n",
        "# topics_df['SubtopicKeywords'] = topics_df.index.map(id_to_subtopicword)\n",
        "\n",
        "# topics_df['Super3'] = topics_df['SupertopicKeywords'].apply(lambda x: ', '.join(x[:3]))\n",
        "# topics_df['Sub3'] = topics_df['SubtopicKeywords'].apply(lambda x: ', '.join(x[:3]))"
      ],
      "execution_count": null,
      "outputs": []
    },
    {
      "cell_type": "code",
      "source": [
        "topics_df['SupertopicId'] = topics_df.index.map(supertopics_dict)\n",
        "topics_df['SubtopicId'] = topics_df.index.map(subtopics_dict)\n",
        "topics_df['SupertopicKeywords'] = topics_df.index.map(id_to_topicword)\n",
        "topics_df['SubtopicKeywords'] = topics_df.index.map(id_to_subtopicword)"
      ],
      "metadata": {
        "id": "mDzomJ9yEqRx"
      },
      "execution_count": null,
      "outputs": []
    },
    {
      "cell_type": "code",
      "source": [
        "topics_df.head()"
      ],
      "metadata": {
        "colab": {
          "base_uri": "https://localhost:8080/",
          "height": 492
        },
        "id": "8zrTeHg6EzvV",
        "outputId": "46925dfb-1c68-4ca1-f554-8fd7574448d7"
      },
      "execution_count": null,
      "outputs": [
        {
          "output_type": "execute_result",
          "data": {
            "text/html": [
              "\n",
              "  <div id=\"df-6be7f973-8970-4eb4-92d3-e804b17027d9\">\n",
              "    <div class=\"colab-df-container\">\n",
              "      <div>\n",
              "<style scoped>\n",
              "    .dataframe tbody tr th:only-of-type {\n",
              "        vertical-align: middle;\n",
              "    }\n",
              "\n",
              "    .dataframe tbody tr th {\n",
              "        vertical-align: top;\n",
              "    }\n",
              "\n",
              "    .dataframe thead th {\n",
              "        text-align: right;\n",
              "    }\n",
              "</style>\n",
              "<table border=\"1\" class=\"dataframe\">\n",
              "  <thead>\n",
              "    <tr style=\"text-align: right;\">\n",
              "      <th></th>\n",
              "      <th>SupertopicId_before</th>\n",
              "      <th>SubtopicId_before</th>\n",
              "      <th>SupertopicKeywords_before</th>\n",
              "      <th>SubtopicKeywords_before</th>\n",
              "      <th>SupertopicId</th>\n",
              "      <th>SubtopicId</th>\n",
              "      <th>SupertopicKeywords</th>\n",
              "      <th>SubtopicKeywords</th>\n",
              "    </tr>\n",
              "    <tr>\n",
              "      <th>Id</th>\n",
              "      <th></th>\n",
              "      <th></th>\n",
              "      <th></th>\n",
              "      <th></th>\n",
              "      <th></th>\n",
              "      <th></th>\n",
              "      <th></th>\n",
              "      <th></th>\n",
              "    </tr>\n",
              "  </thead>\n",
              "  <tbody>\n",
              "    <tr>\n",
              "      <th>1999653836</th>\n",
              "      <td>13.0</td>\n",
              "      <td>2.0</td>\n",
              "      <td>[brain, function, mind, neuroscience, neural]</td>\n",
              "      <td>[network, functional, area, brain, connectivity]</td>\n",
              "      <td>14</td>\n",
              "      <td>4</td>\n",
              "      <td>[brain, network, function, neuroscience, neural]</td>\n",
              "      <td>[network, large_scale, complex, dynamic, graph]</td>\n",
              "    </tr>\n",
              "    <tr>\n",
              "      <th>10833075</th>\n",
              "      <td>NaN</td>\n",
              "      <td>NaN</td>\n",
              "      <td>NaN</td>\n",
              "      <td>NaN</td>\n",
              "      <td>4</td>\n",
              "      <td>3</td>\n",
              "      <td>[learning, learn, knowledge, student, learner]</td>\n",
              "      <td>[learn, process, mechanism, model, task]</td>\n",
              "    </tr>\n",
              "    <tr>\n",
              "      <th>2163480486</th>\n",
              "      <td>9.0</td>\n",
              "      <td>6.0</td>\n",
              "      <td>[development, review, science, problem, work]</td>\n",
              "      <td>[cell, cellular, protein, molecule, tissue]</td>\n",
              "      <td>1</td>\n",
              "      <td>5</td>\n",
              "      <td>[development, science, review, biological, pro...</td>\n",
              "      <td>[protein, biology, biological, function, life]</td>\n",
              "    </tr>\n",
              "    <tr>\n",
              "      <th>3022532439</th>\n",
              "      <td>2.0</td>\n",
              "      <td>4.0</td>\n",
              "      <td>[action, agent, motor, social, belief]</td>\n",
              "      <td>[motor, imitation, mirror_neuron, action, repr...</td>\n",
              "      <td>2</td>\n",
              "      <td>5</td>\n",
              "      <td>[action, agent, motor, perception, movement]</td>\n",
              "      <td>[motor, imitation, mirror_neuron, simulation, ...</td>\n",
              "    </tr>\n",
              "    <tr>\n",
              "      <th>2439568532</th>\n",
              "      <td>NaN</td>\n",
              "      <td>NaN</td>\n",
              "      <td>NaN</td>\n",
              "      <td>NaN</td>\n",
              "      <td>9</td>\n",
              "      <td>2</td>\n",
              "      <td>[model, propose, agent, describe, based]</td>\n",
              "      <td>[explanation, causal, mechanistic, explanatory...</td>\n",
              "    </tr>\n",
              "  </tbody>\n",
              "</table>\n",
              "</div>\n",
              "      <button class=\"colab-df-convert\" onclick=\"convertToInteractive('df-6be7f973-8970-4eb4-92d3-e804b17027d9')\"\n",
              "              title=\"Convert this dataframe to an interactive table.\"\n",
              "              style=\"display:none;\">\n",
              "        \n",
              "  <svg xmlns=\"http://www.w3.org/2000/svg\" height=\"24px\"viewBox=\"0 0 24 24\"\n",
              "       width=\"24px\">\n",
              "    <path d=\"M0 0h24v24H0V0z\" fill=\"none\"/>\n",
              "    <path d=\"M18.56 5.44l.94 2.06.94-2.06 2.06-.94-2.06-.94-.94-2.06-.94 2.06-2.06.94zm-11 1L8.5 8.5l.94-2.06 2.06-.94-2.06-.94L8.5 2.5l-.94 2.06-2.06.94zm10 10l.94 2.06.94-2.06 2.06-.94-2.06-.94-.94-2.06-.94 2.06-2.06.94z\"/><path d=\"M17.41 7.96l-1.37-1.37c-.4-.4-.92-.59-1.43-.59-.52 0-1.04.2-1.43.59L10.3 9.45l-7.72 7.72c-.78.78-.78 2.05 0 2.83L4 21.41c.39.39.9.59 1.41.59.51 0 1.02-.2 1.41-.59l7.78-7.78 2.81-2.81c.8-.78.8-2.07 0-2.86zM5.41 20L4 18.59l7.72-7.72 1.47 1.35L5.41 20z\"/>\n",
              "  </svg>\n",
              "      </button>\n",
              "      \n",
              "  <style>\n",
              "    .colab-df-container {\n",
              "      display:flex;\n",
              "      flex-wrap:wrap;\n",
              "      gap: 12px;\n",
              "    }\n",
              "\n",
              "    .colab-df-convert {\n",
              "      background-color: #E8F0FE;\n",
              "      border: none;\n",
              "      border-radius: 50%;\n",
              "      cursor: pointer;\n",
              "      display: none;\n",
              "      fill: #1967D2;\n",
              "      height: 32px;\n",
              "      padding: 0 0 0 0;\n",
              "      width: 32px;\n",
              "    }\n",
              "\n",
              "    .colab-df-convert:hover {\n",
              "      background-color: #E2EBFA;\n",
              "      box-shadow: 0px 1px 2px rgba(60, 64, 67, 0.3), 0px 1px 3px 1px rgba(60, 64, 67, 0.15);\n",
              "      fill: #174EA6;\n",
              "    }\n",
              "\n",
              "    [theme=dark] .colab-df-convert {\n",
              "      background-color: #3B4455;\n",
              "      fill: #D2E3FC;\n",
              "    }\n",
              "\n",
              "    [theme=dark] .colab-df-convert:hover {\n",
              "      background-color: #434B5C;\n",
              "      box-shadow: 0px 1px 3px 1px rgba(0, 0, 0, 0.15);\n",
              "      filter: drop-shadow(0px 1px 2px rgba(0, 0, 0, 0.3));\n",
              "      fill: #FFFFFF;\n",
              "    }\n",
              "  </style>\n",
              "\n",
              "      <script>\n",
              "        const buttonEl =\n",
              "          document.querySelector('#df-6be7f973-8970-4eb4-92d3-e804b17027d9 button.colab-df-convert');\n",
              "        buttonEl.style.display =\n",
              "          google.colab.kernel.accessAllowed ? 'block' : 'none';\n",
              "\n",
              "        async function convertToInteractive(key) {\n",
              "          const element = document.querySelector('#df-6be7f973-8970-4eb4-92d3-e804b17027d9');\n",
              "          const dataTable =\n",
              "            await google.colab.kernel.invokeFunction('convertToInteractive',\n",
              "                                                     [key], {});\n",
              "          if (!dataTable) return;\n",
              "\n",
              "          const docLinkHtml = 'Like what you see? Visit the ' +\n",
              "            '<a target=\"_blank\" href=https://colab.research.google.com/notebooks/data_table.ipynb>data table notebook</a>'\n",
              "            + ' to learn more about interactive tables.';\n",
              "          element.innerHTML = '';\n",
              "          dataTable['output_type'] = 'display_data';\n",
              "          await google.colab.output.renderOutput(dataTable, element);\n",
              "          const docLink = document.createElement('div');\n",
              "          docLink.innerHTML = docLinkHtml;\n",
              "          element.appendChild(docLink);\n",
              "        }\n",
              "      </script>\n",
              "    </div>\n",
              "  </div>\n",
              "  "
            ],
            "text/plain": [
              "            SupertopicId_before  ...                                   SubtopicKeywords\n",
              "Id                               ...                                                   \n",
              "1999653836                 13.0  ...    [network, large_scale, complex, dynamic, graph]\n",
              "10833075                    NaN  ...           [learn, process, mechanism, model, task]\n",
              "2163480486                  9.0  ...     [protein, biology, biological, function, life]\n",
              "3022532439                  2.0  ...  [motor, imitation, mirror_neuron, simulation, ...\n",
              "2439568532                  NaN  ...  [explanation, causal, mechanistic, explanatory...\n",
              "\n",
              "[5 rows x 8 columns]"
            ]
          },
          "metadata": {},
          "execution_count": 51
        }
      ]
    },
    {
      "cell_type": "code",
      "metadata": {
        "id": "nKTKXKseXpix"
      },
      "source": [
        "'''\n",
        "# save\n",
        "with open(os.path.join(DRIVE_PATH,'nextstep', 'topics_df_220122.pkl'),'wb') as f:\n",
        "    pickle.dump(topics_df,f)\n",
        "'''"
      ],
      "execution_count": null,
      "outputs": []
    },
    {
      "cell_type": "code",
      "source": [
        "'''\n",
        "with open(os.path.join(DRIVE_PATH, 'topics_df_220122.pkl'), 'rb') as file:\n",
        "    topics_df = pickle.load(file)\n",
        "'''"
      ],
      "metadata": {
        "id": "1v_h0IqnkKGj"
      },
      "execution_count": null,
      "outputs": []
    },
    {
      "cell_type": "code",
      "source": [
        ""
      ],
      "metadata": {
        "id": "jItrg16InpwE"
      },
      "execution_count": null,
      "outputs": []
    },
    {
      "cell_type": "markdown",
      "source": [
        "# Topic Modeling on After dataset"
      ],
      "metadata": {
        "id": "5n7tbWLsDTJT"
      }
    },
    {
      "cell_type": "code",
      "source": [
        "data_words_after = [data_words[i] for i in range(fields_df.shape[0]) if fields_df.Y.values[i] >= 2012]\n",
        "after_Id = fields_df.Id[fields_df.Y.values >= 2012]"
      ],
      "metadata": {
        "id": "WACYG7iiDu31"
      },
      "execution_count": null,
      "outputs": []
    },
    {
      "cell_type": "markdown",
      "metadata": {
        "id": "5k4ikvS4DTJY"
      },
      "source": [
        "##Phrase Modeling: Bigram and Trigram Models"
      ]
    },
    {
      "cell_type": "code",
      "metadata": {
        "colab": {
          "base_uri": "https://localhost:8080/"
        },
        "outputId": "ebdf3303-30a2-4eea-b67b-eac25470b0c3",
        "id": "1BEMEpORDTJY"
      },
      "source": [
        "# Build the bigram models\n",
        "bigram1 = gensim.models.Phrases(data_words_before, min_count=20, threshold=10) # higher threshold fewer phrases.\n",
        "# Faster way to get a sentence clubbed as a bigram\n",
        "bigram_mod1 = gensim.models.phrases.Phraser(bigram1)\n",
        "# Build the trigram models\n",
        "trigram1 = gensim.models.Phrases(bigram_mod1[data_words_after], min_count=20, threshold=10)\n",
        "# Faster way to get a sentence clubbed as a trigram\n",
        "trigram_mod1 = gensim.models.phrases.Phraser(trigram1)\n",
        "print(len(bigram1.vocab))\n",
        "print(len(trigram1.vocab))\n",
        "print(len(trigram_mod1.phrasegrams))"
      ],
      "execution_count": null,
      "outputs": [
        {
          "output_type": "stream",
          "name": "stdout",
          "text": [
            "997360\n",
            "951518\n",
            "2859\n"
          ]
        }
      ]
    },
    {
      "cell_type": "code",
      "metadata": {
        "id": "3EMqnivNDTJY"
      },
      "source": [
        "# Define functions for bigrams and trigrams\n",
        "def make_trigrams1(texts):\n",
        "    return [trigram_mod1[bigram_mod1[doc]] for doc in texts]"
      ],
      "execution_count": null,
      "outputs": []
    },
    {
      "cell_type": "code",
      "metadata": {
        "id": "wrNjpYXUDTJY"
      },
      "source": [
        "data_words_trigrams1 = make_trigrams1(data_words_after)\n",
        "transformed_text1 = [' '.join(doc) for doc in data_words_trigrams1]"
      ],
      "execution_count": null,
      "outputs": []
    },
    {
      "cell_type": "markdown",
      "metadata": {
        "id": "GxCpuYNwDTJY"
      },
      "source": [
        "## TF-IDF Bag of words"
      ]
    },
    {
      "cell_type": "code",
      "metadata": {
        "colab": {
          "base_uri": "https://localhost:8080/"
        },
        "outputId": "10f5b0cb-b046-453b-f6c8-30aa1a3eb61e",
        "id": "5MzrUGQUDTJY"
      },
      "source": [
        "vectorizer1 = TfidfVectorizer(stop_words = stopwords_list,\n",
        "                             max_df = 0.80, #remove words that appear in more than x% of documents\n",
        "                             min_df = 0.0005, #remove words that appear in less than x% of documents\n",
        "                             )\n",
        "vectors1 = vectorizer1.fit_transform(transformed_text1).transpose()\n",
        "print(vectors1.shape)\n",
        "idx_to_word1 = np.array(vectorizer1.get_feature_names()) #dictionary to recover topics"
      ],
      "execution_count": null,
      "outputs": [
        {
          "output_type": "stream",
          "name": "stdout",
          "text": [
            "(8852, 26859)\n"
          ]
        },
        {
          "output_type": "stream",
          "name": "stderr",
          "text": [
            "/usr/local/lib/python3.7/dist-packages/sklearn/utils/deprecation.py:87: FutureWarning: Function get_feature_names is deprecated; get_feature_names is deprecated in 1.0 and will be removed in 1.2. Please use get_feature_names_out instead.\n",
            "  warnings.warn(msg, category=FutureWarning)\n"
          ]
        }
      ]
    },
    {
      "cell_type": "markdown",
      "metadata": {
        "id": "E3X4yXzKDTJY"
      },
      "source": [
        "##Hierarchical NMF on Transformed Data"
      ]
    },
    {
      "cell_type": "markdown",
      "metadata": {
        "id": "A9fl2seKDTJY"
      },
      "source": [
        "### NMF level 1"
      ]
    },
    {
      "cell_type": "code",
      "metadata": {
        "colab": {
          "base_uri": "https://localhost:8080/"
        },
        "outputId": "149d4b92-8c2f-4843-ee31-19075fec80dc",
        "id": "NsMN7LD-GcL1"
      },
      "source": [
        "num_topics1 = 50\n",
        "nmf1 = NMF(n_components=num_topics1, \n",
        "           init='random', \n",
        "           random_state=2021, \n",
        "           max_iter=500, \n",
        "           tol=1e-5, \n",
        "           alpha=0.01)\n",
        "W1 = nmf1.fit_transform(vectors1)\n",
        "H1 = nmf1.components_\n",
        "\n",
        "for i, topic in enumerate(W1.transpose()):\n",
        "    print(\"Topic {}: {}\\n\".format(i,\", \".join(reversed(idx_to_word1[topic.argsort()[-30:].astype(int)]))))\n",
        "    print(\"Topic {}: {}\\n\".format(i, \", \".join(reversed(np.round(topic[topic.argsort()[-30:].astype(int)], 4).astype(str)))))"
      ],
      "execution_count": null,
      "outputs": [
        {
          "output_type": "stream",
          "name": "stderr",
          "text": [
            "/usr/local/lib/python3.7/dist-packages/sklearn/decomposition/_nmf.py:1425: FutureWarning: `alpha` was deprecated in version 1.0 and will be removed in 1.2. Use `alpha_W` and `alpha_H` instead\n",
            "  FutureWarning,\n",
            "/usr/local/lib/python3.7/dist-packages/sklearn/decomposition/_nmf.py:1641: ConvergenceWarning: Maximum number of iterations 500 reached. Increase it to improve convergence.\n",
            "  ConvergenceWarning,\n"
          ]
        },
        {
          "output_type": "stream",
          "name": "stdout",
          "text": [
            "Topic 0: cognitive, ability, cognitive_science, map, framework, control, domain, activity, tool, skill, artifact, capacity, cognitive_architecture, linguistic, modeling, cognitive_linguistics, cognitive_neuroscience, computing, niche, cultural, computational, enhancement, cognitively, level, strategy, resource, problem_solving, operation, engineering, flexibility\n",
            "\n",
            "Topic 0: 3.131, 0.1417, 0.1187, 0.1115, 0.1102, 0.1041, 0.1039, 0.1, 0.0925, 0.0844, 0.0834, 0.0798, 0.0748, 0.0568, 0.0552, 0.0539, 0.0526, 0.0522, 0.0505, 0.05, 0.048, 0.0473, 0.0466, 0.0451, 0.0418, 0.0417, 0.0408, 0.0408, 0.0398, 0.0388\n",
            "\n",
            "Topic 1: process, involve, unconscious, mental, dynamic, conscious, level, decision_making, different, complex, underlie, stage, thinking, change, psychological, thought, understand, type, specific, describe, role, decision, creative, processing, occur, insight, consider, construction, individual, nature\n",
            "\n",
            "Topic 1: 2.8212, 0.239, 0.2, 0.1921, 0.1732, 0.1675, 0.1485, 0.138, 0.1206, 0.1147, 0.1115, 0.1056, 0.1046, 0.1, 0.0993, 0.099, 0.0965, 0.094, 0.0867, 0.0843, 0.0831, 0.0814, 0.0759, 0.0756, 0.0752, 0.0741, 0.0734, 0.073, 0.0727, 0.0704\n",
            "\n",
            "Topic 2: mind, mental, philosophy, thought, cognitive_science, psychology, world, mental_state, others, think, quantum, thinking, idea, understand, reading, philosopher, psychological, know, individual, us, book, state, unconscious, way, thing, read, conception, extend, conscious, reality\n",
            "\n",
            "Topic 2: 2.7168, 0.3328, 0.2511, 0.2218, 0.1769, 0.1706, 0.1221, 0.1184, 0.1041, 0.0921, 0.0888, 0.0794, 0.0794, 0.0733, 0.0723, 0.0694, 0.0687, 0.0656, 0.0644, 0.0601, 0.0597, 0.0594, 0.0592, 0.0576, 0.0571, 0.0558, 0.0557, 0.0552, 0.0549, 0.053\n",
            "\n",
            "Topic 3: communication, signal, gesture, communicative, speech, meaning, multimodal, communicate, receiver, message, form, discourse, medium, emergence, nonverbal, sign, pragmatic, face, verbal, vocal, mean, semiotic, perspective, emerge, signaling, others, primate, interpersonal, share, combinatorial\n",
            "\n",
            "Topic 3: 2.4732, 0.5222, 0.258, 0.2551, 0.221, 0.1837, 0.1527, 0.1489, 0.139, 0.1307, 0.1028, 0.1008, 0.0992, 0.0879, 0.081, 0.0809, 0.0791, 0.0782, 0.0724, 0.0698, 0.0694, 0.0681, 0.0659, 0.065, 0.0641, 0.0593, 0.0585, 0.0581, 0.0565, 0.0556\n",
            "\n",
            "Topic 4: music, musical, sound, auditory, performance, rhythm, musician, listener, composition, listen, musicality, improvisation, rhythmic, piece, musicology, pitch, performer, composer, style, dance, acoustic, listening, domain, audio, speech, emotional, melody, instrument, structure, genre\n",
            "\n",
            "Topic 4: 2.5987, 1.0107, 0.3164, 0.1362, 0.1348, 0.1336, 0.1144, 0.113, 0.103, 0.0895, 0.0879, 0.087, 0.0783, 0.0765, 0.0736, 0.0697, 0.0681, 0.0671, 0.0656, 0.0653, 0.0642, 0.0636, 0.0559, 0.0558, 0.0546, 0.0543, 0.0542, 0.0541, 0.0539, 0.0532\n",
            "\n",
            "Topic 5: network, dynamic, functional, region, connectivity, complex, structure, connection, brain_region, pattern, large_scale, functional_connectivity, graph, node, structural, hub, organization, architecture, default_mode, semantic, control, within, here_we, modular, property, resting_state, organize, module, identify, global\n",
            "\n",
            "Topic 5: 2.6087, 0.2613, 0.2324, 0.2265, 0.1953, 0.1677, 0.1554, 0.1379, 0.1363, 0.1347, 0.1296, 0.1232, 0.1127, 0.1124, 0.1027, 0.0995, 0.0933, 0.086, 0.0835, 0.0826, 0.0769, 0.0757, 0.0753, 0.0731, 0.072, 0.07, 0.0696, 0.065, 0.062, 0.0619\n",
            "\n",
            "Topic 6: art, technology, digital, practice, aesthetic, image, cultural, medium, culture, artistic, artist, artwork, computer, material, form, create, explore, author, history, tool, generative, way, machine, performance, project, interactive, application, translation, creation, device\n",
            "\n",
            "Topic 6: 1.6066, 1.0006, 0.6466, 0.4005, 0.3527, 0.3126, 0.3116, 0.3087, 0.2817, 0.2644, 0.2347, 0.2328, 0.1918, 0.1783, 0.1737, 0.1733, 0.1511, 0.1474, 0.1371, 0.1277, 0.1267, 0.1243, 0.119, 0.1108, 0.1065, 0.106, 0.1017, 0.1009, 0.1004, 0.1001\n",
            "\n",
            "Topic 7: consciousness, conscious, state, quantum, conscious_experience, machine, unconscious, attention, awareness, neural_correlate, physical, content, hard_problem, phenomenal, level, propose, scientific, subjective, iit, ncc, qualia, phenomenal_consciousness, aspect, subjective_experience, reality, access, dream, conscious_state, phenomenon, nature\n",
            "\n",
            "Topic 7: 2.6845, 0.3943, 0.203, 0.2011, 0.153, 0.1421, 0.138, 0.1282, 0.1266, 0.1109, 0.1108, 0.0927, 0.0882, 0.0847, 0.0806, 0.0787, 0.0748, 0.0743, 0.0705, 0.0686, 0.0676, 0.0651, 0.0619, 0.0618, 0.0612, 0.0605, 0.0578, 0.0565, 0.0559, 0.0552\n",
            "\n",
            "Topic 8: learning, learn, learner, child, education, environment, based, educational, teaching, skill, acquire, technology, change, acquisition, strategy, infant, context, reward, instruction, imitation, enhance, pedagogical, ability, active, sequence, play, associative_learning, curiosity, teach, rule\n",
            "\n",
            "Topic 8: 2.131, 1.7101, 0.3386, 0.1818, 0.1763, 0.1643, 0.1157, 0.1107, 0.0968, 0.0946, 0.0937, 0.0845, 0.0819, 0.0765, 0.0711, 0.0694, 0.0689, 0.0679, 0.0662, 0.0637, 0.0625, 0.0621, 0.0604, 0.0603, 0.0602, 0.0585, 0.0581, 0.0565, 0.0556, 0.0555\n",
            "\n",
            "Topic 9: representation, represent, abstract, conceptual, semantic, neural, content, mental_representation, support, symbolic, ontology, evidence, encode, format, role, category, similarity, concrete, perceptual, linguistic, structure, number, domain, external, across, hippocampus, hippocampal, sensorimotor, meaning, map\n",
            "\n",
            "Topic 9: 2.5184, 0.2174, 0.2099, 0.2024, 0.1865, 0.1823, 0.0976, 0.0969, 0.0886, 0.0859, 0.0843, 0.0842, 0.0834, 0.0805, 0.078, 0.0718, 0.0715, 0.0699, 0.0693, 0.0679, 0.0676, 0.0663, 0.0649, 0.0624, 0.0618, 0.0612, 0.0598, 0.0576, 0.0576, 0.0576\n",
            "\n",
            "Topic 10: robot, robotics, machine, robotic, robot_interaction, artificial, moral, like, hri, robots, people, humanoid_robot, ai, future, ethical, humanoid, make, develop, child, architecture, autonomous, entity, emotional, explore, interact_with, artificial_intelligence, capability, empathy, also, embodiment\n",
            "\n",
            "Topic 10: 2.2865, 0.4411, 0.2449, 0.2265, 0.1568, 0.1524, 0.1177, 0.1047, 0.0966, 0.0937, 0.087, 0.0852, 0.0828, 0.0795, 0.0714, 0.0679, 0.0669, 0.0668, 0.0654, 0.0618, 0.0599, 0.0595, 0.0584, 0.0571, 0.0568, 0.0556, 0.0543, 0.0537, 0.0534, 0.0529\n",
            "\n",
            "Topic 11: cognition, cognitive_science, embodied, view, embody, quantum, embodied_cognition, embodiment, computation, extend, enactive, computational, account, situate, symbolic, perspective, enactivism, abstract, mathematical, theoretical, information_processing, ground, support, role, culture, capacity, enactivist, thesis, aspect, cognitive_architecture\n",
            "\n",
            "Topic 11: 2.546, 0.2409, 0.1616, 0.1475, 0.1319, 0.121, 0.1158, 0.1047, 0.0967, 0.0922, 0.0922, 0.0752, 0.0703, 0.0681, 0.0656, 0.0655, 0.0614, 0.0607, 0.0572, 0.0498, 0.046, 0.0452, 0.0448, 0.0442, 0.0435, 0.0434, 0.0407, 0.0387, 0.0384, 0.038\n",
            "\n",
            "Topic 12: object, category, feature, property, physical, subject, tool, recognition, affordances, object_recognition, perceptual, play, mathematical, represent, scene, shape, material, part, objects, child, identity, view, file, recognize, location, attribute, region, relation, thing, individuation\n",
            "\n",
            "Topic 12: 2.534, 0.1937, 0.1525, 0.1444, 0.105, 0.0833, 0.0832, 0.0771, 0.0768, 0.0767, 0.0753, 0.0749, 0.0738, 0.0733, 0.071, 0.0708, 0.0693, 0.0675, 0.065, 0.0636, 0.0609, 0.0604, 0.0581, 0.0568, 0.0541, 0.0532, 0.0524, 0.0517, 0.0514, 0.0512\n",
            "\n",
            "Topic 13: animal, behaviour, specie, plant, comparative, non, ability, behavioural, insect, signal, bird, ethology, navigation, environment, tool, vertebrate, animals, complex, primate, movement, nonhuman_animal, nervous_system, our_understanding, capacity, mammal, behavioral, different, associative_learning, ecology, comparative_psychology\n",
            "\n",
            "Topic 13: 2.3459, 0.3098, 0.2071, 0.1685, 0.1576, 0.1503, 0.1346, 0.1229, 0.1211, 0.116, 0.1069, 0.1047, 0.0959, 0.0898, 0.0808, 0.0704, 0.0699, 0.069, 0.0683, 0.0672, 0.0657, 0.0651, 0.0644, 0.0642, 0.0636, 0.0632, 0.0624, 0.0583, 0.0552, 0.0503\n",
            "\n",
            "Topic 14: mechanism, propose, attention, mechanistic, phenomenon, causal, level, mechanistic_explanation, different, explanation, mechanisms, component, prediction, feature, evidence, neural, underlie, integration, account, produce, specific, operation, hypothesis, involve, allow, understand, explanatory, plasticity, effect, simulation\n",
            "\n",
            "Topic 14: 2.3159, 0.1639, 0.1591, 0.1574, 0.1556, 0.1528, 0.142, 0.1161, 0.1064, 0.0886, 0.0864, 0.0835, 0.0829, 0.0814, 0.0779, 0.0758, 0.0758, 0.0738, 0.0734, 0.0728, 0.0716, 0.0685, 0.0667, 0.066, 0.0628, 0.0627, 0.0626, 0.0612, 0.0605, 0.0584\n",
            "\n",
            "Topic 15: intelligence, ai, machine, artificial_intelligence, turing, intelligent, test, artificial_general, artificial_intelligence_ai, ability, agi, turing_test, general_intelligence, natural, computing, collective, artificial, problem, multiple, individual_difference, principle, computer, computational, ci, solve, gardner, goal, consider, compute, architecture\n",
            "\n",
            "Topic 15: 2.3434, 0.5631, 0.3363, 0.2189, 0.1677, 0.1642, 0.128, 0.1047, 0.0951, 0.0933, 0.0881, 0.087, 0.0852, 0.0761, 0.0758, 0.0736, 0.066, 0.0633, 0.0582, 0.0577, 0.0576, 0.0574, 0.0534, 0.0511, 0.0491, 0.0486, 0.0482, 0.0482, 0.0482, 0.0476\n",
            "\n",
            "Topic 16: creativity, creative, idea, novelty, novel, computational_creativity, imagination, generation, creative_thinking, innovation, generate, measure, analogy, ability, solution, thought, divergent_thinking, individual, support, domain, idea_generation, artistic, evaluation, stimulate, thinking, role, output, computational, activity, people\n",
            "\n",
            "Topic 16: 2.1285, 1.3079, 0.2695, 0.1251, 0.1193, 0.1145, 0.095, 0.0948, 0.0936, 0.0911, 0.0887, 0.0864, 0.0818, 0.0789, 0.078, 0.078, 0.0752, 0.0726, 0.072, 0.0712, 0.0621, 0.0572, 0.0564, 0.0561, 0.0552, 0.0535, 0.0525, 0.0506, 0.0503, 0.0499\n",
            "\n",
            "Topic 17: space, spatial, time, temporal, map, dimension, environment, navigation, hippocampus, event, structure, hippocampal, location, mapping, conceptual, relation, architecture, physical, place, pattern, within, mental, orientation, represent, dynamic, different, architectural, motion, future, landmark\n",
            "\n",
            "Topic 17: 1.7459, 1.2254, 0.8718, 0.3874, 0.2649, 0.1552, 0.1415, 0.1396, 0.1362, 0.1332, 0.1253, 0.1009, 0.0994, 0.0989, 0.095, 0.0944, 0.0942, 0.0878, 0.0878, 0.0846, 0.0816, 0.0795, 0.0791, 0.0779, 0.0752, 0.072, 0.0696, 0.0693, 0.068, 0.067\n",
            "\n",
            "Topic 18: knowledge, conceptual, domain, logic, world, acquire, semantic, epistemic, know, belief, structure, scientific, skill, people, logical, represent, understanding, this_chapter, reasoning, aspect, transfer, explicit, acquisition, common_sense, source, epistemology, knowledge_acquisition, category, basic, create\n",
            "\n",
            "Topic 18: 2.4659, 0.1539, 0.1468, 0.1394, 0.1381, 0.1326, 0.1094, 0.1015, 0.0966, 0.085, 0.0828, 0.075, 0.0743, 0.0735, 0.0651, 0.0643, 0.0641, 0.0629, 0.0626, 0.0589, 0.0583, 0.0569, 0.0557, 0.055, 0.0542, 0.0541, 0.0514, 0.0505, 0.0505, 0.0501\n",
            "\n",
            "Topic 19: task, effect, experiment, processing, control, word, performance, stimulus, result, test, attention, evidence, response, participant, hypothesis, suggest_that, ability, semantic, support, show_that, find, paradigm, however, item, finding, measure, wm, activation, condition, demonstrate\n",
            "\n",
            "Topic 19: 1.4168, 0.5996, 0.5461, 0.5152, 0.4889, 0.4714, 0.4388, 0.3925, 0.3584, 0.3544, 0.3467, 0.3196, 0.3065, 0.29, 0.2482, 0.2441, 0.2292, 0.2272, 0.2245, 0.2074, 0.1975, 0.1939, 0.188, 0.1836, 0.182, 0.1789, 0.1776, 0.1623, 0.1618, 0.1561\n",
            "\n",
            "Topic 20: analysis, method, data, technique, tool, apply, methodology, level, image, analyze, fmri, application, text, statistical, methodological, pattern, functional, result, eeg, group, quantitative, interpretation, experimental, multimodal, qualitative, measure, discourse, allow, subject, combine\n",
            "\n",
            "Topic 20: 1.4112, 1.3008, 1.192, 0.3728, 0.2603, 0.1917, 0.1733, 0.1729, 0.1644, 0.1519, 0.1474, 0.1416, 0.1359, 0.1355, 0.13, 0.1268, 0.1224, 0.1178, 0.1104, 0.1101, 0.11, 0.1086, 0.1045, 0.0979, 0.0964, 0.0857, 0.0844, 0.084, 0.0802, 0.0783\n",
            "\n",
            "Topic 21: design, designer, thinking, artifact, user, architecture, practice, product, tool, hci, based, engineering, principle, activity, problem, create, technology, framework, explore, architectural_design, architectural, reflection, digital, paradigm, project, team, architect, pattern, graphic, sketch\n",
            "\n",
            "Topic 21: 2.5484, 0.3156, 0.1547, 0.1421, 0.1377, 0.1174, 0.1148, 0.1137, 0.0908, 0.0895, 0.0838, 0.083, 0.075, 0.0708, 0.0676, 0.0668, 0.0659, 0.0627, 0.0627, 0.062, 0.0613, 0.0611, 0.0608, 0.0608, 0.0595, 0.0585, 0.0581, 0.0549, 0.0536, 0.0525\n",
            "\n",
            "Topic 22: action, motor, goal, intention, mirror_neuron, movement, affordances, gesture, imitation, others, understanding, act, sensorimotor, perform, execution, plan, actor, sequence, planning, simulation, hand, event, observation, activity, infant, control, mirror, prediction, involve, observed\n",
            "\n",
            "Topic 22: 2.6426, 0.3748, 0.1717, 0.1386, 0.1335, 0.1253, 0.1158, 0.1048, 0.1048, 0.1046, 0.1045, 0.1035, 0.0981, 0.0965, 0.0917, 0.0826, 0.0807, 0.0787, 0.0784, 0.0758, 0.0748, 0.0735, 0.0708, 0.0687, 0.0677, 0.0675, 0.0652, 0.0578, 0.057, 0.0554\n",
            "\n",
            "Topic 23: self, control, sense, aspect, others, mirror, psychological, life, identity, reference, oneself, self_awareness, bodily, form, individual, also, agency, moral, account, notion, free_will, philosophical, capacity, world, subject, reflective, person, distinction, formation, minimal\n",
            "\n",
            "Topic 23: 2.5471, 0.1422, 0.1022, 0.0898, 0.0827, 0.0703, 0.0691, 0.0651, 0.0639, 0.0637, 0.0582, 0.0572, 0.0569, 0.0521, 0.0517, 0.0486, 0.0479, 0.0448, 0.0448, 0.0445, 0.0438, 0.0423, 0.0422, 0.0419, 0.0416, 0.041, 0.0404, 0.0398, 0.0397, 0.039\n",
            "\n",
            "Topic 24: narrative, story, event, character, generation, structure, storytelling, reader, text, world, comprehension, generate, emergent, situation, discourse, framework, sequence, literary, fiction, interactive, based, fictional, film, read, player, form, coherence, reading, narratology, novel\n",
            "\n",
            "Topic 24: 2.0624, 0.8035, 0.4655, 0.3375, 0.2318, 0.2124, 0.1631, 0.1355, 0.1349, 0.1174, 0.1023, 0.0988, 0.0902, 0.0856, 0.0811, 0.0757, 0.0756, 0.0741, 0.0735, 0.0724, 0.0718, 0.0705, 0.0698, 0.068, 0.0672, 0.0668, 0.0664, 0.0625, 0.0616, 0.0598\n",
            "\n",
            "Topic 25: agent, belief, environment, behaviour, goal, world, artificial_agent, reason_about, intention, agency, state, logic, decision_making, based, change, framework, simulation, allow, ai, multi_agent, others, architecture, artificial, bdi, dynamic, show_that, reason, result, epistemic, autonomous\n",
            "\n",
            "Topic 25: 2.3826, 0.3629, 0.206, 0.1941, 0.1692, 0.1562, 0.1378, 0.1203, 0.1181, 0.1138, 0.1073, 0.105, 0.1049, 0.1017, 0.0908, 0.0864, 0.084, 0.0821, 0.0816, 0.0801, 0.0793, 0.079, 0.0775, 0.0728, 0.0723, 0.0721, 0.0712, 0.0706, 0.0696, 0.0687\n",
            "\n",
            "Topic 26: game, player, play, video_game, digital_game, games, role, child, ai, explore, signal, gameplay, mechanic, strategy, computer_game, gaming, serious, rule, chess, game_play, videogames, cooperation, board, go, based, genre, character, way, medium, strategic\n",
            "\n",
            "Topic 26: 2.2802, 0.6681, 0.5758, 0.1798, 0.1342, 0.121, 0.1188, 0.1048, 0.1026, 0.0927, 0.088, 0.0819, 0.0721, 0.0699, 0.0661, 0.0627, 0.0626, 0.0602, 0.0601, 0.0588, 0.0586, 0.0584, 0.058, 0.0578, 0.0573, 0.056, 0.0539, 0.052, 0.0498, 0.0478\n",
            "\n",
            "Topic 27: social, social_interaction, individual, group, cultural, others, neuroscience, influence, collective, society, culture, people, sociality, socially, identity, context, relationship, share, life, structure, behaviour, face, cooperation, cue, medium, interpersonal, simulation, shape, perspective, primate\n",
            "\n",
            "Topic 27: 2.7916, 0.2153, 0.1949, 0.1882, 0.1322, 0.1166, 0.101, 0.0941, 0.0913, 0.0849, 0.0827, 0.0794, 0.0757, 0.0749, 0.0716, 0.0707, 0.0679, 0.064, 0.0568, 0.0538, 0.0537, 0.0529, 0.0512, 0.0488, 0.0477, 0.0456, 0.0447, 0.0446, 0.0441, 0.0427\n",
            "\n",
            "Topic 28: question, answer, whether, address, raise, ask, issue, concern, how_do, machine, debate, important, could, turing, type, way, pose, would, generation, generate, remain, question_about, philosophical, discussion, still, first, give, challenge, nature, think\n",
            "\n",
            "Topic 28: 2.0277, 0.7893, 0.3221, 0.3175, 0.1964, 0.1945, 0.1859, 0.1433, 0.1383, 0.1167, 0.1043, 0.1009, 0.0996, 0.0957, 0.0942, 0.0937, 0.0926, 0.0832, 0.0825, 0.082, 0.0767, 0.0767, 0.07, 0.069, 0.0651, 0.0638, 0.0634, 0.0631, 0.0628, 0.0608\n",
            "\n",
            "Topic 29: body, movement, embodied, embodiment, bodily, physical, motor, environment, embodied_cognition, embody, gesture, dance, sensorimotor, part, sense, hand, explore, world, control, somatic, perspective, image, view, body_schema, move, motion, practice, this_article, role, ownership\n",
            "\n",
            "Topic 29: 2.2023, 0.8643, 0.3301, 0.281, 0.2681, 0.1878, 0.1803, 0.1715, 0.1421, 0.1416, 0.1367, 0.1234, 0.1181, 0.1134, 0.1048, 0.0974, 0.0877, 0.0807, 0.0792, 0.0791, 0.0752, 0.0748, 0.0748, 0.0712, 0.0689, 0.0662, 0.0655, 0.0627, 0.0615, 0.0579\n",
            "\n",
            "Topic 30: perception, sensory, perceptual, auditory, sound, processing, sens, vision, signal, world, stimulus, color, environment, sense, multisensory, perceive, motor, olfactory, smell, conscious, illusion, olfaction, modality, sensation, attention, shape, taste, integration, acoustic, gibson\n",
            "\n",
            "Topic 30: 1.8592, 0.8801, 0.7269, 0.4699, 0.3361, 0.2721, 0.2438, 0.24, 0.2392, 0.2104, 0.2003, 0.1917, 0.1832, 0.1761, 0.1703, 0.163, 0.1246, 0.1017, 0.0973, 0.096, 0.0955, 0.0942, 0.0936, 0.093, 0.0889, 0.0888, 0.0866, 0.0857, 0.0852, 0.0843\n",
            "\n",
            "Topic 31: problem, account, explanation, view, logic, term, phenomenon, notion, reason, argument, causal, way, property, computational, meaning, cognitive_science, philosophy, non, reasoning, logical, framework, content, semantics, inference, case, propose, belief, do_not, interpretation, idea\n",
            "\n",
            "Topic 31: 0.8949, 0.717, 0.6958, 0.5993, 0.4109, 0.3662, 0.3524, 0.3363, 0.3269, 0.2951, 0.2857, 0.2813, 0.2698, 0.2677, 0.2642, 0.2545, 0.2472, 0.2446, 0.2386, 0.2385, 0.2359, 0.2292, 0.2246, 0.2236, 0.2216, 0.2207, 0.2155, 0.214, 0.2139, 0.2116\n",
            "\n",
            "Topic 32: behavior, behavioral, control, skinner, goal, neural, decision_making, complex, circuit, environment, analysis, individual, change, adaptive, pattern, dynamic, choice, influence, psychology, neural_circuit, moral, understand, organism, psychological, response, organization, strategy, motivation, decision, underlie\n",
            "\n",
            "Topic 32: 2.4839, 0.5924, 0.1115, 0.1058, 0.0985, 0.0971, 0.0864, 0.0825, 0.0772, 0.0734, 0.0725, 0.0717, 0.0716, 0.0701, 0.0679, 0.0645, 0.0593, 0.0566, 0.0557, 0.0556, 0.054, 0.0533, 0.052, 0.0498, 0.0482, 0.048, 0.0478, 0.0473, 0.0466, 0.0452\n",
            "\n",
            "Topic 33: cell, biological, biology, life, cellular, molecular, cancer, organism, protein, disease, genetic, gene, molecule, tissue, complex, physical, physic, complexity, discovery, plant, chemical, principle, dna, fundamental, physiology, phenomenon, origin, membrane, quantum, organization\n",
            "\n",
            "Topic 33: 1.6233, 0.7813, 0.6866, 0.58, 0.4679, 0.3458, 0.3446, 0.3269, 0.3258, 0.2727, 0.241, 0.2238, 0.2232, 0.2223, 0.2022, 0.1939, 0.1873, 0.1634, 0.1624, 0.1597, 0.1559, 0.1484, 0.1402, 0.1372, 0.1329, 0.129, 0.1286, 0.1286, 0.1218, 0.119\n",
            "\n",
            "Topic 34: human, machine, ability, non, primate, computer, like, ai, capacity, artificial_intelligence, unique, specie, capability, nature, modern, understand, technology, human_being, humans, understanding, world, society, reason, make, could, reasoning, share, other_specie, tool, chimpanzee\n",
            "\n",
            "Topic 34: 2.8232, 0.2305, 0.1958, 0.1879, 0.1408, 0.1161, 0.1144, 0.1129, 0.111, 0.0871, 0.0814, 0.0804, 0.0804, 0.0777, 0.0775, 0.0761, 0.0708, 0.0634, 0.0622, 0.0602, 0.0589, 0.0585, 0.0575, 0.0571, 0.057, 0.0543, 0.0539, 0.0487, 0.0484, 0.0471\n",
            "\n",
            "Topic 35: interaction, context, dynamic, environment, embodied, interactive, individual, activity, perspective, multimodal, user, conversation, coordination, framework, focus_on, different, social_interaction, affordances, interaction_between, within, role, engagement, explore, way, co, complex, interactional, interact_with, hci, ecological\n",
            "\n",
            "Topic 35: 2.1608, 0.426, 0.3872, 0.319, 0.2141, 0.1772, 0.1763, 0.1596, 0.1536, 0.1239, 0.1218, 0.1184, 0.117, 0.1121, 0.1112, 0.1051, 0.105, 0.1028, 0.1007, 0.0978, 0.0969, 0.0871, 0.0854, 0.0844, 0.0794, 0.0789, 0.0788, 0.076, 0.0758, 0.0752\n",
            "\n",
            "Topic 36: emotion, emotional, affective, emotions, affect, expression, appraisal, emotion_regulation, feeling, facial_expression, psychology, emotion_recognition, emotional_state, decision_making, basic, express, personality, psychological, facial, propose, regulate, user, computational_model, affective_computing, detection, architecture, recognition, recognize, component, motivation\n",
            "\n",
            "Topic 36: 2.7268, 0.4586, 0.213, 0.1345, 0.1295, 0.0937, 0.0883, 0.0868, 0.0844, 0.0798, 0.0789, 0.0738, 0.0623, 0.0623, 0.0604, 0.0576, 0.0573, 0.0534, 0.0533, 0.0525, 0.0512, 0.0506, 0.0466, 0.0447, 0.0445, 0.0441, 0.0441, 0.0422, 0.0418, 0.0402\n",
            "\n",
            "Topic 37: model, propose, based, modeling, computational_model, mathematical, simulation, describe, mental, dynamic, prediction, develop, theoretical, modelling, framework, conceptual, formal, computational, architecture, neural_network, bayesian, cognitive_architecture, predict, implement, internal, simulate, abstract, capture, build, generative\n",
            "\n",
            "Topic 37: 2.9474, 0.1918, 0.1693, 0.1615, 0.1286, 0.1205, 0.1172, 0.1042, 0.0979, 0.0965, 0.0963, 0.0811, 0.0809, 0.0769, 0.0745, 0.0715, 0.0675, 0.0674, 0.0653, 0.058, 0.056, 0.0558, 0.0556, 0.0553, 0.055, 0.0535, 0.0517, 0.0516, 0.0512, 0.051\n",
            "\n",
            "Topic 38: language, linguistic, processing, word, speech, language_acquisition, linguistics, meaning, production, acquisition, thought, sign, bilingual, syntax, structure, bilingualism, grammar, second, syntactic, speaker, role, child, communicative, natural_language, semantic, aspect, specific, expression, symbolic, comprehension\n",
            "\n",
            "Topic 38: 3.0437, 0.4148, 0.2417, 0.1761, 0.1637, 0.151, 0.1369, 0.1228, 0.1101, 0.1084, 0.1037, 0.0928, 0.0917, 0.0914, 0.0851, 0.0823, 0.0811, 0.0807, 0.0804, 0.0796, 0.0749, 0.0737, 0.0735, 0.0717, 0.0709, 0.0664, 0.0623, 0.0615, 0.0614, 0.0602\n",
            "\n",
            "Topic 39: metaphor, metaphorical, conceptual_metaphor, domain, conceptual, abstract, discourse, metaphoric, mapping, source, cognitive_linguistics, analogy, metonymy, linguistic, lakoff, expression, concrete, comprehension, interpretation, target_domain, context, figurative, metaphors, literal, structure, johnson, meaning, understanding, corpus, novel\n",
            "\n",
            "Topic 39: 2.409, 0.31, 0.2556, 0.1948, 0.1883, 0.159, 0.1528, 0.1482, 0.1264, 0.1202, 0.0952, 0.0925, 0.0901, 0.0897, 0.084, 0.0815, 0.0779, 0.0779, 0.076, 0.0756, 0.0739, 0.0718, 0.0699, 0.0697, 0.0692, 0.0682, 0.0652, 0.0649, 0.0584, 0.0581\n",
            "\n",
            "Topic 40: student, mathematical, mathematics, activity, understanding, teach, teacher, thinking, teaching, reasoning, classroom, practice, education, gesture, course, educational, instruction, school, develop, reason, diagram, learner, help, construct, conceptual, physic, schema, skill, idea, engage\n",
            "\n",
            "Topic 40: 1.9168, 0.9098, 0.4161, 0.3155, 0.2984, 0.2785, 0.2659, 0.2557, 0.2411, 0.2366, 0.2245, 0.1992, 0.1947, 0.1919, 0.1444, 0.1435, 0.1401, 0.1385, 0.1341, 0.1336, 0.1288, 0.1225, 0.1176, 0.1136, 0.1132, 0.1105, 0.1066, 0.105, 0.1042, 0.1023\n",
            "\n",
            "Topic 41: evolution, evolutionary, change, developmental, adaptation, evolve, selection, cultural, biological, trait, natural_selection, genetic, specie, adaptive, gene, culture, environment, origin, organism, variation, fitness, ecological, individual, population, cultural_evolution, emergence, hypothesis, life, inheritance, phenotype\n",
            "\n",
            "Topic 41: 1.7526, 1.3357, 0.4024, 0.3643, 0.3594, 0.3006, 0.29, 0.2729, 0.2564, 0.2545, 0.2281, 0.2252, 0.2059, 0.2023, 0.2022, 0.1987, 0.1919, 0.1887, 0.1843, 0.1687, 0.1621, 0.1568, 0.1521, 0.1511, 0.1422, 0.1412, 0.1348, 0.1232, 0.1212, 0.1198\n",
            "\n",
            "Topic 42: memory, retrieval, event, hippocampus, remember, episodic_memory, store, past, recall, hippocampal, storage, formation, reconsolidation, encode, future, engram, consolidation, long_term_memory, forget, sleep, forgetting, retrieve, collective_memory, item, memory_trace, form, encoding, recollection, time, episodic\n",
            "\n",
            "Topic 42: 3.0262, 0.1895, 0.1879, 0.1878, 0.1866, 0.1712, 0.1583, 0.1349, 0.1258, 0.1197, 0.1057, 0.1052, 0.0975, 0.0934, 0.0921, 0.0898, 0.0895, 0.0837, 0.0825, 0.0809, 0.0763, 0.0757, 0.0708, 0.0703, 0.0697, 0.0694, 0.0649, 0.0648, 0.0648, 0.0636\n",
            "\n",
            "Topic 43: brain, neuroscience, activity, neural, neuron, connectivity, area, fmri, functional, neuronal, cognitive_neuroscience, neuroimaging, change, neuroscientist, circuit, connection, plasticity, organization, brain_region, functioning, connectome, large_scale, brain_imaging, state, whole, dynamic, nervous_system, neuroscientific, disorder, computation\n",
            "\n",
            "Topic 43: 2.9918, 0.2765, 0.2355, 0.2201, 0.1606, 0.1145, 0.1124, 0.1001, 0.0962, 0.0881, 0.0879, 0.0844, 0.08, 0.0753, 0.0726, 0.0715, 0.0696, 0.0634, 0.0615, 0.0597, 0.0582, 0.0562, 0.0549, 0.0546, 0.0543, 0.054, 0.054, 0.0532, 0.0527, 0.0491\n",
            "\n",
            "Topic 44: information, store, information_processing, informational, sensory, shannon, encode, context, relevant, semantic, work_memory, represent, environment, retrieval, computation, storage, integrate, floridi, source, transfer, contain, processing, structure, neuron, acquire, integration, curiosity, definition, dna, meaning\n",
            "\n",
            "Topic 44: 2.669, 0.143, 0.1298, 0.1091, 0.1049, 0.0821, 0.0805, 0.0776, 0.0702, 0.0679, 0.0655, 0.0647, 0.0647, 0.0639, 0.0633, 0.058, 0.0557, 0.0552, 0.0545, 0.0518, 0.0516, 0.0513, 0.0512, 0.0485, 0.0482, 0.048, 0.0455, 0.0454, 0.0432, 0.0427\n",
            "\n",
            "Topic 45: system, complex, control, complexity, dynamic, biological, emergence, component, artificial, systems, level, organization, computational, autonomous, ai, property, emergent, self_organization, framework, within, complex_adaptive, describe, principle, interact, develop, multiple, intelligent, adaptive, biology, natural\n",
            "\n",
            "Topic 45: 2.8009, 0.2915, 0.1613, 0.1377, 0.1251, 0.1162, 0.1139, 0.1085, 0.1051, 0.1024, 0.0955, 0.0859, 0.0786, 0.077, 0.0756, 0.0713, 0.0711, 0.0685, 0.0632, 0.0621, 0.0616, 0.0611, 0.0594, 0.0589, 0.0582, 0.0566, 0.0538, 0.0517, 0.0505, 0.0476\n",
            "\n",
            "Topic 46: function, structure, functional, role, structural, protein, form, biological, organization, neural, understand, serve, anatomical, different, element, hippocampus, mapping, perform, cortical, specific, describe, dream, support, basic, relationship, motor, cortex, term, cerebellar, circuit\n",
            "\n",
            "Topic 46: 2.2658, 0.8109, 0.4, 0.2201, 0.1832, 0.1288, 0.1166, 0.1117, 0.1008, 0.1001, 0.0737, 0.0736, 0.0728, 0.0705, 0.069, 0.0688, 0.0685, 0.0657, 0.0629, 0.0626, 0.062, 0.0613, 0.0603, 0.0571, 0.057, 0.0546, 0.0536, 0.0533, 0.0514, 0.0509\n",
            "\n",
            "Topic 47: visual, vision, image, attention, eye, processing, stimulus, area, visual_perception, scene, feature, face, visual_cortex, see, spatial, object_recognition, visualization, eye_movement, light, motion, recognition, pathway, perceptual, neuron, gaze, color, visually, content, early, retina\n",
            "\n",
            "Topic 47: 2.5687, 0.4341, 0.3358, 0.2462, 0.1582, 0.148, 0.1239, 0.1231, 0.1111, 0.1061, 0.104, 0.0801, 0.08, 0.0754, 0.0748, 0.0746, 0.0744, 0.069, 0.0687, 0.0637, 0.0623, 0.062, 0.0617, 0.0614, 0.0572, 0.0566, 0.0558, 0.0499, 0.0497, 0.0494\n",
            "\n",
            "Topic 48: experience, way, sense, dream, event, world, people, phenomenon, individual, thought, user, sensory, life, reality, phenomenology, emotional, color, make, meaning, presence, create, experiential, abstract, embodied, sens, content, flow, imagination, smell, feeling\n",
            "\n",
            "Topic 48: 2.3711, 0.1552, 0.1465, 0.1443, 0.1382, 0.1188, 0.1088, 0.1044, 0.1016, 0.0973, 0.097, 0.0894, 0.089, 0.0829, 0.081, 0.0772, 0.0761, 0.0761, 0.0755, 0.0746, 0.0739, 0.0717, 0.0716, 0.0706, 0.0705, 0.0704, 0.0697, 0.0697, 0.0682, 0.0668\n",
            "\n",
            "Topic 49: review, neuroscience, clinical, psychology, literature, highlight, area, current, issue, include, theoretical, perspective, future, this_chapter, advance, disease, contribution, topic, disorder, recent, focus_on, describe, scientific, treatment, this_article, understanding, discipline, potential, application, important\n",
            "\n",
            "Topic 49: 0.9292, 0.7852, 0.4185, 0.3945, 0.3552, 0.343, 0.3377, 0.3342, 0.3317, 0.3282, 0.3155, 0.3095, 0.2894, 0.286, 0.2825, 0.2802, 0.2783, 0.2768, 0.2721, 0.2682, 0.2646, 0.2496, 0.2435, 0.2382, 0.2345, 0.2339, 0.2323, 0.227, 0.2238, 0.2235\n",
            "\n"
          ]
        }
      ]
    },
    {
      "cell_type": "code",
      "metadata": {
        "colab": {
          "base_uri": "https://localhost:8080/",
          "height": 393
        },
        "outputId": "6f053ce4-98e9-4e12-a2c3-bc194dc4935a",
        "id": "1kLp2QQcGcL2"
      },
      "source": [
        "NMF_cluster1 = H1.argmax(axis=0)\n",
        "plt.figure(figsize=(8,6))\n",
        "plt.hist(NMF_cluster0, bins=num_topics1)\n",
        "plt.xlabel('NMF topic', fontsize=16)\n",
        "plt.ylabel('Number of papers in topic', fontsize=16)\n",
        "plt.show()"
      ],
      "execution_count": null,
      "outputs": [
        {
          "output_type": "display_data",
          "data": {
            "image/png": "[encoded data removed]",
            "text/plain": [
              "<Figure size 576x432 with 1 Axes>"
            ]
          },
          "metadata": {
            "needs_background": "light"
          }
        }
      ]
    },
    {
      "cell_type": "code",
      "source": [
        "# save\n",
        "with open(os.path.join(DRIVE_PATH,'nextstep', 'NMF_after_20220224.pkl'),'wb') as f:\n",
        "    pickle.dump((nmf1, W1, H1, idx_to_word1, after_Id), f)"
      ],
      "metadata": {
        "id": "dCoZx-u4DTJa"
      },
      "execution_count": null,
      "outputs": []
    },
    {
      "cell_type": "code",
      "metadata": {
        "id": "fuvEdQnxDTJa"
      },
      "source": [
        "supertopics_dict_before = dict(zip(before_Id, NMF_cluster0))\n",
        "supertopic_to_keyword_before = {i:list(idx_to_word0[topic.argsort()[:-6:-1].astype(int)]) for i, topic in enumerate(W0.T)}\n",
        "id_to_topicword_before = {id:supertopic_to_keyword0[supertopics_dict0[id]] for id in before_Id}"
      ],
      "execution_count": null,
      "outputs": []
    },
    {
      "cell_type": "markdown",
      "metadata": {
        "id": "ITKzKC0XDTJa"
      },
      "source": [
        "### NMF level 2"
      ]
    },
    {
      "cell_type": "code",
      "metadata": {
        "id": "-Vz95JqmDTJa"
      },
      "source": [
        "def run_level2_nmf(vectors, n_subtopics, topic_id, NMF_cluster, idx_to_word):\n",
        "  nmf = NMF(n_components=n_subtopics, init='random', random_state=0)\n",
        "\n",
        "  subset = vectors[:, NMF_cluster==topic_id]\n",
        "  print(subset.shape)\n",
        "  W = nmf.fit_transform(subset)\n",
        "  H = nmf.components_\n",
        "\n",
        "  for i, topic in enumerate(W.transpose()):\n",
        "    print(\"Topic {}: {}\\n\".format(i,\", \".join(reversed(idx_to_word[topic.argsort()[-30:].astype(int)]))))\n",
        "  \n",
        "  return W, H\n",
        "\n",
        "def update_subtopics_dict(subtopics_dict, id_to_subtopicword, topic_id, W, sub_NMF_cluster, fields_df_Id, NMF_cluster, idx_to_word):\n",
        "  subtopics_dict0 = dict(zip(fields_df_Id[NMF_cluster==topic_id], sub_NMF_cluster))\n",
        "  subtopic_to_keyword0 = {i:list(idx_to_word[topic.argsort()[:-6:-1].astype(int)]) for i, topic in enumerate(W.T)}\n",
        "  id_to_subtopicword0 = {id:subtopic_to_keyword0[subtopics_dict0[id]] for id in fields_df_Id[NMF_cluster==topic_id]}\n",
        "  \n",
        "  subtopics_dict.update(subtopics_dict0)\n",
        "  id_to_subtopicword.update(id_to_subtopicword0)\n"
      ],
      "execution_count": null,
      "outputs": []
    },
    {
      "cell_type": "code",
      "metadata": {
        "colab": {
          "base_uri": "https://localhost:8080/"
        },
        "outputId": "7e73700c-5786-4e5d-bd4c-c6d15da255e9",
        "id": "wKIpq89xDTJa"
      },
      "source": [
        "subtopics_dict_before = {}\n",
        "id_to_subtopicword_before = {}\n",
        "\n",
        "ns = [10, 10, 8, 8, 4, 10, 10, 10, 10, 10, 8, 10, 10, 10, 10]\n",
        "for id, n in enumerate(ns):\n",
        "  print('====')\n",
        "  print('topic id', id)\n",
        "  W, H = run_level2_nmf(vectors0, n, id, NMF_cluster0, idx_to_word0)\n",
        "  sub_NMF_cluster0 = H.argmax(axis=0)\n",
        "  update_subtopics_dict(subtopics_dict_before, id_to_subtopicword_before, id, W, sub_NMF_cluster0, before_Id, NMF_cluster0, idx_to_word0)\n",
        "  "
      ],
      "execution_count": null,
      "outputs": [
        {
          "output_type": "stream",
          "name": "stdout",
          "text": [
            "====\n",
            "topic id 0\n",
            "(8584, 1643)\n",
            "Topic 0: model, disease, development, system, discuss, knowledge, animal, science, conceptual, review, many, describe, human, develop, way, structure, introduce, include, propose, representation, domain, developmental, understand, general, focus_on, scientific, basic, feature, consider, apply\n",
            "\n",
            "Topic 1: analogy, analogical, mapping, model, high_level, describe, similarity, stage, student, computational_model, analogical_reasoning, behaviour, inference, problem, structural, connectionist_model, competitive, extent, incremental, constraint, approximate, experiment, genomics, an_adequate, relational, drama, holyoak, support, pre, people\n",
            "\n",
            "Topic 2: cognition, model, connectionist, symbolic, connectionist_model, computational, architecture, neural_network, connectionism, different, cognitive, simulation, pdp, localist, learn, simulate, based, human, hybrid, cognitive_science, classical, implementation, paradigm, aspect, provide, fodor, mcclelland, ai, representation, discuss\n",
            "\n",
            "Topic 3: bayesian, causal, model, psychological, probability, bayesian_inference, probabilistic, rational, jones, reasoning, mechanistic, inference, theoretical, explanation, assumption, induction, love, account, normative, problem, cognitive_science, algorithmic, data, enlightenment, formulation, must, commitment, multiple, commentary, rely_on\n",
            "\n",
            "Topic 4: mathematical, modelling, model, biological, phenomenon, formal, mathematics, drug, system, reality, physical, may, understanding, behaviour, science, circadian, experimental, process, hypothesis, describe, example, help, qualitative, biology, application, analysis, computational, provide, complexity, neuron\n",
            "\n",
            "Topic 5: behavior, model, neural, level, behavioral, modeling, control, architecture, mechanism, computational, system, schema, task, neuron, motor, brain, movement, develop, perception, computational_model, pathway, animal, complex, cortical, function, prey, network, functional, frog, hippocampal\n",
            "\n",
            "Topic 6: mental, model, reason, premise, inference, reasoning, construct, conclusion, experiment, logic, reasoner, construction, situation, johnson_laird, problem, student, logical, represent, corroborate, propositional, deductive_reasoning, deduction, rule, conditionals, true, relation, qualitative, discourse, strategy, explanation\n",
            "\n",
            "Topic 7: process, cognitive, model, describe, story, information, propose, level, component, information_processing, attention, processing, discuss, development, creative, work, framework, work_memory, environment, narrative, human, discourse, perceptual, within, this_article, reader, text, intelligence, generation, representation\n",
            "\n",
            "Topic 8: data, model, account, effect, processing, experiment, task, show, result, prediction, test, word, stimulus, time, error, also, evidence, support, author, semantic, predict, response, based, report, associative, activation, decision, reading, phonological, category\n",
            "\n",
            "Topic 9: communication, model, dynamic, social, agent, simulation, network, context, role, interaction, dialogue, game, structure, individual, formal, propose, emergence, conversation, actor, based, phenomenon, form, system, meaning, self, semantics, information, describe, semantic, organizational\n",
            "\n",
            "====\n",
            "topic id 1\n",
            "(8584, 2138)\n",
            "Topic 0: attention, attentional, feature, location, top_down, processing, selection, mechanism, based, bottom_up, selective_attention, shift, stimulus, attentive, direct, control, process, task, visual_search, model, focus, neural, modulate, select, attend, review, binding, role, modulation, reading\n",
            "\n",
            "Topic 1: information, process, content, form, signal, meaning, question, transfer, term, environment, sensory, human, notion, conceptual, involve, semantic, integration, definition, informational, auditory, work, relevant, communication, source, encode, different, mean, available, may, whether\n",
            "\n",
            "Topic 2: visual, system, representation, image, area, brain, process, visual_perception, literacy, knowledge, human, processing, model, mechanism, many, design, cortical, review, visually, neuron, world, art, eye, analysis, data, discuss, color, visual_cortex, primate, communication\n",
            "\n",
            "Topic 3: motion, processing, movement, move, observer, color, insect, orientation, response, self, area, property, influence, neuron, pathway, neural, biological, apparent, signal, psychophysical, dynamic, review, form, evoke, include, cue, perceive, retinal, retina, fictive\n",
            "\n",
            "Topic 4: stimulus, word, processing, task, experiment, effect, face, letter, result, response, picture, semantic, participant, process, recognition, target, show, suggest, test, evidence, performance, find, name, item, number, pattern, hypothesis, read, subject, support\n",
            "\n",
            "Topic 5: spatial, space, representation, body, map, represent, time, temporal, navigation, location, people, cue, auditory, structure, mental_representation, human, movement, also, property, different, multisensory, environment, suggest, egocentric, code, number, evidence, place, move, cognition\n",
            "\n",
            "Topic 6: perceptual, experience, sensory, conceptual, illusion, processing, auditory, account, property, view, modality, representation, content, similarity, sense, may, categorization, form, world, filling, feature, term, activity, different, subject, process, category, make, phenomenon, state\n",
            "\n",
            "Topic 7: perception, sensory, gibson, stimulus, image, auditory, process, scene, feature, environment, color, direct, picture, perceive, event, action, world, visual_perception, way, colour, surface, principle, property, psychophysics, organism, percept, illusion, depth, phenomenon, provide\n",
            "\n",
            "Topic 8: object, representation, infant, object_recognition, shape, property, feature, action, based, category, identity, part, child, recognition, relation, view, represent, function, show, see, different, scene, physical, knowledge, world, event, location, recognize, change, individuation\n",
            "\n",
            "Topic 9: vision, binocular, early, see, pathway, system, eye, visual_perception, visual, high_level, computational, light, human, psychophysics, function, natural, image, neurophysiology, review, depth, peripheral, world, central, scene, mechanism, optic, disparity, processing, control, audition\n",
            "\n",
            "====\n",
            "topic id 2\n",
            "(8584, 1479)\n"
          ]
        },
        {
          "output_type": "stream",
          "name": "stderr",
          "text": [
            "/usr/local/lib/python3.7/dist-packages/sklearn/decomposition/_nmf.py:1641: ConvergenceWarning: Maximum number of iterations 200 reached. Increase it to improve convergence.\n",
            "  ConvergenceWarning,\n"
          ]
        },
        {
          "output_type": "stream",
          "name": "stdout",
          "text": [
            "Topic 0: action, perception, system, object, control, representation, event, effect, knowledge, human, process, change, execution, language, goal, reason_about, perform, state, problem, describe, provide, description, information, planning, analysis, result, also, evidence, such_as, involve\n",
            "\n",
            "Topic 1: belief, logic, reason_about, reason, knowledge, update, context, change, belief_revision, represent, logical, epistemic, reasoning, revision, state, set, model, desire, agent, operator, revise, epistemic_logic, provide, allow, believe, sentence, describe, program, hold, problem\n",
            "\n",
            "Topic 2: logic, semantics, communication, speech_act, commitment, communicative, conversation, protocol, dialogue, language, framework, communicative_act, act, dynamic, pragmatic, meaning, utterance, mental_attitude, deontic, propose, reason_about, based, interaction, mental_state, express, define, conversational, formal, notion, domain\n",
            "\n",
            "Topic 3: agent, model, notion, cognitive, architecture, environment, bdi, state, world, social, multi_agent, reason, society, result, agents, system, knowledge, human, behavior, multi_agent_system, order, capability, based, problem, communication, application, mind, interaction, propose, such_as\n",
            "\n",
            "Topic 4: motor, imitation, mirror_neuron, action, representation, observation, mirror_system, others, understanding, mirror_neuron_system, simulation, mirror, resonance, execution, monkey, verb, sensory, observed, ability, imagery, evidence, activation, neuron, system, activate, human, social_cognition, mechanism, understand, neural\n",
            "\n",
            "Topic 5: movement, control, perception, body, coordination, information, act, environment, motor_control, reach, ecological_approach, collective, imitation, process, collective_memory, within, order, rhythmic, motion, make, ideomotor, effect, actor, perceptual, integrate, sensory, performance, way, object, subject\n",
            "\n",
            "Topic 6: social, self, game, simulation, behavior, interaction, activity, play, model, character, process, environment, narrative, goal, behaviour, others, role, individual, situated, cognition, body, experience, propose, form, situate, context, cognitive, story, embodied, based\n",
            "\n",
            "Topic 7: intention, goal, plan, bdi, intentional, desire, intentionality, mental_state, conscious, others, intentional_action, infer, joint_action, obligation, notion, architecture, mirror_neuron_system, agency, understand, revision, joint, attitude, act, inference, ability, account, operator, logic, describe, defeasible\n",
            "\n",
            "====\n",
            "topic id 3\n",
            "(8584, 1185)\n",
            "Topic 0: consciousness, brain, human, model, machine, function, system, discuss, scientific, may, problem, propose, aspect, process, development, view, property, artificial, level, understand, neural, question, cognition, attention, conscious_experience, philosophical, cognitive, also, behavior, many\n",
            "\n",
            "Topic 1: stream, awareness, james, consciousness, occurrence, william_james, mental, inner, component, experience, principles, self_awareness, instance, kind, hold, account, bodily, present_article, time, basic, conception, series, pulse, content, second, perceptual, address, certain, intrinsic, every\n",
            "\n",
            "Topic 2: conscious, unconscious, process, thought, state, mental_state, system, global_workspace, processing, baars, mental, machine, think, content, evidence, information, something, perception, computational, global_workspace_theory, cognitive, like, non, voluntary, become, may, information_processing, function, psychological, suggest\n",
            "\n",
            "Topic 3: experience, phenomenal, state, phenomenal_consciousness, access, phenomenology, qualia, conscious_experience, sensory, block, neural_correlate, content, neural, attention, conscious_state, perception, empirical, subjective, like, world, account, report, feel, description, way, hard_problem, perceptual, phenomenally, information, term\n",
            "\n",
            "Topic 4: mind, body, philosophy, physical, mental, problem, cognitive_science, science, brain, thought, philosophical, scientific, question, matter, turing_test, book, machine, ai, intentionality, work, indian, view, world, human, answer, way, think, argument, philosopher, nature\n",
            "\n",
            "Topic 5: self, sense, aspect, self_awareness, body, experience, person, process, representation, subject, talk, others, propose, form, reflective, entity, concepts, different, interpersonal, conceptual, non, buddhist, reflection, analytic, representations, nature, development, inner_speech, immunology, within\n",
            "\n",
            "Topic 6: quantum, brain, state, physical, consciousness, penrose, psychosomatic, level, classical, energy, quantum_mechanic, physic, medicine, coherent, process, model, holistic, system, dynamic, altered_state, holographic, acupuncture, proposal, cell, non, computation, neural_network, subjective, law, neurology\n",
            "\n",
            "Topic 7: dream, lucid, wake, consciousness, sleep, state, dreaming, freud, altered_state, rem_sleep, may, wakefulness, possible, system, also, induce, awareness, propose, model, body, reality, non, hallucination, result, provide, neurobiological, suggest, complement, fall, integrate\n",
            "\n",
            "====\n",
            "topic id 4\n",
            "(8584, 1776)\n",
            "Topic 0: language, human, evolution, brain, system, cognition, cognitive, model, evolutionary, emergence, process, origin, linguistics, discuss, mind, social, evolve, view, may, change, learning, complex, capacity, function, thought, aspect, way, biological, ability, understand\n",
            "\n",
            "Topic 1: word, meaning, communication, processing, semantic, speech, model, sentence, syntactic, syntax, semantics, process, structure, form, mean, comprehension, system, symbolic, provide, analysis, aspect, involve, representation, context, grammatical, agent, communicate, human, task, function\n",
            "\n",
            "Topic 2: child, language_acquisition, language, development, acquisition, learning, input, learn, learner, acquire, second, sla, grammar, process, play, adult, infant, second_language_acquisition, speech, knowledge, role, evidence, social, developmental, early, first, perspective, interaction, cognitive, vygotsky\n",
            "\n",
            "Topic 3: linguistic, structure, linguistics, cognitive, language, natural_language, representation, cognitive_linguistics, syntax, grammar, universal, innate, spatial, hypothesis, chomsky, phenomenon, system, form, cognition, analysis, principle, category, generative_grammar, non, thought, conceptual, empirical, nonlinguistic, linguist, linguistic_competence\n",
            "\n",
            "====\n",
            "topic id 5\n",
            "(8584, 3534)\n",
            "Topic 0: process, task, comprehension, mathematical, involve, schema, mental, information, processing, thinking, student, model, problem, analysis, performance, problem_solving, context, thought, strategy, component, complex, effect, experiment, activity, decision_making, result, text, production, control, reading\n",
            "\n",
            "Topic 1: cognition, view, spatial, perception, cognitive_science, computation, human, perspective, issue, affect, computational, extended, notion, body, cognitive_architecture, development, paradigm, discuss, embody, different, challenge, form, embodied, information_processing, system, thesis, phenomenon, nature, aspect, work\n",
            "\n",
            "Topic 2: conceptual, structure, domain, semantic, category, space, represent, ontology, abstract, analogy, semantics, feature, schema, change, meaning, relation, specific, level, domain_specific, entity, property, different, model, propose, role, linguistic, construct, system, type, child\n",
            "\n",
            "Topic 3: logic, logical, context, semantics, formal, belief, mathematical, ai, notion, framework, contextual, property, program, natural_language, mathematics, introduce, nonmonotonic, information, proposition, temporal, semantic, artificial_intelligence, formalism, computational, dynamic, give, pragmatic, sentence, intensional, discuss\n",
            "\n",
            "Topic 4: cognitive_science, content, mind, argument, computational, view, connectionism, fodor, computation, philosophy, account, mental_representation, explanation, thought, classical, connectionist, mental, state, symbol, problem, notion, symbolic, way, philosophical, non, conception, psychology, meaning, semantic, question\n",
            "\n",
            "Topic 5: knowledge, system, know, acquire, information, human, world, expert, model, represent, understanding, ai, based, explicit, describe, discuss, implicit, learn, epistemological, acquisition, management, form, development, language, context, develop, application, science, learning, knowledge_acquisition\n",
            "\n",
            "Topic 6: representation, abstract, problem, represent, spatial, form, model, notion, system, support, world, space, view, propositional, information, object, numerical, level, construct, environment, issue, different, number, propose, way, agent, diagram, suggest, explicit, state\n",
            "\n",
            "Topic 7: inference, text, reader, causal, discourse, comprehension, information, rule, analogy, generation, story, text_comprehension, logical, generate, coherence, people, analogical, reading, make, premise, belief, processing, narrative, sentence, model, draw, read, conditional, mapping, form\n",
            "\n",
            "Topic 8: reasoning, reason, problem, problem_solving, conclusion, ability, domain, reason_about, spatial, strategy, commonsense, diagram, student, argument, task, child, expert, formal, logical, argumentation, defeasible, meta, premise, evidence, mental, probabilistic, form, analogy, support, human\n",
            "\n",
            "Topic 9: cognitive, development, model, map, system, mechanism, human, ability, environment, function, behavior, tool, modeling, framework, develop, perspective, change, analysis, provide, agent, structure, social, intelligence, individual, evolution, developmental, issue, science, discuss, dynamic\n",
            "\n",
            "====\n",
            "topic id 6\n",
            "(8584, 2049)\n",
            "Topic 0: system, model, behavior, knowledge, general, human, discuss, development, question, anticipatory, learn, nature, function, memory, visual, provide, science, multiple, develop, learning, context, may, review, social, describe, examine, propose, implicit, functional, basis\n",
            "\n",
            "Topic 1: control, motor, system, movement, level, sensory, behavior, mechanism, feedback, neural, cybernetics, action, task, oculomotor, body, process, coordination, attention, device, sensorimotor, model, goal, engineering, eye_movement, principle, brain, general, signal, may, muscle\n",
            "\n",
            "Topic 2: self, autopoietic, autopoiesis, organization, system, living, process, live_system, structure, social, individual, network, organism, autonomy, component, maturana, life, organize, varela, structural, unity, autonomous, representation, non, produce, regulation, suggest, environment, coupling, include\n",
            "\n",
            "Topic 3: information, sensory, process, communication, information_processing, structure, signal, cybernetics, system, evolutionary, informational, evolution, meaning, world, entropy, semantic, exchange, way, auditory, non, functional, shannon, environment, fundamental, energy, generation, activity, perception, neural, idea\n",
            "\n",
            "Topic 4: dynamic, model, system, development, stability, state, change, self_organization, developmental, agent, environment, level, principle, coordination, process, perspective, different, result, interaction, behavior, such_as, learn, organization, view, example, order, describe, give, lead, internal\n",
            "\n",
            "Topic 5: complex, complexity, system, science, adaptive, network, many, behavior, understand, biology, behaviour, principle, social, phenomenon, interaction, interact, simple, natural, world, pattern, highly, way, perspective, structure, element, chaotic, nonlinear, self_organization, individual, characteristic\n",
            "\n",
            "Topic 6: cognitive, system, mind, human, artificial, computer, computational, cognition, reason, processing, environment, representation, process, explanation, problem, based, design, reasoning, knowledge, task, support, symbol, logic, natural, vision, describe, symbolic, user, physical, develop\n",
            "\n",
            "Topic 7: semiotic, sign, communication, symbol, semiotics, system, meaning, symbolic, semiosis, level, relation, object, mode, mathematical, based, notion, introduce, live_system, user, signal, interpretation, peirce, process, ai, closure, language, digital, reference, discourse, cybernetics\n",
            "\n",
            "Topic 8: biological, biology, system, function, component, functional, organism, cell, property, disease, cellular, network, mechanism, model, life, physic, physical, living, phenomenon, behavior, artificial, molecular, analysis, evolution, mathematical, different, understanding, biologist, kind, physiology\n",
            "\n",
            "Topic 9: emergence, systems, notion, property, system, systemic, definition, part, framework, evolution, define, within, composite, living, life, component, entity, whole, emergent, artificial_life, intelligence, provide, explanation, context, description, thinking, consider, domain, abstract, particular\n",
            "\n",
            "====\n",
            "topic id 7\n",
            "(8584, 1917)\n"
          ]
        },
        {
          "output_type": "stream",
          "name": "stderr",
          "text": [
            "/usr/local/lib/python3.7/dist-packages/sklearn/decomposition/_nmf.py:1616: ConvergenceWarning: Maximum number of iterations 200 reached. Increase it to improve convergence.\n",
            "  random_state=self.random_state,\n"
          ]
        },
        {
          "output_type": "stream",
          "name": "stdout",
          "text": [
            "Topic 0: learning, model, human, social, process, system, cognitive, framework, discuss, machine, describe, development, language, problem, brain, work, domain, propose, this_article, aspect, provide, discovery, based, action, guide, active, knowledge, generative, area, environment\n",
            "\n",
            "Topic 1: transfer, instruction, analogy, context, training, concrete, analogical, effect, learn, procedure, strategy, programming, processing, retrieval, experiment, abstract, practice, test, based, problem_solving, concreteness, show, example, problem, task, learned, abstraction, condition, generic, information\n",
            "\n",
            "Topic 2: child, word, development, object, language, acquisition, linguistic, developmental, meaning, innate, general, acquire, constraint, gesture, language_acquisition, children, read, domain, novel, early, mechanism, school, learn, phonological, conceptual, principle, young_child, cognitive, domain_specific, ability\n",
            "\n",
            "Topic 3: learn, human, principle, process, mechanism, fact, system, nature, agent, people, object, model, individual, develop, discuss, issue, way, provide, work, current, knowledge, such_as, example, examine, self, set, review, also, aspect, experience\n",
            "\n",
            "Topic 4: educational, education, environment, teaching, process, design, teach, practice, instructional, instruction, interaction, context, activity, cognitive, technology, perspective, knowledge, social, skill, play, understanding, implication, development, game, classroom, based, tool, framework, experience, cognition\n",
            "\n",
            "Topic 5: task, sequence, knowledge, implicit_learning, performance, implicit, skill, strategy, rule, explicit, experiment, participant, text, effect, acquire, result, acquisition, serial, training, evidence, stimulus, test, condition, motor, structure, show, abstract, learning, process, instruction\n",
            "\n",
            "Topic 6: behavior, mechanism, animal, stimulus, response, process, model, associative, memory, simple, form, behavioral, associative_learning, rule, representation, change, phenomenon, event, cue, conditioning, result, rat, account, causal, imitation, general, suggest, involve, may, association\n",
            "\n",
            "Topic 7: learner, process, text, knowledge, input, learning, meaningful, information, ability, cognitive, structure, may, inductive_reasoning, representation, communication, role, material, idea, need, model, explore, teacher, collaborative_learning, language, generate, also, meaning, strategy, map, discourse\n",
            "\n",
            "Topic 8: student, teacher, analogy, map, science, way, make, teach, problem, conceptual, mathematics, understand, gesture, design, material, experience, example, mathematical, representation, program, lecture, model, physic, information, classroom, environment, strategy, problem_solving, idea, curriculum\n",
            "\n",
            "Topic 9: category, categorization, prototype, exemplar, model, task, learning, representation, feature, structure, object, stimulus, effect, people, base_rate, classification, error, experiment, similarity, suggest, categorize, bias, result, different, information, symbolic, dimension, participant, relational, novel\n",
            "\n",
            "====\n",
            "topic id 8\n",
            "(8584, 778)\n",
            "Topic 0: emotion, basic, model, experience, human, system, emotions, cognitive, perspective, psychological, term, role, view, process, state, work, this_article, different, consider, social, function, music, propose, cognition, suggest, understand, aspect, expression, abstract, language\n",
            "\n",
            "Topic 1: affect, detection, character, ai, improvisational, actor, work, metaphorical, mood, context, project, human, dialogue, virtual, also, user, evaluation, improvisation, convey, computer, focus_on, emotion, textual, speech, dramatic, report, judgment, user_interface, affective_state, communication\n",
            "\n",
            "Topic 2: emotion_regulation, emotion, regulate, model, control, cole, regulation, child, definition, review, variability, describe, strategy, perspective, construct, behavioral, development, involve, process, individual, others, address, versus, cognitive, generation, integrate, leave_out, imaging, martin, behavior\n",
            "\n",
            "Topic 3: emotional, model, experience, system, process, component, human, life, event, behaviour, machine, virtual, develop, memory, interactive, processing, character, brain, knowledge_base, also, primary, information, control, neutral, attention, realistic, way, level, cognitive_architecture, need\n",
            "\n",
            "Topic 4: agent, emotion, architecture, model, personality, mechanism, design, logic, propose, artificial_agent, action_selection, environment, human, framework, based, emotional_state, behaviour, reason_about, implement, deliberation, user, intelligent_agent, capability, aspect, intelligent, bdi, system, synthetic, describe, reasoning\n",
            "\n",
            "Topic 5: affective, neuroscience, ontology, affective_computing, science, game, discipline, affective_state, student, psychology, computer_interaction, community, compute, develop, process, definition, emotion, personality, address, representation, knowledge, human, method, stride, recognize, entity, effort, towards, reasoning, experience\n",
            "\n",
            "Topic 6: appraisal, emotion, process, model, computational_model, cognitive, antecedent, system, as_well_as, elicitation, dynamic, unfolding, episode, formal, module, architecture, cognition, feeling, integration, integrate, emotional_state, component, computational, abstract, engine, over_time, specification, with_respect, differentiation, need\n",
            "\n",
            "Topic 7: facial_expression, facial, expression, face, emotion, recognition, personality, communication, development, social, action, expressive, dialogue, utterance, display, signal, describe, automate, affective_computing, express, recognize, behavioral, data, perception, psychology, different, system, experience, application, basic\n",
            "\n",
            "Topic 8: decision_making, cognition, emotion, mind, moral, cognitive, neuroscience, process, mathematical, mechanism, aesthetic, relate, brain, understanding, perception, role, intuition, motivation, social, behavior, framework, knowledge_instinct, consciousness, function, include, discuss, somatic, thought, instinct, may\n",
            "\n",
            "Topic 9: robot, emotion, human, emotional_state, express, robotics, emotions, character, social, people, computer, communication, art, autonomy, capable, intelligent, capability, motivation, animal, equip_with, interaction, personality, model, expression, intelligence, behavior, application, personal, emotional_expression, robots\n",
            "\n",
            "====\n",
            "topic id 9\n",
            "(8584, 8021)\n",
            "Topic 0: evolution, evolutionary, biological, organism, biology, life, process, mechanism, function, adaptation, level, natural_selection, change, selection, structure, environment, evolve, adaptive, form, complexity, system, functional, origin, organization, specie, variation, evolutionary_biology, information, animal, complex\n",
            "\n",
            "Topic 1: problem, question, may, data, way, process, phenomenon, different, experiment, hypothesis, term, result, provide, idea, suggest, time, method, first, effect, task, evidence, response, make, account, theoretical, discuss, issue, many, case, show\n",
            "\n",
            "Topic 2: review, work, book, area, recent, topic, reader, contribution, current, issue, many, literature, provide, author, interest, publish, discuss, make, discussion, progress, this_chapter, technique, also, early, protein, important, function, several, first, include\n",
            "\n",
            "Topic 3: age, mechanism, aging, process, gerontology, lifespan, cause, program, senescence, age_related, old, cellular, stochastic, life_span, accumulation, child, plasticity, molecular_mechanism, death, level, molecular, understanding, biological, programmed, year, change, evidence, antagonistic, influence, basic\n",
            "\n",
            "Topic 4: science, psychology, philosophy, scientific, discipline, psychological, cognitive_science, history, mind, paradigm, philosophical, neuroscience, social, biology, philosopher, psychologist, physic, behaviorism, method, scientist, view, practice, nature, modern, contemporary, theoretical, cognitive_psychology, explanation, idea, within\n",
            "\n",
            "Topic 5: behavior, behavioral, analysis, skinner, control, environment, experimental, animal, verbal_behavior, operant, movement, behaviorism, level, within, stimulus, response, principle, influence, motor, organism, pattern, neuroscience, event, nervous_system, include, understand, functional, complex, physiological, method\n",
            "\n",
            "Topic 6: cell, cellular, protein, molecule, tissue, biology, molecular, biological, signal, life, network, cancer, membrane, differentiation, stem_cell, function, model, signaling, complex, growth, biologist, many, understanding, control, living_cell, cell_biology, structure, biochemical, process, plant\n",
            "\n",
            "Topic 7: development, developmental, change, process, child, motor, perspective, stage, cognitive, theoretical, early, model, system, adult, view, discuss, developmental_psychology, piaget, dynamic, this_article, recent, infant, human, understanding, framework, work, vygotsky, way, attachment, context\n",
            "\n",
            "Topic 8: disease, clinical, medicine, treatment, disorder, medical, diagnosis, therapy, patient, drug, health, understanding, basic, classification, therapeutic, symptom, clinician, pathogenesis, human, technique, application, advance, many, syndrome, diagnostic, discovery, cancer, heart, molecular, complex\n",
            "\n",
            "Topic 9: gene, genetic, genetics, molecular, protein, phenotype, environment, trait, genome, network, interaction, dna, developmental, behaviour, variation, environmental, epigenetic, molecular_biology, advance, pathway, inheritance, complex, disorder, mutation, molecular_genetics, factor, behavioural, genomics, genomic, human_genome\n",
            "\n",
            "====\n",
            "topic id 10\n",
            "(8584, 661)\n",
            "Topic 0: music, brain, human, emotion, language, perception, cognition, cognitive, model, system, computer, culture, may, emotional, domain, provide, discuss, such_as, evolution, processing, feature, understanding, mind, focus_on, review, musician, also, information, potential, affective\n",
            "\n",
            "Topic 1: performance, performer, expression, musician, expressive, instrument, audience, computer, improvisation, tempo, movement, analysis, real_time, piano, practice, generative, body, play, concert, gesture, communication, live, articulation, improvised, model, nature, result, synapse, expert, problem\n",
            "\n",
            "Topic 2: sound, sonic, auditory, timbre, experience, space, listen, temporal, source, communication, acoustic, form, physical, audio, electroacoustic_music, matter, environment, virtual, perception, different, image, synthesis, visual, part, body, embodiment, aspect, sense, material, meaning\n",
            "\n",
            "Topic 3: musical, system, structure, analysis, model, pattern, experience, listener, may, meaning, process, processing, work, cultural, develop, event, context, improvisation, structural, musical_instrument, rule, compose, form, complexity, consider, language, provide, aspect, memory, perception\n",
            "\n",
            "Topic 4: composition, composer, compositional, work, music, process, computer, score, tool, listener, create, timbre, space, aesthetic, algorithmic, piece, algorithm, model, author, creation, generative, synthesis, spatial, performer, musical_composition, sonic, electroacoustic_music, paradigm, this_article, time\n",
            "\n",
            "Topic 5: art, musicology, cognitive_science, systematic, form, aesthetic, visual, evolutionary, artistic, artist, creativity, space, artificial, develop, computational, cognitive, make, creative, humanity, melodic, historical, music, artwork, work, education, synesthesia, examine, include, critic, framework\n",
            "\n",
            "Topic 6: pitch, tonal, tone, chord, perception, tonality, harmonic, harmony, auditory, melodic, structure, listener, interval, tonal_music, acoustic, scale, perceptual, pattern, analysis, processing, way, involve, domain, principle, hierarchy, issue, model, temporal, melody, note\n",
            "\n",
            "Topic 7: rhythm, rhythmic, pulse, melody, temporal, oriented, performer, metrical, perception, meter, hear, harmony, sequence, music, listener, african, sense, organization, group, structure, time, timing, mathematical, computational_modeling, leading, voice, many, play, primacy, entrainment\n",
            "\n",
            "====\n",
            "topic id 11\n",
            "(8584, 1558)\n",
            "Topic 0: design, designer, process, knowledge, cognitive, engineering, activity, model, human, education, system, emergence, product, sketch, development, based, style, principle, abstract, paradigm, result, learning, support, representation, artifact, learn, visual, provide, different, method\n",
            "\n",
            "Topic 1: computer, work, artifact, human, system, technology, interface, activity, device, way, tool, mind, hci, computers, idea, machine, social, application, medium, many, environment, understand, view, could, people, call, history, procedure, development, example\n",
            "\n",
            "Topic 2: interaction, user, embodied, interactive, body, context, aesthetic, movement, environment, social, embodiment, design, affordances, framework, prototype, medium, describe, balance, interactional, springboard, bodily, whole_body, dialogue, interactivity, affordance, group, explore, engagement, technology, implication\n",
            "\n",
            "Topic 3: creativity, model, process, novelty, computational, definition, art, creation, domain, discuss, intelligence, exist, story, explore, artificial, attribute, psychology, may, imagery, discovery, also, investigate, ability, creative_thinking, sternberg, human, cognitive, propose, many, problem_solving\n",
            "\n",
            "Topic 4: metaphor, metaphorical, language, metaphoric, conceptual_metaphor, comprehension, metaphors, literal, process, conceptual, interpretation, discuss, suggest, cognitive, structure, cognitive_linguistics, novel, linguistic, model, knowledge, propose, abstract, mapping, also, organizational, mind, term, view, problem, example\n",
            "\n",
            "Topic 5: analogy, student, communication, context, process, idea, role, activity, understanding, model, domain, practice, understand, meaning, discourse, describe, conceptual, problem, analysis, work, construct, cognitive, way, suggest, interpretation, thinking, tool, problem_solving, function, visualization\n",
            "\n",
            "Topic 6: game, player, narrative, play, game_play, character, playing, gaming, computer_game, social, pervasive, discuss, social_interaction, video_game, simulation, meaning, shape, quest, world, process, engage, games, gestalt, playful, agency, medium, examine, virtual, rule, spatial\n",
            "\n",
            "Topic 7: creative, process, idea, novel, individual, solution, art, act, emergence, inspiration, thought, work, thinking, task, product, provide, problem, designer, produce, original, art_therapy, group, stage, activity, examine, insight, outcome, describe, result, account\n",
            "\n",
            "Topic 8: experience, user, narrative, story, technology, product, designer, way, interactive, develop, meaning, place, human, art, world, affective, body, create, movement, play, landscape, perception, may, embodied, framework, information, bodily, people, relationship_between, explore\n",
            "\n",
            "Topic 9: space, spatial, blend, architecture, architectural, structure, time, conceptual, place, event, blending, virtual, building, sound, notion, exploration, physical, architect, conceptual_blending, social, form, meaning, people, urban, mapping, explore, relationship, mental, input, change\n",
            "\n",
            "====\n",
            "topic id 12\n",
            "(8584, 2318)\n",
            "Topic 0: human, system, model, brain, development, communication, process, information, interaction, computer_interaction, understand, agent, non, language, technology, life, nature, perception, biological, discuss, way, design, form, understanding, work, experience, knowledge, thinking, make, factor\n",
            "\n",
            "Topic 1: primate, evolutionary, evolution, specie, evolve, ability, capacity, monkey, nonhuman_primate, tool, ape, comparative, chimpanzee, non, adaptation, human, infant, may, behaviour, cognitive, hominid, evidence, language, adaptive, communication, speech, evolutionary_psychology, face, hypothesis, mind\n",
            "\n",
            "Topic 2: behavior, behavioral, individual, analysis, environment, evolutionary, psychology, information, model, control, level, complex, science, biological, principle, ethology, adaptive, skinner, organism, psychological, organize, organization, evolutionary_psychology, gene, perspective, understand, show, group, dynamic, provide\n",
            "\n",
            "Topic 3: cognition, cognitive, human, ability, model, cognitive_science, provide, comparative, tool, architecture, process, psychology, information_processing, environment, cognitive_architecture, theoretical, performance, task, computational, spatial, technology, focus_on, decision_making, cognitive_psychology, artificial_intelligence, work, information, develop, analysis, set\n",
            "\n",
            "Topic 4: robot, interaction, robotics, robotic, communication, human, artificial, face, people, skill, robots, interact_with, child, develop, body, embodiment, imitation, discuss, build, ability, humanlike, movement, others, like, intelligent, capability, socially, developmental, artifact, learn\n",
            "\n",
            "Topic 5: social, individual, social_interaction, communication, interaction, social_cognition, behaviour, network, self, group, signal, people, agent, context, process, society, socially, development, psychology, others, provide, neuroscience, environment, play, system, structure, psychological, form, cognitive_neuroscience, review\n",
            "\n",
            "Topic 6: mind, machine, computer, turing, ai, turing_test, think, artificial_intelligence, program, could, like, psychology, question, chess, would, thinking, test, human_being, mental_state, game, understand, cognitive_science, people, computational, others, view, capacity, technology, computing, mental\n",
            "\n",
            "Topic 7: culture, cultural, individual, material, human, evolution, process, influence, biological, different, share, cultural_evolution, symbolic, shape, mechanism, evolve, inheritance, environment, cultural_transmission, adaptation, gene, product, way, form, nature, imitation, interaction, coevolution, capacity, change\n",
            "\n",
            "Topic 8: intelligence, test, intelligent, artificial_intelligence, ability, general, ai, construct, collective, turing_test, sternberg, psychometric, intelligent_behavior, measurement, level, measure, individual, discuss, iq, natural_intelligence, define, fluid, abstract, need, systems, performance, knowledge, cognitive, artificial, many\n",
            "\n",
            "Topic 9: animal, specie, question, ethology, may, model, comparative, comparative_psychology, signal, many, behaviour, laboratory, learn, however, share, nonhuman_animal, darwin, whether, non, tool, include, learning, ability, way, number, different, world, experimental, behavioral, animals\n",
            "\n",
            "====\n",
            "topic id 13\n",
            "(8584, 1980)\n",
            "Topic 0: brain, human, evolution, development, structure, change, work, may, view, learn, science, behavior, evolve, plasticity, system, functioning, understand, neuroscientist, early, learning, develop, book, model, way, organization, large, evolutionary, experience, biological, animal\n",
            "\n",
            "Topic 1: neuroscience, education, neuroscientific, educational, social, practice, discipline, psychology, brain, science, understanding, development, behavior, educator, bridge, advance, knowledge, scientific, finding, challenge, neuroscientist, cognitive_neuroscience, make, clinical, history, modern, this_article, learning, ethic, consumer\n",
            "\n",
            "Topic 2: network, functional, area, brain, connectivity, structural, connection, region, large_scale, complex, brain_region, activation, attention, task, cognitive, global, small, anatomical, may, organization, node, neuronal_network, cortical, processing, graph, principle, within, cognition, neuronal, integration\n",
            "\n",
            "Topic 3: cognitive_informatics, cognitive, science, natural_intelligence, process, intelligence, brain, internal, informatics, cognitive_science, information, engineering, computing, information_processing, model, mechanism, computer_science, ci, investigate, invited, enquiry, layer, renowned, external, wonder, panel, set, autonomously, application, as_well_as\n",
            "\n",
            "Topic 4: neuron, information, sensory, process, brain, model, computer, neural_network, representation, perception, system, computational, different, level, processing, motor, problem, understand, represent, mechanism, meaning, area, input, many, thought, question, action, computation, human, form\n",
            "\n",
            "Topic 5: mind, body, problem, brain, mental, consciousness, philosophy, physical, quantum, world, descartes, dualism, conscious, relation, science, understand, psychological, nature, experience, philosopher, view, cartesian, psychology, philosophical, perspective, neuroscientific, model, cognitive_neuroscience, cognitive_science, identity\n",
            "\n",
            "Topic 6: function, cognitive, structure, localization, area, brain, mental, understanding, cerebral_cortex, nervous_system, clinical, high, many, localize, th_century, lesion, motor, functional, cerebral, different, cerebellum, understand, may, perform, role, modularity, memory, process, such_as, view\n",
            "\n",
            "Topic 7: activity, brain, state, behavior, dynamic, process, eeg, pattern, mental, self, conscious, system, change, analysis, perception, dynamical, neuronal, stimulus, measure, mechanism, quantum, measurement, describe, specific, related, task, conscious_experience, control, behavioral, intention\n",
            "\n",
            "Topic 8: neural, reuse, event, dynamic, cognition, principle, process, biological, development, experience, cognitive, system, functional, structure, model, recent, connectivity, processing, cortical, may, pattern, functioning, modeling, support, term, anderson, complex, organization, several, evolutionary\n",
            "\n",
            "Topic 9: fmri, image, neuroimaging, human, technique, cognitive_neuroscience, method, data, brain, functional_magnetic_resonance_imaging, functional, imaging, task, development, technology, brain_imaging, analysis, reading, area, tool, processing, review, measure, activation, mapping, cognitive, advance, potential, different, limitation\n",
            "\n",
            "====\n",
            "topic id 14\n",
            "(8584, 1488)\n",
            "Topic 0: memory, system, development, human, learning, cognitive, work, function, issue, brain, model, knowledge, review, view, form, discuss, many, different, learn, recent, examine, theoretical, analysis, also, multiple, phenomenon, include, understanding, important, question\n",
            "\n",
            "Topic 1: experiment, item, effect, recall, task, word, processing, test, interference, performance, result, list, memory, span, subject, short_term_memory, picture, text, work_memory, account, semantic, encode, paradigm, show, participant, advantage, stimulus, data, condition, age\n",
            "\n",
            "Topic 2: recollection, familiarity, recognition_memory, recognition, memory, dual_process, judgment, process, signal_detection, source, false_memory, support, strength, know, item, procedure, evidence, test, implicit, model, provide, false, component, monitoring, whereas, distinct, face, suggest, mandler, strong\n",
            "\n",
            "Topic 3: reconsolidation, consolidation, process, memory_consolidation, reactivation, memory, amnesia, labile, memory_trace, sleep, evidence, disruption, consolidate, long_term_memory, state, become, stabilization, undergo, over_time, stable, formation, mechanism, initial, view, neocortical, know, time, molecular_mechanism, disrupt, trace\n",
            "\n",
            "Topic 4: information, storage, process, store, model, memory, human, learning, long_term_memory, brain, sensory, system, describe, learn, representation, mechanism, short_term_memory, structure, cognitive, information_processing, short_term, mental, behavior, term, propose, spatial, work_memory, retrieve, long_term, function\n",
            "\n",
            "Topic 5: hippocampus, hippocampal, declarative_memory, spatial, role, function, representation, region, brain, support, ltp, cortex, memory, learning, rat, dependent, model, relational, structure, neural, encode, neocortical, property, behavioral, parahippocampal, remote, synaptic_plasticity, long_term_potentiation, lesion, neuron\n",
            "\n",
            "Topic 6: episodic, episodic_memory, semantic_memory, memory, tulving, semantic, amnesia, declarative_memory, like, animal, human, system, distinction, factual, form, review, task, evidence, rodent, procedural, time, past, experience, neuroanatomical, propose, patient, specific, necessary, criterion, impairment\n",
            "\n",
            "Topic 7: event, past, experience, memory, false_memory, time, dream, imagine, occur, representation, future_event, recall, life, future, imagination, record, source, error, companion, state, misinformation, episode, original, eyewitness, sequence, people, personal, pair, reconstruction, narrative\n",
            "\n",
            "Topic 8: remember, past, collective_memory, remembering, self, know, social, individual, context, people, future, experience, forget, recall, view, voice, group, collective, future_event, mnemonic, knowledge, organizational, also, act, bartlett, encode, organization, within, notion, may\n",
            "\n",
            "Topic 9: retrieval, memory, storage, misinformation, cue, forgetting, retrieve, encode, memory_retrieval, interference, encoding, content, information, recall, recognition, error, effect, indicate, retrieval_cue, test, current, activation, context, confabulation, access, trace, role, failure, cause, inhibition\n",
            "\n"
          ]
        }
      ]
    },
    {
      "cell_type": "code",
      "metadata": {
        "id": "dOTOu7QgDTJa"
      },
      "source": [
        "# topics_df0 = pd.DataFrame.from_dict(supertopics_dict0, orient='index',columns=['SupertopicId'])\n",
        "# topics_df0['SubtopicId'] = topics_df0.index.map(subtopics_dict0)\n",
        "# topics_df0['SupertopicKeywords'] = topics_df0.index.map(id_to_topicword0)\n",
        "# topics_df0['SubtopicKeywords'] = topics_df0.index.map(id_to_subtopicword0)\n",
        "\n",
        "# topics_df0['Super3'] = topics_df0['SupertopicKeywords'].apply(lambda x: ', '.join(x[:3]))\n",
        "# topics_df0['Sub3'] = topics_df0['SubtopicKeywords'].apply(lambda x: ', '.join(x[:3]))"
      ],
      "execution_count": null,
      "outputs": []
    },
    {
      "cell_type": "code",
      "source": [
        "topics_df = pd.DataFrame(index = fields_df.Id)\n",
        "topics_df['SupertopicId_before'] = topics_df.index.map(supertopics_dict_before)\n",
        "topics_df['SubtopicId_before'] = topics_df.index.map(subtopics_dict_before)\n",
        "topics_df['SupertopicKeywords_before'] = topics_df.index.map(id_to_topicword_before)\n",
        "topics_df['SubtopicKeywords_before'] = topics_df.index.map(id_to_subtopicword_before)"
      ],
      "metadata": {
        "id": "l0mGt27zDTJa"
      },
      "execution_count": null,
      "outputs": []
    },
    {
      "cell_type": "code",
      "source": [
        "topics_df.head()"
      ],
      "metadata": {
        "colab": {
          "base_uri": "https://localhost:8080/",
          "height": 333
        },
        "outputId": "b8006769-c400-47b3-a3e6-50549be47f3f",
        "id": "b1Lb_O6_DTJa"
      },
      "execution_count": null,
      "outputs": [
        {
          "output_type": "execute_result",
          "data": {
            "text/html": [
              "\n",
              "  <div id=\"df-4f1e5c1c-2470-495f-9142-3ed13becb7f9\">\n",
              "    <div class=\"colab-df-container\">\n",
              "      <div>\n",
              "<style scoped>\n",
              "    .dataframe tbody tr th:only-of-type {\n",
              "        vertical-align: middle;\n",
              "    }\n",
              "\n",
              "    .dataframe tbody tr th {\n",
              "        vertical-align: top;\n",
              "    }\n",
              "\n",
              "    .dataframe thead th {\n",
              "        text-align: right;\n",
              "    }\n",
              "</style>\n",
              "<table border=\"1\" class=\"dataframe\">\n",
              "  <thead>\n",
              "    <tr style=\"text-align: right;\">\n",
              "      <th></th>\n",
              "      <th>SupertopicId_before</th>\n",
              "      <th>SubtopicId_before</th>\n",
              "      <th>SupertopicKeywords_before</th>\n",
              "      <th>SubtopicKeywords_before</th>\n",
              "    </tr>\n",
              "    <tr>\n",
              "      <th>Id</th>\n",
              "      <th></th>\n",
              "      <th></th>\n",
              "      <th></th>\n",
              "      <th></th>\n",
              "    </tr>\n",
              "  </thead>\n",
              "  <tbody>\n",
              "    <tr>\n",
              "      <th>1999653836</th>\n",
              "      <td>13.0</td>\n",
              "      <td>2.0</td>\n",
              "      <td>[brain, function, mind, neuroscience, neural]</td>\n",
              "      <td>[network, functional, area, brain, connectivity]</td>\n",
              "    </tr>\n",
              "    <tr>\n",
              "      <th>10833075</th>\n",
              "      <td>NaN</td>\n",
              "      <td>NaN</td>\n",
              "      <td>NaN</td>\n",
              "      <td>NaN</td>\n",
              "    </tr>\n",
              "    <tr>\n",
              "      <th>2163480486</th>\n",
              "      <td>9.0</td>\n",
              "      <td>6.0</td>\n",
              "      <td>[development, review, science, problem, work]</td>\n",
              "      <td>[cell, cellular, protein, molecule, tissue]</td>\n",
              "    </tr>\n",
              "    <tr>\n",
              "      <th>3022532439</th>\n",
              "      <td>2.0</td>\n",
              "      <td>4.0</td>\n",
              "      <td>[action, agent, motor, social, belief]</td>\n",
              "      <td>[motor, imitation, mirror_neuron, action, repr...</td>\n",
              "    </tr>\n",
              "    <tr>\n",
              "      <th>2439568532</th>\n",
              "      <td>NaN</td>\n",
              "      <td>NaN</td>\n",
              "      <td>NaN</td>\n",
              "      <td>NaN</td>\n",
              "    </tr>\n",
              "  </tbody>\n",
              "</table>\n",
              "</div>\n",
              "      <button class=\"colab-df-convert\" onclick=\"convertToInteractive('df-4f1e5c1c-2470-495f-9142-3ed13becb7f9')\"\n",
              "              title=\"Convert this dataframe to an interactive table.\"\n",
              "              style=\"display:none;\">\n",
              "        \n",
              "  <svg xmlns=\"http://www.w3.org/2000/svg\" height=\"24px\"viewBox=\"0 0 24 24\"\n",
              "       width=\"24px\">\n",
              "    <path d=\"M0 0h24v24H0V0z\" fill=\"none\"/>\n",
              "    <path d=\"M18.56 5.44l.94 2.06.94-2.06 2.06-.94-2.06-.94-.94-2.06-.94 2.06-2.06.94zm-11 1L8.5 8.5l.94-2.06 2.06-.94-2.06-.94L8.5 2.5l-.94 2.06-2.06.94zm10 10l.94 2.06.94-2.06 2.06-.94-2.06-.94-.94-2.06-.94 2.06-2.06.94z\"/><path d=\"M17.41 7.96l-1.37-1.37c-.4-.4-.92-.59-1.43-.59-.52 0-1.04.2-1.43.59L10.3 9.45l-7.72 7.72c-.78.78-.78 2.05 0 2.83L4 21.41c.39.39.9.59 1.41.59.51 0 1.02-.2 1.41-.59l7.78-7.78 2.81-2.81c.8-.78.8-2.07 0-2.86zM5.41 20L4 18.59l7.72-7.72 1.47 1.35L5.41 20z\"/>\n",
              "  </svg>\n",
              "      </button>\n",
              "      \n",
              "  <style>\n",
              "    .colab-df-container {\n",
              "      display:flex;\n",
              "      flex-wrap:wrap;\n",
              "      gap: 12px;\n",
              "    }\n",
              "\n",
              "    .colab-df-convert {\n",
              "      background-color: #E8F0FE;\n",
              "      border: none;\n",
              "      border-radius: 50%;\n",
              "      cursor: pointer;\n",
              "      display: none;\n",
              "      fill: #1967D2;\n",
              "      height: 32px;\n",
              "      padding: 0 0 0 0;\n",
              "      width: 32px;\n",
              "    }\n",
              "\n",
              "    .colab-df-convert:hover {\n",
              "      background-color: #E2EBFA;\n",
              "      box-shadow: 0px 1px 2px rgba(60, 64, 67, 0.3), 0px 1px 3px 1px rgba(60, 64, 67, 0.15);\n",
              "      fill: #174EA6;\n",
              "    }\n",
              "\n",
              "    [theme=dark] .colab-df-convert {\n",
              "      background-color: #3B4455;\n",
              "      fill: #D2E3FC;\n",
              "    }\n",
              "\n",
              "    [theme=dark] .colab-df-convert:hover {\n",
              "      background-color: #434B5C;\n",
              "      box-shadow: 0px 1px 3px 1px rgba(0, 0, 0, 0.15);\n",
              "      filter: drop-shadow(0px 1px 2px rgba(0, 0, 0, 0.3));\n",
              "      fill: #FFFFFF;\n",
              "    }\n",
              "  </style>\n",
              "\n",
              "      <script>\n",
              "        const buttonEl =\n",
              "          document.querySelector('#df-4f1e5c1c-2470-495f-9142-3ed13becb7f9 button.colab-df-convert');\n",
              "        buttonEl.style.display =\n",
              "          google.colab.kernel.accessAllowed ? 'block' : 'none';\n",
              "\n",
              "        async function convertToInteractive(key) {\n",
              "          const element = document.querySelector('#df-4f1e5c1c-2470-495f-9142-3ed13becb7f9');\n",
              "          const dataTable =\n",
              "            await google.colab.kernel.invokeFunction('convertToInteractive',\n",
              "                                                     [key], {});\n",
              "          if (!dataTable) return;\n",
              "\n",
              "          const docLinkHtml = 'Like what you see? Visit the ' +\n",
              "            '<a target=\"_blank\" href=https://colab.research.google.com/notebooks/data_table.ipynb>data table notebook</a>'\n",
              "            + ' to learn more about interactive tables.';\n",
              "          element.innerHTML = '';\n",
              "          dataTable['output_type'] = 'display_data';\n",
              "          await google.colab.output.renderOutput(dataTable, element);\n",
              "          const docLink = document.createElement('div');\n",
              "          docLink.innerHTML = docLinkHtml;\n",
              "          element.appendChild(docLink);\n",
              "        }\n",
              "      </script>\n",
              "    </div>\n",
              "  </div>\n",
              "  "
            ],
            "text/plain": [
              "            SupertopicId_before  ...                            SubtopicKeywords_before\n",
              "Id                               ...                                                   \n",
              "1999653836                 13.0  ...   [network, functional, area, brain, connectivity]\n",
              "10833075                    NaN  ...                                                NaN\n",
              "2163480486                  9.0  ...        [cell, cellular, protein, molecule, tissue]\n",
              "3022532439                  2.0  ...  [motor, imitation, mirror_neuron, action, repr...\n",
              "2439568532                  NaN  ...                                                NaN\n",
              "\n",
              "[5 rows x 4 columns]"
            ]
          },
          "metadata": {},
          "execution_count": 36
        }
      ]
    },
    {
      "cell_type": "code",
      "metadata": {
        "id": "WMhiuO42DTJa"
      },
      "source": [
        "# save\n",
        "with open(os.path.join(DRIVE_PATH,'nextstep', 'topics_df_220122.pkl'),'wb') as f:\n",
        "    pickle.dump(topics_df,f)"
      ],
      "execution_count": null,
      "outputs": []
    },
    {
      "cell_type": "code",
      "source": [
        "# with open(os.path.join(DRIVE_PATH, 'topics_df_new.pkl'), 'rb') as file:\n",
        "#     topics_df = pickle.load(file)"
      ],
      "metadata": {
        "id": "3xSQnurzDTJa"
      },
      "execution_count": null,
      "outputs": []
    }
  ]
}