{
  "nbformat": 4,
  "nbformat_minor": 0,
  "metadata": {
    "colab": {
      "name": "abstract_content_analysis.ipynb",
      "provenance": [],
      "collapsed_sections": [],
      "toc_visible": true,
      "machine_shape": "hm",
      "include_colab_link": true
    },
    "kernelspec": {
      "display_name": "Python 3",
      "name": "python3"
    },
    "language_info": {
      "name": "python"
    }
  },
  "cells": [
    {
      "cell_type": "markdown",
      "metadata": {
        "id": "view-in-github",
        "colab_type": "text"
      },
      "source": [
        "<a href=\"https://colab.research.google.com/github/HarlinLee/cogsci-missed-connections/blob/main/abstract_content_analysis.ipynb\" target=\"_parent\"><img src=\"https://colab.research.google.com/assets/colab-badge.svg\" alt=\"Open In Colab\"/></a>"
      ]
    },
    {
      "cell_type": "code",
      "metadata": {
        "id": "YEVN5PWumRzA"
      },
      "source": [
        "import os\n",
        "import numpy as np\n",
        "import pandas as pd\n",
        "import matplotlib.pyplot as plt\n",
        "import seaborn as sns\n",
        "import pickle\n",
        "\n",
        "from sklearn.feature_extraction.text import TfidfVectorizer\n",
        "from sklearn.decomposition import NMF\n",
        "\n",
        "import gensim\n",
        "from gensim.utils import simple_preprocess"
      ],
      "execution_count": 1,
      "outputs": []
    },
    {
      "cell_type": "code",
      "metadata": {
        "colab": {
          "base_uri": "https://localhost:8080/"
        },
        "id": "KW_st5UnmVqw",
        "outputId": "fcbc4f81-730c-4970-d432-215d945b32a2"
      },
      "source": [
        "from google.colab import drive\n",
        "\n",
        "drive.mount('/content/drive') \n",
        "DRIVE_PATH = \"/content/drive/My Drive/REU evolution of scientific fields\""
      ],
      "execution_count": 2,
      "outputs": [
        {
          "output_type": "stream",
          "name": "stdout",
          "text": [
            "Mounted at /content/drive\n"
          ]
        }
      ]
    },
    {
      "cell_type": "code",
      "metadata": {
        "colab": {
          "base_uri": "https://localhost:8080/"
        },
        "id": "yqHyDBcZG-nv",
        "outputId": "caa788e4-a196-406d-ecdc-cc3071f2fd26"
      },
      "source": [
        "# download required packages for \n",
        "import nltk\n",
        "\n",
        "from nltk.stem import WordNetLemmatizer\n",
        "from nltk.corpus import wordnet\n",
        "from nltk.corpus import stopwords\n",
        "\n",
        "nltk.download('stopwords')\n",
        "nltk.download('punkt')\n",
        "nltk.download('averaged_perceptron_tagger')\n",
        "nltk.download('wordnet')"
      ],
      "execution_count": 3,
      "outputs": [
        {
          "output_type": "stream",
          "name": "stdout",
          "text": [
            "[nltk_data] Downloading package stopwords to /root/nltk_data...\n",
            "[nltk_data]   Unzipping corpora/stopwords.zip.\n",
            "[nltk_data] Downloading package punkt to /root/nltk_data...\n",
            "[nltk_data]   Unzipping tokenizers/punkt.zip.\n",
            "[nltk_data] Downloading package averaged_perceptron_tagger to\n",
            "[nltk_data]     /root/nltk_data...\n",
            "[nltk_data]   Unzipping taggers/averaged_perceptron_tagger.zip.\n",
            "[nltk_data] Downloading package wordnet to /root/nltk_data...\n",
            "[nltk_data]   Unzipping corpora/wordnet.zip.\n"
          ]
        },
        {
          "output_type": "execute_result",
          "data": {
            "text/plain": [
              "True"
            ]
          },
          "metadata": {},
          "execution_count": 3
        }
      ]
    },
    {
      "cell_type": "markdown",
      "metadata": {
        "id": "jV9bg2b-MDau"
      },
      "source": [
        "# Load and Clean Abstracts"
      ]
    },
    {
      "cell_type": "code",
      "metadata": {
        "id": "66snO9y-pz-W",
        "colab": {
          "base_uri": "https://localhost:8080/"
        },
        "outputId": "7003e5a3-99cc-475f-e0f3-c87ae6f1c70b"
      },
      "source": [
        "with open(os.path.join(DRIVE_PATH, 'filtered_new_fields_df.pkl'), 'rb') as file:\n",
        "  fields_df = pickle.load(file)\n",
        "print(fields_df.shape)"
      ],
      "execution_count": 4,
      "outputs": [
        {
          "output_type": "stream",
          "name": "stdout",
          "text": [
            "(59384, 18)\n"
          ]
        }
      ]
    },
    {
      "cell_type": "markdown",
      "metadata": {
        "id": "gvyNDu8RRm_S"
      },
      "source": [
        "## Lemmatize abstracts\n"
      ]
    },
    {
      "cell_type": "code",
      "metadata": {
        "id": "I1Sk_CQUSeTV"
      },
      "source": [
        "#A function to lemmatize words in a group of text \n",
        "\n",
        "lemmatizer = WordNetLemmatizer()\n",
        "\n",
        "# function to convert nltk tag to wordnet tag\n",
        "def nltk_tag_to_wordnet_tag(nltk_tag):\n",
        "    if nltk_tag.startswith('J'):\n",
        "        return wordnet.ADJ\n",
        "    elif nltk_tag.startswith('V'):\n",
        "        return wordnet.VERB\n",
        "    elif nltk_tag.startswith('N'):\n",
        "        return wordnet.NOUN\n",
        "    elif nltk_tag.startswith('R'):\n",
        "        return wordnet.ADV\n",
        "    else:          \n",
        "        return None\n",
        "\n",
        "def lemmatize_sentence(sentence):\n",
        "    #tokenize the sentence and find the POS tag for each token\n",
        "    nltk_tagged = nltk.pos_tag(nltk.word_tokenize(sentence))  \n",
        "    #tuple of (token, wordnet_tag)\n",
        "    wordnet_tagged = map(lambda x: (x[0], nltk_tag_to_wordnet_tag(x[1])), nltk_tagged)\n",
        "    lemmatized_sentence = []\n",
        "    for word, tag in wordnet_tagged:\n",
        "        if tag is None:\n",
        "            #if there is no available tag, append the token as is\n",
        "            lemmatized_sentence.append(word)\n",
        "        else:        \n",
        "            #else use the tag to lemmatize the token\n",
        "            lemmatized_sentence.append(lemmatizer.lemmatize(word, tag))\n",
        "\n",
        "    return \" \".join(lemmatized_sentence)"
      ],
      "execution_count": 5,
      "outputs": []
    },
    {
      "cell_type": "code",
      "metadata": {
        "id": "gg81OAoRGsw3"
      },
      "source": [
        "## Lemmatize abstracts \n",
        "lemm_abstracts = [lemmatize_sentence(text) for text in fields_df.A] \n",
        "fields_df[\"LA\"] = lemm_abstracts"
      ],
      "execution_count": 6,
      "outputs": []
    },
    {
      "cell_type": "markdown",
      "metadata": {
        "id": "ARJbSAmXS-yR"
      },
      "source": [
        "## Data Cleaning and Stopwords"
      ]
    },
    {
      "cell_type": "code",
      "metadata": {
        "id": "-g5WinmzKR6m"
      },
      "source": [
        "replaced = fields_df.LA.str.replace(r'\\W*\\d+\\W+\\d*\\W*\\d*|\\d+', ' ', regex=True)\n",
        "replaced = replaced.str.replace(r'[^\\x00-\\x7F]+', ' ', regex=True)"
      ],
      "execution_count": 7,
      "outputs": []
    },
    {
      "cell_type": "code",
      "metadata": {
        "id": "so0ji-oUxIRB"
      },
      "source": [
        "def sent_to_words(sentences):\n",
        "    for sentence in sentences:\n",
        "        yield(simple_preprocess(str(sentence), deacc=True))  # deacc=True removes punctuations"
      ],
      "execution_count": 8,
      "outputs": []
    },
    {
      "cell_type": "code",
      "metadata": {
        "id": "SzlW-P1RxrxG"
      },
      "source": [
        "data = replaced.str.lower().values.tolist()\n",
        "data_words = list(sent_to_words(data))"
      ],
      "execution_count": 9,
      "outputs": []
    },
    {
      "cell_type": "code",
      "metadata": {
        "id": "RTBt250BWJHg"
      },
      "source": [
        "stopwords_list = stopwords.words('english')\n",
        "stopwords_list.extend(['et', 'al', 'et_al',\n",
        "                       'research', 'theory', 'concept', 'field', 'study', 'chapter', 'approach', 'new', 'this_paper',\n",
        "                       'use', 'argue', 'claim', 'argue_that', 'claim_that', 'explain', 'base_on',\n",
        "                       'paper', 'article', 'present',\n",
        "                       'one', 'two', 'three', 'four', 'five', 'six', 'seven', 'eight', 'nine', 'ten'\n",
        "                       ])"
      ],
      "execution_count": 10,
      "outputs": []
    },
    {
      "cell_type": "markdown",
      "metadata": {
        "id": "NXhmhIxfHrtj"
      },
      "source": [
        "##Phrase Modeling: Bigram and Trigram Models"
      ]
    },
    {
      "cell_type": "code",
      "metadata": {
        "colab": {
          "base_uri": "https://localhost:8080/"
        },
        "id": "8XGHPdeIHd9Z",
        "outputId": "fa0a6eb9-2bf9-4fca-b6df-e25d155d38b3"
      },
      "source": [
        "# Build the bigram and trigram models\n",
        "bigram = gensim.models.Phrases(data_words, min_count=20, threshold=10) # higher threshold fewer phrases.\n",
        "trigram = gensim.models.Phrases(bigram[data_words], min_count=20, threshold=10)\n",
        "print(len(bigram.vocab))\n",
        "print(len(trigram.vocab))\n",
        "\n",
        "# Faster way to get a sentence clubbed as a trigram/bigram\n",
        "bigram_mod = gensim.models.phrases.Phraser(bigram)\n",
        "trigram_mod = gensim.models.phrases.Phraser(trigram)\n",
        "print(len(trigram_mod.phrasegrams))"
      ],
      "execution_count": 14,
      "outputs": [
        {
          "output_type": "stream",
          "name": "stderr",
          "text": [
            "/usr/local/lib/python3.7/dist-packages/gensim/models/phrases.py:598: UserWarning: For a faster implementation, use the gensim.models.phrases.Phraser class\n",
            "  warnings.warn(\"For a faster implementation, use the gensim.models.phrases.Phraser class\")\n"
          ]
        },
        {
          "output_type": "stream",
          "name": "stdout",
          "text": [
            "1539348\n",
            "1661152\n",
            "5741\n"
          ]
        }
      ]
    },
    {
      "cell_type": "code",
      "metadata": {
        "id": "OwqU9mXHH_uW"
      },
      "source": [
        "# Define functions for bigrams and trigrams\n",
        "def make_trigrams(texts):\n",
        "    return [trigram_mod[bigram_mod[doc]] for doc in texts]"
      ],
      "execution_count": 15,
      "outputs": []
    },
    {
      "cell_type": "code",
      "metadata": {
        "id": "_rpiEESAUrsh"
      },
      "source": [
        "data_words_trigrams = make_trigrams(data_words)\n",
        "transformed_text = [' '.join(doc) for doc in data_words_trigrams]"
      ],
      "execution_count": 16,
      "outputs": []
    },
    {
      "cell_type": "markdown",
      "metadata": {
        "id": "L1qGw1YexcfD"
      },
      "source": [
        "## TF-IDF Bag of words"
      ]
    },
    {
      "cell_type": "code",
      "metadata": {
        "colab": {
          "base_uri": "https://localhost:8080/"
        },
        "id": "BRamw7wkTnO5",
        "outputId": "be22c5fd-c300-481e-d963-3ca41e85cdcb"
      },
      "source": [
        "vectorizer = TfidfVectorizer(stop_words = stopwords_list,\n",
        "                             max_df = 0.80, #remove words that appear in more than x% of documents\n",
        "                             min_df = 0.0005, #remove words that appear in less than x% of documents\n",
        "                             )\n",
        "vectors = vectorizer.fit_transform(transformed_text).transpose()\n",
        "print(vectors.shape)\n",
        "idx_to_word = np.array(vectorizer.get_feature_names()) #dictionary to recover topics"
      ],
      "execution_count": 17,
      "outputs": [
        {
          "output_type": "stream",
          "name": "stdout",
          "text": [
            "(9106, 59384)\n"
          ]
        }
      ]
    },
    {
      "cell_type": "markdown",
      "metadata": {
        "id": "mkA_KIMATg3j"
      },
      "source": [
        "#Hierarchical NMF on Transformed Data"
      ]
    },
    {
      "cell_type": "markdown",
      "metadata": {
        "id": "ICyfCEB2yMi5"
      },
      "source": [
        "## NMF level 1"
      ]
    },
    {
      "cell_type": "code",
      "metadata": {
        "colab": {
          "base_uri": "https://localhost:8080/"
        },
        "id": "KHFiEJbJ07p8",
        "outputId": "906e0ff2-f640-45e0-e354-ab634b16582d"
      },
      "source": [
        "num_topics = 15\n",
        "nmf0 = NMF(n_components=num_topics, \n",
        "           init='random', \n",
        "           random_state=2021, \n",
        "           max_iter=500, \n",
        "           tol=1e-5, \n",
        "           alpha=0.01)\n",
        "W0 = nmf0.fit_transform(vectors)\n",
        "H0 = nmf0.components_\n",
        "\n",
        "for i, topic in enumerate(W0.transpose()):\n",
        "    print(\"Topic {}: {}\\n\".format(i,\", \".join(reversed(idx_to_word[topic.argsort()[-30:].astype(int)]))))"
      ],
      "execution_count": 18,
      "outputs": [
        {
          "output_type": "stream",
          "name": "stdout",
          "text": [
            "Topic 0: language, linguistic, communication, word, processing, evolution, meaning, speech, language_acquisition, linguistics, child, human, structure, semantic, acquisition, syntax, thought, grammar, production, hypothesis, metaphor, semantics, sign, evidence, communicative, aspect, syntactic, second, natural_language, emergence\n",
            "\n",
            "Topic 1: development, science, review, biological, problem, provide, cell, many, behavior, evolution, discuss, question, mechanism, may, work, analysis, change, developmental, evolutionary, process, biology, function, different, method, make, scientific, issue, phenomenon, also, theoretical\n",
            "\n",
            "Topic 2: action, agent, motor, perception, movement, goal, control, intention, belief, body, self, act, others, event, imitation, world, logic, mirror_neuron, sensorimotor, embodied, perform, simulation, environment, plan, execution, dynamic, activity, affordances, interaction, propose\n",
            "\n",
            "Topic 3: human, social, behavior, animal, robot, communication, intelligence, agent, interaction, ability, individual, machine, evolution, cognition, cultural, culture, evolutionary, primate, environment, social_interaction, mind, specie, behaviour, non, others, behavioral, society, ai, capacity, technology\n",
            "\n",
            "Topic 4: learning, learn, knowledge, student, learner, child, process, environment, education, task, skill, teaching, strategy, instruction, educational, acquire, change, teach, acquisition, based, context, transfer, mechanism, development, category, ability, experience, rule, practice, performance\n",
            "\n",
            "Topic 5: memory, work, retrieval, information, event, remember, hippocampus, process, store, recall, episodic_memory, storage, past, experience, long_term_memory, item, time, hippocampal, encode, task, effect, episodic, recognition, evidence, test, collective, experiment, recollection, performance, formation\n",
            "\n",
            "Topic 6: visual, object, representation, information, spatial, perception, perceptual, processing, vision, stimulus, space, task, knowledge, feature, attention, semantic, sensory, image, experiment, represent, property, word, experience, show, suggest, category, abstract, evidence, form, different\n",
            "\n",
            "Topic 7: system, complex, information, biological, dynamic, control, network, complexity, structure, level, property, component, organization, artificial, emergence, environment, systems, interaction, principle, functional, physical, natural, organism, general, communication, function, computational, self, state, biology\n",
            "\n",
            "Topic 8: consciousness, conscious, mind, self, experience, state, unconscious, machine, awareness, quantum, conscious_experience, physical, content, body, mental, problem, phenomenal, philosophy, scientific, view, philosophical, world, attention, propose, thought, access, subjective, dream, neural_correlate, nature\n",
            "\n",
            "Topic 9: model, propose, agent, describe, based, modeling, mathematical, account, mental, simulation, data, dynamic, computational_model, provide, computational, develop, explanation, formal, framework, network, phenomenon, mechanism, prediction, result, discuss, conceptual, structure, theoretical, process, architecture\n",
            "\n",
            "Topic 10: design, creativity, metaphor, creative, game, interaction, experience, process, designer, activity, technology, idea, practice, play, space, work, explore, user, student, way, thinking, narrative, art, context, analysis, computer, tool, digital, create, role\n",
            "\n",
            "Topic 11: music, musical, sound, perception, performance, auditory, art, listener, musician, rhythm, experience, pitch, composition, structure, culture, musicology, composer, listen, piece, computer, time, acoustic, form, analysis, practice, improvisation, processing, aspect, performer, listening\n",
            "\n",
            "Topic 12: emotion, emotional, agent, affective, affect, experience, emotions, appraisal, robot, expression, architecture, decision_making, basic, recognition, feeling, facial_expression, emotional_state, psychology, psychological, emotion_regulation, personality, work, express, state, propose, role, aspect, motivation, user, process\n",
            "\n",
            "Topic 13: cognitive, cognition, process, mind, cognitive_science, knowledge, task, computational, view, mental, intelligence, domain, ability, development, framework, representation, account, structure, perspective, reasoning, thought, thinking, conceptual, level, theoretical, information_processing, reason, abstract, capacity, cognitive_architecture\n",
            "\n",
            "Topic 14: brain, network, function, neuroscience, neural, mind, activity, functional, area, human, neuron, structure, connectivity, dynamic, cognitive_neuroscience, region, body, fmri, neuroimaging, neuronal, brain_region, image, understand, data, information, neuroscientist, processing, connection, complex, cortical\n",
            "\n"
          ]
        }
      ]
    },
    {
      "cell_type": "code",
      "metadata": {
        "colab": {
          "base_uri": "https://localhost:8080/",
          "height": 339
        },
        "id": "iXS5nuGMTwAP",
        "outputId": "cc2827b5-7970-42a4-ae79-2aaa40994cb7"
      },
      "source": [
        "NMF_cluster = H0.argmax(axis=0)\n",
        "plt.figure(figsize=(7,5))\n",
        "plt.hist(NMF_cluster,bins=num_topics)\n",
        "plt.xlabel('NMF topic', fontsize=16)\n",
        "plt.ylabel('Number of papers in topic', fontsize=16)\n",
        "plt.show()"
      ],
      "execution_count": 22,
      "outputs": [
        {
          "output_type": "display_data",
          "data": {
            "image/png": "[encoded data removed]",
            "text/plain": [
              "<Figure size 504x360 with 1 Axes>"
            ]
          },
          "metadata": {
            "needs_background": "light"
          }
        }
      ]
    },
    {
      "cell_type": "code",
      "metadata": {
        "id": "hUmmTBirOpMJ"
      },
      "source": [
        "supertopics_dict = dict(zip(fields_df.Id,NMF_cluster))\n",
        "supertopic_to_keyword = {i:list(idx_to_word[topic.argsort()[:-6:-1].astype(int)]) for i, topic in enumerate(W0.T)}\n",
        "id_to_topicword = {id:supertopic_to_keyword[supertopics_dict[id]] for id in fields_df.Id}"
      ],
      "execution_count": 23,
      "outputs": []
    },
    {
      "cell_type": "code",
      "metadata": {
        "colab": {
          "base_uri": "https://localhost:8080/"
        },
        "id": "kpSYi-rDQpGG",
        "outputId": "fb692f55-3cb4-4ba3-9915-5a7f775580ab"
      },
      "source": [
        "{i:\", \".join(idx_to_word[topic.argsort()[:-6:-1].astype(int)]) for i, topic in enumerate(W0.T)}"
      ],
      "execution_count": 24,
      "outputs": [
        {
          "output_type": "execute_result",
          "data": {
            "text/plain": [
              "{0: 'language, linguistic, communication, word, processing',\n",
              " 1: 'development, science, review, biological, problem',\n",
              " 2: 'action, agent, motor, perception, movement',\n",
              " 3: 'human, social, behavior, animal, robot',\n",
              " 4: 'learning, learn, knowledge, student, learner',\n",
              " 5: 'memory, work, retrieval, information, event',\n",
              " 6: 'visual, object, representation, information, spatial',\n",
              " 7: 'system, complex, information, biological, dynamic',\n",
              " 8: 'consciousness, conscious, mind, self, experience',\n",
              " 9: 'model, propose, agent, describe, based',\n",
              " 10: 'design, creativity, metaphor, creative, game',\n",
              " 11: 'music, musical, sound, perception, performance',\n",
              " 12: 'emotion, emotional, agent, affective, affect',\n",
              " 13: 'cognitive, cognition, process, mind, cognitive_science',\n",
              " 14: 'brain, network, function, neuroscience, neural'}"
            ]
          },
          "metadata": {},
          "execution_count": 24
        }
      ]
    },
    {
      "cell_type": "markdown",
      "metadata": {
        "id": "nXn-Fm1F0y-j"
      },
      "source": [
        "## NMF level 2"
      ]
    },
    {
      "cell_type": "code",
      "metadata": {
        "id": "_52w_qqazYip"
      },
      "source": [
        "def run_level2_nmf(n_subtopics, topic_id, NMF_cluster):\n",
        "  nmf = NMF(n_components=n_subtopics, init='random', random_state=0)\n",
        "\n",
        "  subset = vectors[:, NMF_cluster==topic_id]\n",
        "  print(subset.shape)\n",
        "  W = nmf.fit_transform(subset)\n",
        "  H = nmf.components_\n",
        "\n",
        "  for i, topic in enumerate(W.transpose()):\n",
        "    print(\"Topic {}: {}\\n\".format(i,\", \".join(reversed(idx_to_word[topic.argsort()[-30:].astype(int)]))))\n",
        "  \n",
        "  return W, H\n",
        "\n",
        "def update_subtopics_dict(topic_id, W, sub_NMF_cluster, fields_df, NMF_cluster, idx_to_word):\n",
        "  subtopics_dict0 = dict(zip(fields_df.Id[NMF_cluster==topic_id], sub_NMF_cluster))\n",
        "  subtopic_to_keyword0 = {i:list(idx_to_word[topic.argsort()[:-6:-1].astype(int)]) for i, topic in enumerate(W.T)}\n",
        "  id_to_subtopicword0 = {id:subtopic_to_keyword0[subtopics_dict0[id]] for id in fields_df.Id[NMF_cluster==topic_id]}\n",
        "  \n",
        "  subtopics_dict.update(subtopics_dict0)\n",
        "  id_to_subtopicword.update(id_to_subtopicword0)\n"
      ],
      "execution_count": 29,
      "outputs": []
    },
    {
      "cell_type": "code",
      "metadata": {
        "colab": {
          "base_uri": "https://localhost:8080/"
        },
        "id": "NIShUFB0XQlL",
        "outputId": "4eb251ac-8a33-4390-c3ed-694f50b14201"
      },
      "source": [
        "subtopics_dict = {}\n",
        "id_to_subtopicword = {}\n",
        "\n",
        "ns = [10, 10, 8, 8, 4, 10, 10, 10, 10, 10, 8, 10, 10, 10, 10]\n",
        "for id, n in enumerate(ns):\n",
        "  print('====')\n",
        "  print('topic id', id)\n",
        "  W, H = run_level2_nmf(n, id, NMF_cluster)\n",
        "  sub_NMF_cluster = H.argmax(axis=0)\n",
        "  update_subtopics_dict(id, W, sub_NMF_cluster, fields_df, NMF_cluster, idx_to_word)\n",
        "  "
      ],
      "execution_count": 30,
      "outputs": [
        {
          "output_type": "stream",
          "name": "stdout",
          "text": [
            "====\n",
            "topic id 0\n",
            "(9106, 2502)\n",
            "Topic 0: language, brain, human, cognition, system, cognitive, learning, development, model, function, social, aspect, learn, understand, process, action, role, sign, way, play, show, understanding, influence, describe, spatial, universal, change, behavior, acquire, consider\n",
            "\n",
            "Topic 1: meaning, word, semantic, language, mean, agent, form, semantics, sentence, structure, game, expression, symbolic, model, show, world, compositional, term, context, utterance, conceptual, call, embodied, account, construction, express, describe, ground, provide, system\n",
            "\n",
            "Topic 2: processing, language, production, comprehension, network, region, syntactic, process, brain, sentence, area, phonological, aphasia, function, evidence, syntax, involve, language_comprehension, structure, neural, support, model, left, mechanism, review, may, broca, functional, system, level\n",
            "\n",
            "Topic 3: evolution, language, human, evolutionary, evolve, origin, emergence, capacity, cultural_evolution, hypothesis, specie, biological, animal, adaptation, change, syntax, mechanism, natural_selection, complex, cultural_transmission, ability, cultural, may, vocal, structure, model, genetic, suggest, evidence, population\n",
            "\n",
            "Topic 4: communication, communicative, pragmatic, language, animal, agent, communicate, human, system, ability, message, interaction, social, context, signal, speech_act, intention, explore, task, origin, symbol, make, develop, process, community, gesture, competence, propose, referential, emergence\n",
            "\n",
            "Topic 5: language_acquisition, child, development, acquisition, language, input, learner, acquire, learning, learn, second, second_language_acquisition, process, knowledge, infant, sla, grammar, first, early, play, adult, developmental, ability, universal_grammar, role, innate, develop, learnability, evidence, account\n",
            "\n",
            "Topic 6: linguistic, structure, cognitive, process, constraint, phenomenon, representation, universal, cognitive_linguistics, knowledge, natural_language, pattern, system, speaker, linguistic_competence, property, sign, innate, form, question, reality, different, nonlinguistic, individual, model, level, shape, capacity, empirical, population\n",
            "\n",
            "Topic 7: speech, gesture, disorder, gene, human, child, sign, genetic, development, auditory, impairment, speech_sound, vocal, modern, broca, vocalization, neurolinguistic, brain, prosody, involve, production, primate, early, purpose, analysis, anatomical, modality, capacity, gestural, code\n",
            "\n",
            "Topic 8: linguistics, language, thought, mind, philosophy, cognitive_science, view, perspective, problem, semantics, question, hypothesis, theoretical, logic, book, psychology, formal, work, conceptual, pragmatic, cognition, chomsky, science, argument, syntax, cognitive_linguistics, analysis, domain, grammar, think\n",
            "\n",
            "Topic 9: bilingual, bilingualism, language, control, switch, processing, brain, second, switching, speaker, monolingual, consequence, code, neural, change, cognitive, effect, acquisition, multilingual, green, neuroimaging_technique, advantage, consider, discuss, competition, review, issue, hypothesis, interference, proficient\n",
            "\n",
            "====\n",
            "topic id 1\n",
            "(9106, 9417)\n",
            "Topic 0: development, developmental, change, process, child, early, theoretical, perspective, motor, stage, this_article, developmental_biology, developmental_psychology, discuss, dynamic, plant, conceptual, role, growth, work, include, focus_on, human, model, pattern, view, period, recent, embryo, context\n",
            "\n",
            "Topic 1: review, problem, question, issue, work, provide, discuss, many, may, method, data, make, first, author, different, also, important, book, describe, literature, term, time, theoretical, result, area, recent, hypothesis, current, discussion, way\n",
            "\n",
            "Topic 2: gene, genetic, genetics, environment, phenotype, epigenetic, epigenetics, molecular, dna, genome, trait, inheritance, organism, mutation, molecular_genetics, environmental, disorder, variation, complex, individual, molecular_biology, problem, view, genomic, genomics, information, interaction, geneticist, gene_expression, program\n",
            "\n",
            "Topic 3: cell, cellular, tissue, molecule, signal, cell_biology, stem_cell, signaling, physiology, collective, cell_type, mechanical, biologist, communication, experimental, work, control, many, network, life, single_cell, interaction, growth, molecular, receptor, process, origin, fundamental, embryo, scientist\n",
            "\n",
            "Topic 4: behavior, behavioral, analysis, skinner, verbal, functional, animal, environment, behaviorism, organism, radical_behaviorism, neuroscience, level, operant, term, control, include, principle, within, method, experimental, provide, therapy, function, physiological, organization, reinforcement, basic, response, applied\n",
            "\n",
            "Topic 5: protein, biology, biological, function, life, structure, molecular, plant, molecule, cellular, structural, chemical, membrane, mechanism, organism, process, functional, chemistry, physic, physical, complex, understanding, understand, many, principle, biochemistry, dna, tissue, organization, molecular_biology\n",
            "\n",
            "Topic 6: science, psychology, scientific, philosophy, psychological, discipline, paradigm, neuroscience, history, philosophical, phenomenon, psychologist, method, explanation, cognitive_science, philosopher, view, mind, nature, behaviorism, practice, natural_science, within, knowledge, scientist, logical, contemporary, biology, modern, physic\n",
            "\n",
            "Topic 7: evolutionary, evolution, organism, natural_selection, selection, change, process, adaptation, mechanism, biological, adaptive, life, variation, evo_devo, age, evolutionary_biology, trait, evolve, origin, environment, level, novelty, complexity, explanation, darwinian, ecological, developmental, population, specie, form\n",
            "\n",
            "Topic 8: cancer, tumor, carcinogenesis, treatment, progression, mutation, molecular, perspective, therapeutic, pathway, tissue, view, therapy, somatic, many, biology, complex, strategy, current, causation, dynamic, target, cellular, progress, propose, epigenetic, genetic, novel, drug, resistance\n",
            "\n",
            "Topic 9: disease, age, clinical, medicine, treatment, disorder, medical, health, genetic, therapy, diagnosis, aging, human, understanding, patient, cause, advance, mechanism, therapeutic, basic, clinician, process, knowledge, molecular, pathogenesis, discovery, drug, classification, syndrome, diagnostic\n",
            "\n",
            "====\n",
            "topic id 2\n",
            "(9106, 2365)\n",
            "Topic 0: action, language, representation, perception, object, human, effect, system, model, understanding, perform, execution, knowledge, represent, provide, goal, process, recognition, describe, information, domain, observation, observe, result, planning, state, control, description, understand, processing\n",
            "\n",
            "Topic 1: intention, goal, others, joint_action, plan, intentional_action, conscious, intentional, recognition, bdi, infer, act, understand, mirror_neuron_system, desire, action, joint, ability, intend, actor, allow, planning, agency, mirror_neuron, intentionality, social, notion, bci, behavior, infant\n",
            "\n",
            "Topic 2: affordances, perception, environment, action, gibson, affordance, ecological, perceive, perceptual, ecological_psychology, view, information, animal, organism, possibility, sensory, behavior, system, control, coupling, provide, dynamic, role, robotics, perspective, opportunity, direct, brain, tool, notion\n",
            "\n",
            "Topic 3: agent, communication, world, environment, notion, multi_agent, model, state, knowledge, interaction, semantics, propose, act, behavior, dialogue, artificial_agent, commitment, problem, based, information, result, goal, conversation, argumentation, may, agents, mental_state, speech_act, rational_agent, framework\n",
            "\n",
            "Topic 4: belief, logic, change, reason_about, belief_revision, knowledge, operator, dynamic, update, iterated, epistemic, represent, semantics, revision, reason, reasoning, operation, logical, dynamic_epistemic_logic, state, preference, work, base, characterise, postulate, information, set, framework, propositional, expressive\n",
            "\n",
            "Topic 5: motor, imitation, mirror_neuron, simulation, mirror, others, observation, mirror_neuron_system, sensory, execution, mirror_system, representation, system, action, mechanism, development, evidence, understanding, mns, activation, motor_control, support, verb, function, sensorimotor, hand, perceptual, ability, suggest, neuron\n",
            "\n",
            "Topic 6: self, body, gesture, process, behavior, activity, interaction, experience, social, act, embodied, agency, mechanism, world, individual, way, event, may, others, control, goal, dynamic, sense, context, structure, account, form, cognition, narrative, role\n",
            "\n",
            "Topic 7: movement, control, body, coordination, disorder, rhythmic, motor_control, posture, level, limb, dance, information, discrete, behavior, muscle, reach, different, hand, environment, active, time, primary, move, bci, make, motion, order, actor, involve, syntactic\n",
            "\n",
            "====\n",
            "topic id 3\n",
            "(9106, 4261)\n",
            "Topic 0: agent, interaction, society, behaviour, artificial_agent, individual, simulation, norm, model, artificial, based, belief, environment, interact_with, game, moral, architecture, affective, ai, commitment, modeling, actor, human, group, collective, like, dynamic, show, goal, action\n",
            "\n",
            "Topic 1: behavior, behavioral, analysis, evolutionary, individual, environment, psychology, evolution, information, complex, group, model, skinner, perspective, influence, principle, provide, organism, verbal, adaptive, genetic, play, framework, level, understand, goal, cooperation, gene, many, describe\n",
            "\n",
            "Topic 2: intelligence, ai, artificial_intelligence, machine, intelligent, turing, test, turing_test, ability, general_intelligence, need, artificial, machine_intelligence, artificial_intelligence_ai, computer, multiple, future, discuss, natural, like, question, goal, knowledge, problem, could, define, build, various, many, such_as\n",
            "\n",
            "Topic 3: social, cognition, network, social_interaction, individual, neuroscience, process, group, structure, brain, cognitive, context, interaction, mechanism, system, others, self, model, science, people, provide, influence, dynamic, cultural, role, understand, development, within, behaviour, psychology\n",
            "\n",
            "Topic 4: robot, human, robotics, robot_interaction, machine, robotic, interaction, robots, people, like, humanoid_robot, artificial, interact_with, humanoid, child, design, discuss, develop, explore, ethical, body, humanlike, embodiment, interactive, future, socially, user, technology, build, science_fiction\n",
            "\n",
            "Topic 5: communication, signal, communicative, speech, language, primate, face, evolution, communicate, vocal, share, receiver, gesture, interaction, multimodal, evolutionary, form, cooperative, perspective, meaning, evolve, individual, suggest, medium, message, intentional, act, cooperation, symbolic, information\n",
            "\n",
            "Topic 6: human, mind, cognition, machine, evolutionary, evolution, development, ability, non, cognitive, culture, understand, process, cultural, technology, computer, primate, system, brain, language, nature, capacity, way, may, body, make, biological, ai, work, include\n",
            "\n",
            "Topic 7: animal, non, specie, behaviour, question, ethology, ability, comparative, may, comparative_psychology, tool, primate, signal, capacity, animals, nonhuman_animal, cognition, model, behavioral, many, whether, mind, cognitive, way, include, different, researcher, share, learning, such_as\n",
            "\n",
            "====\n",
            "topic id 4\n",
            "(9106, 3794)\n",
            "Topic 0: learning, process, model, social, environment, language, development, human, cognitive, based, framework, perspective, brain, behavior, provide, change, system, discuss, motor, memory, science, design, different, activity, context, individual, mechanism, action, experience, education\n",
            "\n",
            "Topic 1: knowledge, learner, child, transfer, acquire, process, structure, skill, task, acquisition, domain, conceptual, instruction, cognitive, instructional, development, context, representation, understanding, information, education, problem, abstract, change, teach, may, strategy, construct, map, mathematical\n",
            "\n",
            "Topic 2: student, teacher, teaching, teach, classroom, science, understanding, education, mathematical, instruction, educational, environment, strategy, course, practice, thinking, mathematics, problem, conceptual, instructional, activity, way, curriculum, physic, develop, improve, reason, provide, material, learn\n",
            "\n",
            "Topic 3: learn, process, mechanism, model, task, human, behavior, ability, child, structure, experiment, environment, system, result, cognitive, animal, principle, suggest, agent, language, rule, information, work, show, context, such_as, people, experience, provide, review\n",
            "\n",
            "====\n",
            "topic id 5\n",
            "(9106, 3045)\n",
            "Topic 0: memory, system, collective, development, human, model, form, brain, learning, discuss, social, different, process, function, way, phenomenon, issue, formation, review, knowledge, view, this_article, multiple, individual, learn, many, implicit, change, type, recent\n",
            "\n",
            "Topic 1: work, memory, capacity, task, cognitive, process, working_memory, model, attention, processing, ability, component, language, role, function, performance, baddeley, human, development, review, short_term_memory, theoretical, cognition, span, describe, system, provide, mechanism, intelligence, control\n",
            "\n",
            "Topic 2: reconsolidation, consolidation, process, memory_trace, reactivation, memory, memory_consolidation, labile, consolidated, updating, engram, consolidate, become, interference, mechanism, disruption, over_time, reactivate, formation, modification, change, time, update, strengthen, treatment, amnesia, stabilization, stable, trace, may\n",
            "\n",
            "Topic 3: event, remember, past, future, experience, remembering, imagination, imagine, past_event, narrative, time, forget, occur, self, people, recall, recollection, personal, process, life, detail, also, simulation, may, know, false_memory, construction, context, collective, reconstruction\n",
            "\n",
            "Topic 4: retrieval, cue, encoding, content, episodic, retrieve, practice, process, memory, storage, encode, context, access, model, retrieval_cue, region, test, activation, failure, information, network, semantic, temporal, role, monitoring, structure, interference, review, analogical, retention\n",
            "\n",
            "Topic 5: sleep, dream, memory_consolidation, wake, consolidation, during_sleep, brain, rem_sleep, memory, role, reactivation, learning, state, function, dependent, day, dreaming, replay, offline, formation, network, mnemonic, process, freud, across, mechanism, activity, experience, associated, content\n",
            "\n",
            "Topic 6: hippocampus, hippocampal, spatial, memory, declarative_memory, role, representation, function, support, brain, rodent, remote, system, structure, rat, neural, context, consolidation, experience, neuron, recent, encode, relational, evidence, animal, learning, suggest, circuit, region, medial_temporal_lobe\n",
            "\n",
            "Topic 7: information, store, storage, memory, long_term_memory, process, retrieve, brain, learning, knowledge, system, learn, short_term_memory, sensory, human, behavior, retain, model, mechanism, experience, recall, structure, encode, animal, engram, time, short_term, long_term, ability, acquire\n",
            "\n",
            "Topic 8: item, effect, recognition, experiment, recall, test, memory, word, task, performance, recollection, familiarity, result, processing, encode, list, stimulus, show, judgment, paradigm, source, participant, suggest, subject, account, context, interference, remember, picture, text\n",
            "\n",
            "Topic 9: episodic_memory, episodic, semantic_memory, tulving, human, semantic, animal, amnesia, like, system, declarative_memory, memory, form, time, episode, mental_time_travel, idea, review, procedural_memory, experience, propose, story, model, past, type, factual, feature, neuroanatomical, functional, recall\n",
            "\n",
            "====\n",
            "topic id 6\n",
            "(9106, 6457)\n",
            "Topic 0: object, property, feature, object_recognition, shape, action, infant, category, part, recognition, physical, mathematical, identity, view, based, human, show, recognize, tool, represent, child, scene, experience, individuation, relation, objects, brain, world, see, function\n",
            "\n",
            "Topic 1: semantic, knowledge, word, category, conceptual, meaning, abstract, structure, semantics, feature, concrete, content, property, represent, linguistic, domain, specific, relation, role, semantic_memory, context, type, language, picture, entity, network, sentence, form, account, patient\n",
            "\n",
            "Topic 2: visual, image, attention, system, area, brain, visual_perception, human, feature, art, experience, process, model, neuron, method, eye, review, analysis, visual_cortex, scene, design, explore, cortical, work, pathway, visually, visualization, many, motion, mechanism\n",
            "\n",
            "Topic 3: information, process, sensory, signal, communication, shannon, way, relevant, form, notion, informational, work, meaning, different, sense, environment, term, content, context, provide, question, definition, human, science, encode, may, contain, discuss, mean, need\n",
            "\n",
            "Topic 4: representation, represent, knowledge, problem, abstract, form, conceptual, student, system, content, view, way, support, model, cognitive, role, human, process, structure, provide, notion, neural, world, mental_representation, account, understanding, cognitive_science, different, body, number\n",
            "\n",
            "Topic 5: perceptual, perception, sensory, color, experience, auditory, property, process, perceive, account, view, world, motion, content, perceptual_experience, sense, stimulus, sens, form, feature, image, illusion, modality, principle, phenomenon, sound, organization, different, environment, way\n",
            "\n",
            "Topic 6: spatial, space, map, time, navigation, relation, structure, temporal, location, environment, body, cognition, human, movement, experience, people, egocentric, place, represent, reasoning, cognitive, mental, dimension, may, physical, ability, orientation, language, also, such_as\n",
            "\n",
            "Topic 7: face, processing, neural, evidence, stimulus, face_recognition, area, expertise, object_recognition, brain, recognition, identity, process, review, mechanism, region, multisensory, sensory, pathway, specific, neuron, system, model, local, network, cortical, selective, early, encode, holistic\n",
            "\n",
            "Topic 8: vision, eye, early, perception, world, see, light, system, visual_perception, human, computational, animal, peripheral, motion, retina, review, scene, sense, mechanism, audition, make, stage, marr, natural, function, pathway, image, psychophysics, environment, machine\n",
            "\n",
            "Topic 9: task, experiment, stimulus, effect, attention, word, response, result, participant, letter, performance, show, cue, test, target, process, find, suggest, number, evidence, subject, child, item, hypothesis, report, time, control, condition, support, search\n",
            "\n",
            "====\n",
            "topic id 7\n",
            "(9106, 4296)\n",
            "Topic 0: system, model, cognitive, human, cognition, process, learn, design, develop, provide, social, discuss, general, artificial, development, propose, work, describe, memory, support, learning, suggest, visual, systems, nature, anticipatory, question, mind, action, brain\n",
            "\n",
            "Topic 1: behavior, function, sensory, environment, body, system, mechanism, functional, motor, neural, principle, physiological, behavioral, organism, animal, brain, many, movement, may, perception, adaptive, review, pattern, auditory, perceptual, role, stimulus, response, understand, integration\n",
            "\n",
            "Topic 2: complex, complexity, network, science, system, many, behaviour, interaction, understand, social, simple, perspective, phenomenon, interact, systems, emergence, biology, emergent, disease, understanding, chaos, nonlinear, complex_adaptive, natural, element, scientific, may, whole, part, way\n",
            "\n",
            "Topic 3: biological, biology, system, cell, network, cellular, molecular, organism, function, disease, protein, component, physic, science, gene, biologist, systems_biology, mathematical, understanding, understand, evolution, mechanism, phenomenon, molecular_biology, model, fundamental, physical, engineering, important, analysis\n",
            "\n",
            "Topic 4: control, system, feedback, movement, engineering, cybernetics, model, motor, mechanism, paradigm, motivational, regulate, neural, process, regulation, task, architecture, motor_control, level, framework, hierarchical, robotics, device, self, meta, discuss, different, action, cybernetic, speech\n",
            "\n",
            "Topic 5: information, process, structure, information_processing, informational, cybernetics, meaning, entropy, shannon, computation, physical, natural, genetic, transfer, environment, processing, human, semantic, idea, consider, live_system, sensory, way, exchange, apply, energy, dna, non, fundamental, relate\n",
            "\n",
            "Topic 6: dynamic, development, developmental, change, process, model, level, system, view, perspective, framework, self_organization, coordination, nature, stability, dynamical, state, paradigm, individual, within, family, discuss, principle, theoretical, pattern, describe, interaction, self_organizing, attractor, analysis\n",
            "\n",
            "Topic 7: life, emergence, self, organization, property, evolution, system, living, component, level, process, chemical, live_system, organism, autopoietic, definition, structure, individual, autopoiesis, origin, self_organization, autonomy, evolutionary, organizational, propose, consider, phenomenon, artificial_life, entity, within\n",
            "\n",
            "Topic 8: knowledge, belief, logic, ai, reason, reasoning, representation, based, problem, logical, system, conceptual, agent, domain, artificial_intelligence, formal, structure, represent, natural_language, explanation, semantic, describe, framework, task, semantics, computer, computational, world, human, intelligence\n",
            "\n",
            "Topic 9: communication, language, signal, system, symbol, agent, sign, meaning, human, semiotic, communicative, evolution, interaction, symbolic, social, speech, linguistic, emergence, evolve, combinatorial, emerge, animal, natural_language, semiotics, receiver, experiment, communicate, tumor, robot, form\n",
            "\n",
            "====\n",
            "topic id 8\n",
            "(9106, 2382)\n",
            "Topic 0: consciousness, human, model, machine, brain, attention, propose, aspect, scientific, discuss, cognitive, form, issue, neural_correlate, system, function, development, level, question, review, animal, science, may, philosophical, functional, recent, artificial, many, problem, exist\n",
            "\n",
            "Topic 1: state, brain, experience, conscious_experience, information, neural, process, physical, structure, world, system, level, activity, space, phenomenon, dynamic, body, function, subjective, subjective_experience, may, view, property, mechanism, model, science, conscious_state, iit, perception, problem\n",
            "\n",
            "Topic 2: unconscious, process, mental, psychoanalytic, freud, thought, conscious, access, state, processing, psychological, ego, form, mental_state, without, unconsciousness, explanation, information, cognitive, influence, behavior, imagining, act, survival, mechanism, memory, existence, realm, freudian, idea\n",
            "\n",
            "Topic 3: awareness, stream, james, consciousness, inner, occurrence, mental, william_james, experience, self_awareness, component, content, account, time, kind, instance, principles, attention, hold, bodily, perceptual, aware, second, object, conception, intrinsic, basic, intentionality, address, series\n",
            "\n",
            "Topic 4: mind, philosophy, body, problem, mental, science, cognitive_science, physical, brain, human, book, machine, world, philosopher, thought, matter, philosophical, intelligence, ai, question, neuroscience, turing_test, think, psychology, nature, work, life, scientific, perception, searle\n",
            "\n",
            "Topic 5: dream, wake, dreaming, sleep, lucid, experience, state, rem_sleep, world, distortion, content, reality, altered_state, such_as, during_sleep, process, freud, occur, propose, nature, waking, virtual_reality, activity, also, hallucination, refers, stimulation, origin, condition, may\n",
            "\n",
            "Topic 6: quantum, brain, penrose, physical, consciousness, quantum_mechanic, energy, physic, classical, holographic, psychosomatic, holistic, wave, microtubule, medicine, information, state, model, entanglement, process, quantum_mechanical, quantum_physic, acupuncture, phenomenon, universe, law, interpretation, neuron, macroscopic, non_local\n",
            "\n",
            "Topic 7: self, sense, aspect, experience, body, self_awareness, form, reference, narrative, subject, representation, others, person, process, human, knowledge, development, recognition, non, entity, discuss, oneself, account, propose, image, nature, embodied, also, mirror, object\n",
            "\n",
            "Topic 8: conscious, machine, thought, perception, process, system, human, think, processing, artificial, non, robot, content, behavior, architecture, evidence, agent, information_processing, question, global_workspace_theory, computational, global_workspace, illusion, result, computer, nonconscious, also, baars, animal, part\n",
            "\n",
            "Topic 9: phenomenal, phenomenal_consciousness, access, qualia, block, attention, argument, account, content, phenomenology, hard_problem, like, conscious_experience, experience, property, distinction_between, dennett, recent, state, feel, report, problem, higher_order, term, neural_correlate, without, physicalism, intentionality, explanation, seem\n",
            "\n",
            "====\n",
            "topic id 9\n",
            "(9106, 4662)\n",
            "Topic 0: model, cognitive, system, discuss, describe, science, learn, cognition, propose, memory, develop, review, mind, this_chapter, this_article, scientific, abstract, general, learning, brain, design, introduce, visual, provide, information, first, work, author, apply, outline\n",
            "\n",
            "Topic 1: process, dynamic, development, model, mechanism, propose, communication, theoretical, network, self, change, developmental, evolution, evolutionary, social, stage, individual, describe, structure, interaction, different, system, level, emergence, discuss, role, work, biological, group, within\n",
            "\n",
            "Topic 2: explanation, causal, mechanistic, explanatory, account, dynamical, phenomenon, mechanism, mechanistic_explanation, model, provide, non, cognitive_science, scientific, based, cause, abductive, offer, philosophical, satisfy, case, require, framework, problem, philosophy, interpretation, system, science, term, functional\n",
            "\n",
            "Topic 3: data, account, processing, model, experiment, effect, result, prediction, task, test, show, word, simulation, evidence, stimulus, support, reading, response, provide, problem, hypothesis, propose, semantic, review, memory, report, time, also, performance, pattern\n",
            "\n",
            "Topic 4: agent, belief, model, simulation, based, dialogue, social, interaction, logic, bdi, behaviour, dynamic, intention, game, notion, world, environment, state, epistemic, communication, semantics, reason_about, internal, mind, propose, cognitive, knowledge, individual, architecture, argumentation\n",
            "\n",
            "Topic 5: animal, disease, model, human, disorder, clinical, review, mouse, organism, behaviour, many, treatment, rodent, challenge, may, experimental, specie, drug, genetic, pathogenesis, advance, current, patient, make, potential, development, translation, addiction, often, age\n",
            "\n",
            "Topic 6: mental, reason, reasoning, logic, inference, premise, logical, model, formal, rule, conclusion, problem, human, conditionals, construct, propositional, construction, process, belief, form, reasoner, deduction, probability, probabilistic, strategy, student, give, deductive_reasoning, psychological, johnson_laird\n",
            "\n",
            "Topic 7: conceptual, knowledge, representation, structure, domain, model, semantic, language, modeling, represent, meaning, context, ontology, semantics, role, text, formal, category, analogy, based, situation, discourse, abstraction, describe, framework, narrative, problem, dialogue, construct, relation\n",
            "\n",
            "Topic 8: behavior, neural, behavioral, computational, human, cognitive, model, cognition, decision_making, modeling, level, brain, computational_model, architecture, control, bayesian, system, neuroscience, neural_network, mechanism, framework, task, cognitive_architecture, decision, cognitive_science, function, develop, psychological, work, provide\n",
            "\n",
            "Topic 9: mathematical, phenomenon, biological, model, modelling, cell, biology, mathematics, experimental, system, describe, physical, application, student, description, analysis, mathematical_modeling, complex, science, modeling, may, quantitative, tool, mathematical_modelling, understanding, many, formal, develop, understand, often\n",
            "\n",
            "====\n",
            "topic id 10\n",
            "(9106, 4084)\n",
            "Topic 0: design, designer, process, cognitive, system, human, model, product, artifact, engineering, problem, knowledge, based, cognition, visual, principle, paradigm, role, development, framework, sketch, representation, method, learning, develop, action, support, propose, result, pattern\n",
            "\n",
            "Topic 1: game, player, play, video_game, computer_game, games, gameplay, digital_game, experience, mechanic, gaming, rule, world, genre, chess, ai, explore, behavior, serious, social, discuss, medium, learning, development, strategy, playing, create, experiment, virtual, provide\n",
            "\n",
            "Topic 2: creativity, computational, human, intelligence, idea, model, process, novelty, cognitive, social, domain, system, discuss, individual, creative_thinking, art, measure, level, definition, ability, brain, psychology, propose, artificial, also, involve, many, useful, perspective, problem_solving\n",
            "\n",
            "Topic 3: narrative, story, character, storytelling, interactive, emergent, event, user, structure, generation, player, plot, interactive_narrative, analysis, framework, based, process, generate, knowledge, element, visualization, medium, text, comprehension, form, discourse, create, world, planning, system\n",
            "\n",
            "Topic 4: metaphor, metaphorical, conceptual_metaphor, metaphoric, language, conceptual, metaphors, domain, discourse, abstract, mapping, interpretation, cognitive, literal, source, cognitive_linguistics, process, linguistic, structure, novel, analogy, understanding, role, understand, way, propose, different, scientific, suggest, processing\n",
            "\n",
            "Topic 5: student, activity, idea, art, work, process, practice, space, thinking, context, way, communication, analysis, form, play, tool, knowledge, architecture, computer, meaning, understanding, role, method, mathematical, structure, explore, conceptual, gesture, describe, within\n",
            "\n",
            "Topic 6: creative, process, idea, novel, solution, generate, designer, creative_thinking, generation, imagination, group, insight, analogy, describe, task, emergence, creation, model, act, inspiration, may, individual, ability, novelty, people, work, framework, product, stage, abduction\n",
            "\n",
            "Topic 7: interaction, experience, technology, user, body, embodied, digital, movement, interactive, explore, environment, human, space, embodiment, way, medium, bodily, people, hci, social, sensory, multisensory, within, interface, world, physical, sens, perception, context, engagement\n",
            "\n",
            "====\n",
            "topic id 11\n",
            "(9106, 1308)\n",
            "Topic 0: music, human, brain, emotion, cognition, language, emotional, model, cognitive, system, culture, listen, review, provide, perception, discuss, function, way, also, may, aspect, feature, experience, domain, role, evolutionary, information, propose, mind, method\n",
            "\n",
            "Topic 1: musical, structure, experience, analysis, system, model, listener, form, meaning, may, cultural, work, suggest, culture, structural, develop, creativity, processing, context, pattern, process, consider, aspect, musicology, development, musical_instrument, understanding, expression, event, dynamic\n",
            "\n",
            "Topic 2: art, aesthetic, visual, form, space, musicology, artistic, artist, machine, creative, evolutionary, sonic, work, architecture, generative, examine, make, science, address, book, human, dance, spatial, practice, time, create, education, order, artwork, artificial\n",
            "\n",
            "Topic 3: rhythm, rhythmic, entrainment, melody, temporal, meter, timing, dance, beat, pulse, tempo, perception, movement, human, speech, music, time, pattern, across, behaviour, evolution, comparative, structure, harmony, song, specie, oriented, african, organization, brain\n",
            "\n",
            "Topic 4: composer, composition, compositional, process, work, piece, computer, music_composition, listener, creative, create, notation, system, technique, performer, score, tool, practice, electroacoustic_music, algorithmic, algorithm, generative, artistic, musical_composition, creation, model, aesthetic, time, describe, paradigm\n",
            "\n",
            "Topic 5: pitch, tonal, tone, harmony, timbre, tonality, chord, harmonic, structure, melodic, listener, perception, analysis, note, dissonance, interval, melody, scale, temporal, contour, tension, tune, pattern, such_as, domain, cognitive, principle, acoustic, voice, local\n",
            "\n",
            "Topic 6: auditory, perception, processing, acoustic, brain, language, process, speech, beat, motor, neural, structure, hearing, sensory, stimulus, perceptual, stream, system, syntax, review, temporal, evidence, hear, network, mechanism, organization, involve, different, harmonic, training\n",
            "\n",
            "Topic 7: improvisation, creativity, jazz, creative, improvised, artistic, process, interaction, free, explore, improvise, activity, rhythmic, real_time, involve, improvisational, complex, collaborative, cognitive, context, interactive, idea, style, melody, technology, generation, personality, method, domain, performance\n",
            "\n",
            "Topic 8: performance, musician, performer, instrument, expressive, expression, ensemble, practice, movement, gesture, audience, interaction, analysis, expert, computer, body, piece, instrumental, tempo, communication, musical_instrument, play, concert, piano, real_time, explore, improvise, data, motor, embodied\n",
            "\n",
            "Topic 9: sound, timbre, sonic, source, experience, listen, electroacoustic_music, object, space, acoustic, voice, sense, technology, hear, body, this_article, material, also, environment, hearing, listening, spectral, meaning, film, world, listener, explore, spatial, way, interaction\n",
            "\n",
            "====\n",
            "topic id 12\n",
            "(9106, 1466)\n",
            "Topic 0: emotion, basic, model, emotions, music, cognitive, propose, state, system, experience, cognition, perspective, term, view, different, account, role, work, suggest, function, language, abstract, consider, this_chapter, this_article, definition, researcher, design, focus_on, structure\n",
            "\n",
            "Topic 1: facial_expression, facial, recognition, expression, face, emotion, basic, social, universality, culture, signal, expressive, data, challenge, development, display, video, darwin, animation, automatic, automate, computer_vision, analysis, perception, utterance, experience, component, recognize, mimicry, psychology\n",
            "\n",
            "Topic 2: affect, detection, improvisational, ai, mood, metaphorical, context, work, improvisation, dialogue, interpretation, user, actor, character, evaluation, theme, also, project, sensing, user_interface, input, textual, judgment, core, text, virtual, affective_state, open_ended, semantic, scenario\n",
            "\n",
            "Topic 3: human, emotion, computer, recognition, machine, technology, affective_computing, communication, user, express, speech, application, character, system, design, recognize, emotional_state, emotions, aspect, computer_interaction, intelligent, emotional_intelligence, personality, artificial, interaction, psychology, intelligence, art, like, expression\n",
            "\n",
            "Topic 4: appraisal, emotion, model, process, cognitive, system, computational_model, engine, elicitation, integration, antecedent, component, episode, evaluation, generation, dynamic, integrate, feeling, module, lack, emotional_state, aspect, architecture, unfolding, as_well_as, need, theorise, appraise, abstract, recursive\n",
            "\n",
            "Topic 5: affective, science, game, cognitive, ontology, affective_state, architecture, process, provide, learning, learn, ethical_issue, player, definition, domain, psychology, develop, affective_computing, application, address, modeling, discipline, taxonomy, challenge, design, basis, detection, analysis, include, neuroscience\n",
            "\n",
            "Topic 6: emotion_regulation, cognition, mind, process, emotion, decision_making, brain, neuroscience, aesthetic, cognitive, discuss, mathematical, behavior, mechanism, moral, relate, psychology, social, review, psychological, perception, framework, include, self, role, development, describe, thought, motivation, intuition\n",
            "\n",
            "Topic 7: robot, emotion, robotics, social, human, emotions, model, moral, people, architecture, robotic, autonomy, empathic, art, express, emotional_state, robots, tour, capable, propose, motivation, mind, create, artificial, interaction, ground, friendship, understand, embodied, service\n",
            "\n",
            "Topic 8: emotional, experience, model, process, system, mechanism, processing, cognitive, component, dynamic, response, attention, control, provide, life, development, neutral, learning, result, social, simulation, event, network, character, phenomenon, evidence, arousal, semantic, negative, interaction\n",
            "\n",
            "Topic 9: agent, emotion, architecture, model, personality, decision_making, logic, bdi, artificial_agent, framework, emotional_state, propose, behaviour, empathic, action_selection, believable, mechanism, behavior, environment, reason, interaction, reason_about, design, cognitive, implementation, formal, based, like, mood, human\n",
            "\n",
            "====\n",
            "topic id 13\n",
            "(9106, 5122)\n",
            "Topic 0: cognitive, model, system, human, function, mechanism, structure, map, environment, agent, behavior, brain, language, analysis, evolution, information, modeling, tool, provide, network, propose, representation, design, develop, framework, describe, discuss, state, make, activity\n",
            "\n",
            "Topic 1: development, cognitive, child, developmental, piaget, perspective, theoretical, mathematical, social, change, skill, translation, adult, cultural, infant, stage, early, discuss, thinking, review, culture, understand, education, understanding, implication, framework, construct, conceptual, psychology, finding\n",
            "\n",
            "Topic 2: mind, philosophy, body, view, human, mental, reading, extend, modularity, module, brain, mental_state, idea, world, psychology, thought, understand, belief, embodiment, individual, modular, argument, way, others, question, embodied, ability, thesis, conception, capacity\n",
            "\n",
            "Topic 3: cognition, human, social, body, view, perception, embody, embodied, animal, environment, embodiment, model, system, embodied_cognition, perspective, extend, brain, spatial, evolution, also, work, comparative, situate, way, action, interaction, issue, form, time, affect\n",
            "\n",
            "Topic 4: cognitive_science, philosophy, science, psychology, anthropology, discipline, artificial_intelligence, embodied, cognitive_scientist, linguistics, philosophical, cognitive_psychology, scientific, work, computer_science, theoretical, traditional, question, neuroscience, methodological, idea, perspective, area, within, book, epistemology, embodied_cognition, offer, issue, dynamical\n",
            "\n",
            "Topic 5: process, mental, involve, thinking, information, thought, attention, unconscious, model, analysis, type, translation, think, perception, processing, psychological, underlie, decision_making, text, discuss, consider, brain, semiotic, view, automatic, dynamic, complex, activity, comprehension, understand\n",
            "\n",
            "Topic 6: computational, computation, explanation, account, level, content, argument, connectionism, representation, view, symbolic, connectionist, cognitive_architecture, symbol, semantic, formal, structure, framework, conceptual, notion, fodor, problem, thought, mental_representation, classical, semantics, explanatory, abstract, systematicity, linguistic\n",
            "\n",
            "Topic 7: task, control, ability, performance, reasoning, reason, domain, test, problem_solving, decision_making, strategy, problem, different, skill, complex, spatial, processing, evidence, involve, decision, result, component, may, suggest, solve, show, tool, provide, require, measure\n",
            "\n",
            "Topic 8: knowledge, structure, conceptual, domain, representation, acquire, information, epistemological, linguistic, schema, represent, engineering, acquisition, construction, semantic, perspective, application, different, epistemic, science, text, knowledge_acquisition, expert, student, world, epistemology, management, category, human, aspect\n",
            "\n",
            "Topic 9: intelligence, cognitive_informatics, computing, ability, science, information_processing, ci, cognitive, ai, test, psychometric, fluid, engineering, artificial_intelligence, application, natural, cc, human, individual_difference, set, brain, intelligent, internal, psychology, factor, computer_science, general_intelligence, invited, renowned, mechanism\n",
            "\n",
            "====\n",
            "topic id 14\n",
            "(9106, 4223)\n",
            "Topic 0: brain, model, science, change, system, work, memory, development, provide, this_article, learn, learning, consciousness, world, structure, social, organization, plasticity, information, time, part, functioning, view, machine, book, way, also, develop, whole, make\n",
            "\n",
            "Topic 1: functional, connectivity, structural, brain, connection, connectome, architecture, brain_region, functional_connectivity, region, analysis, anatomical, organization, area, map, data, pattern, cortical, task, review, large_scale, effective_connectivity, method, different, integration, mapping, white_matter, across, framework, graph\n",
            "\n",
            "Topic 2: human, brain, evolution, intelligence, development, technology, animal, evolutionary, language, cognition, art, ability, biological, science, culture, develop, knowledge, cultural, life, complex, body, understand, large, evolve, cognitive, may, organ, social, primate, specie\n",
            "\n",
            "Topic 3: neuroscience, science, education, neuroscientific, discipline, psychology, advance, understanding, social, clinical, scientific, practice, neuroscientist, behavior, nervous_system, development, knowledge, disorder, moral, neuro, finding, ai, review, modern, basic, application, psychological, emerge, educational, treatment\n",
            "\n",
            "Topic 4: network, large_scale, complex, dynamic, graph, structure, attention, brain_region, connection, region, control, node, task, cognition, cognitive, functional_connectivity, hub, small_world, analysis, social, here_we, semantic, system, activation, within, understand, modular, characterize, recent, executive\n",
            "\n",
            "Topic 5: neuron, neuronal, neural_network, circuit, cell, information, computation, map, single_neuron, computational, many, connection, behaviour, computer, understand, spike, model, make, animal, code, neuroscientist, nervous_system, know, different, form, implement, learn, stimulation, part, perform\n",
            "\n",
            "Topic 6: fmri, technique, neuroimaging, method, image, functional_magnetic_resonance_imaging, cognitive_neuroscience, brain, data, analysis, technology, review, development, application, imaging, eeg, activity, clinical, signal, provide, advance, tool, measure, brain_imaging, methodology, researcher, challenge, methodological, limitation, recent\n",
            "\n",
            "Topic 7: function, structure, cognitive, localization, area, nervous_system, lesion, clinical, mental, may, many, high, localize, th_century, mapping, dream, cerebral, neurology, motor, understanding, role, such_as, cortical, understand, sleep, describe, development, cortex, level, memory\n",
            "\n",
            "Topic 8: mind, body, brain, mental, problem, quantum, physical, philosophy, psychological, world, thought, view, conscious, philosopher, self, descartes, consciousness, dualism, cognitive_neuroscience, relation, process, science, cartesian, way, psychology, see, idea, subjective, scientific, philosophical\n",
            "\n",
            "Topic 9: neural, process, activity, information, behavior, dynamic, processing, mechanism, sensory, model, pattern, cognitive, brain, perception, different, system, area, task, state, behavioral, may, representation, control, stimulus, level, complex, suggest, mental, involve, signal\n",
            "\n"
          ]
        }
      ]
    },
    {
      "cell_type": "code",
      "metadata": {
        "id": "4Ic-9H4D2Y3v"
      },
      "source": [
        "topics_df = pd.DataFrame.from_dict(supertopics_dict,orient='index',columns=['SupertopicId'])\n",
        "topics_df['SubtopicId'] = topics_df.index.map(subtopics_dict)\n",
        "topics_df['SupertopicKeywords'] = topics_df.index.map(id_to_topicword)\n",
        "topics_df['SubtopicKeywords'] = topics_df.index.map(id_to_subtopicword)\n",
        "\n",
        "topics_df['Super3'] = topics_df['SupertopicKeywords'].apply(lambda x: ', '.join(x[:3]))\n",
        "topics_df['Sub3'] = topics_df['SubtopicKeywords'].apply(lambda x: ', '.join(x[:3]))"
      ],
      "execution_count": 31,
      "outputs": []
    },
    {
      "cell_type": "code",
      "metadata": {
        "id": "nKTKXKseXpix"
      },
      "source": [
        "# save\n",
        "with open(os.path.join(DRIVE_PATH,'topics_df_new.pkl'),'wb') as f:\n",
        "    pickle.dump(topics_df,f)"
      ],
      "execution_count": 32,
      "outputs": []
    }
  ]
}