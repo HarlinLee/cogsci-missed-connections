{
  "nbformat": 4,
  "nbformat_minor": 0,
  "metadata": {
    "colab": {
      "name": "citation_context_analysis.ipynb",
      "provenance": [],
      "collapsed_sections": [],
      "toc_visible": true,
      "include_colab_link": true
    },
    "kernelspec": {
      "display_name": "Python 3",
      "name": "python3"
    },
    "language_info": {
      "name": "python"
    }
  },
  "cells": [
    {
      "cell_type": "markdown",
      "metadata": {
        "id": "view-in-github",
        "colab_type": "text"
      },
      "source": [
        "<a href=\"https://colab.research.google.com/github/HarlinLee/cogsci-missed-connections/blob/main/citation_context_analysis.ipynb\" target=\"_parent\"><img src=\"https://colab.research.google.com/assets/colab-badge.svg\" alt=\"Open In Colab\"/></a>"
      ]
    },
    {
      "cell_type": "code",
      "metadata": {
        "id": "YEVN5PWumRzA"
      },
      "source": [
        "import os\n",
        "import numpy as np\n",
        "import pandas as pd\n",
        "import matplotlib.pyplot as plt\n",
        "import networkx as nx\n",
        "import pickle"
      ],
      "execution_count": 1,
      "outputs": []
    },
    {
      "cell_type": "code",
      "metadata": {
        "colab": {
          "base_uri": "https://localhost:8080/"
        },
        "id": "wUh2mI-ZJpHX",
        "outputId": "163e0841-dfc7-4b8f-fbe0-310ab8bd39ed"
      },
      "source": [
        "!pip install python-louvain\n",
        "from community import community_louvain"
      ],
      "execution_count": 2,
      "outputs": [
        {
          "output_type": "stream",
          "name": "stdout",
          "text": [
            "Requirement already satisfied: python-louvain in /usr/local/lib/python3.7/dist-packages (0.15)\n",
            "Requirement already satisfied: networkx in /usr/local/lib/python3.7/dist-packages (from python-louvain) (2.6.2)\n",
            "Requirement already satisfied: numpy in /usr/local/lib/python3.7/dist-packages (from python-louvain) (1.19.5)\n"
          ]
        }
      ]
    },
    {
      "cell_type": "code",
      "metadata": {
        "colab": {
          "base_uri": "https://localhost:8080/"
        },
        "id": "KW_st5UnmVqw",
        "outputId": "d3f8a7f2-0f98-49c5-c8e9-d4db380c40ca"
      },
      "source": [
        "from google.colab import drive\n",
        "drive.mount('/content/drive') \n",
        "DRIVE_PATH = \"/content/drive/My Drive/REU evolution of scientific fields\""
      ],
      "execution_count": 3,
      "outputs": [
        {
          "output_type": "stream",
          "name": "stdout",
          "text": [
            "Drive already mounted at /content/drive; to attempt to forcibly remount, call drive.mount(\"/content/drive\", force_remount=True).\n"
          ]
        }
      ]
    },
    {
      "cell_type": "markdown",
      "metadata": {
        "id": "jV9bg2b-MDau"
      },
      "source": [
        "# Load Data"
      ]
    },
    {
      "cell_type": "code",
      "metadata": {
        "colab": {
          "base_uri": "https://localhost:8080/"
        },
        "id": "66snO9y-pz-W",
        "outputId": "74db277f-424e-49b8-e9bf-8104d47fa68e"
      },
      "source": [
        "with open(os.path.join(DRIVE_PATH, 'filtered_new_fields_df.pkl'), 'rb') as file:\n",
        "    fields_df = pickle.load(file)\n",
        "print(fields_df.shape)"
      ],
      "execution_count": 4,
      "outputs": [
        {
          "output_type": "stream",
          "name": "stdout",
          "text": [
            "(59384, 18)\n"
          ]
        }
      ]
    },
    {
      "cell_type": "markdown",
      "metadata": {
        "id": "5xY77258ghsW"
      },
      "source": [
        "# Build Citation Network"
      ]
    },
    {
      "cell_type": "code",
      "metadata": {
        "id": "1G0kZp1Cgs9v"
      },
      "source": [
        "id_set = set(fields_df['Id'])"
      ],
      "execution_count": 5,
      "outputs": []
    },
    {
      "cell_type": "code",
      "metadata": {
        "id": "RJtqZ2UBgs9w"
      },
      "source": [
        "def filter_set(x):\n",
        "  if isinstance(x, list):\n",
        "    return list(set(x).intersection(id_set))\n",
        "  else:\n",
        "    return []\n",
        "\n",
        "fields_df['filtered_id'] = fields_df['RId'].apply(lambda x: filter_set(x))"
      ],
      "execution_count": 6,
      "outputs": []
    },
    {
      "cell_type": "code",
      "metadata": {
        "colab": {
          "base_uri": "https://localhost:8080/"
        },
        "id": "r0cJ6orhJpHW",
        "outputId": "7f7c36f1-5cf3-4020-8880-a163a38e8636"
      },
      "source": [
        "adj_dict = dict(zip(fields_df['Id'],fields_df['filtered_id'].apply(lambda x: dict(zip(x,[{}] * len(x))))))\n",
        "\n",
        "G = nx.DiGraph(adj_dict)\n",
        "len(G), G.size()"
      ],
      "execution_count": 7,
      "outputs": [
        {
          "output_type": "execute_result",
          "data": {
            "text/plain": [
              "(59384, 191871)"
            ]
          },
          "metadata": {},
          "execution_count": 7
        }
      ]
    },
    {
      "cell_type": "markdown",
      "metadata": {
        "id": "UusGg9NA5LWv"
      },
      "source": [
        "# Community detection"
      ]
    },
    {
      "cell_type": "code",
      "metadata": {
        "colab": {
          "base_uri": "https://localhost:8080/"
        },
        "id": "HYz_V95DJpHX",
        "outputId": "9dbf6bf0-5333-48e0-b25a-c853e67426d2"
      },
      "source": [
        "largest_cc = max(nx.weakly_connected_components(G), key=len)\n",
        "K = G.subgraph(largest_cc)\n",
        "print(len(K), K.size())\n",
        "K_undirected=nx.to_undirected(K)"
      ],
      "execution_count": 8,
      "outputs": [
        {
          "output_type": "stream",
          "name": "stdout",
          "text": [
            "41465 190997\n"
          ]
        }
      ]
    },
    {
      "cell_type": "code",
      "metadata": {
        "id": "IH1-QfmsJpHX"
      },
      "source": [
        "c = community_louvain.best_partition(K_undirected, random_state=0) "
      ],
      "execution_count": 9,
      "outputs": []
    },
    {
      "cell_type": "code",
      "metadata": {
        "id": "F_umFCK6JpHX"
      },
      "source": [
        "community_dict = {}\n",
        "for i in c.keys():\n",
        "  community_dict[c[i]] = community_dict.get(c[i], []) + [i]"
      ],
      "execution_count": 10,
      "outputs": []
    },
    {
      "cell_type": "markdown",
      "metadata": {
        "id": "fYw8psNX5QPy"
      },
      "source": [
        "# Sort by size"
      ]
    },
    {
      "cell_type": "code",
      "metadata": {
        "colab": {
          "base_uri": "https://localhost:8080/",
          "height": 366
        },
        "id": "2ALcDP76qsOZ",
        "outputId": "9d0fdd50-a16f-4663-e151-80cd2d1039f5"
      },
      "source": [
        "length_list = np.array([len(community_dict[ii]) for ii in range(len(community_dict.keys()))])\n",
        "\n",
        "sort_idx = np.argsort(length_list)[::-1]\n",
        "print(length_list[sort_idx])\n",
        "\n",
        "plt.figure(figsize=(6,4))\n",
        "plt.plot(length_list[sort_idx], linewidth=2)\n",
        "plt.vlines(16, 0, 4000, linestyles='--', linewidth=1)\n",
        "plt.xlabel('Community Index',fontsize=20)\n",
        "plt.ylabel('Size',fontsize=20)\n",
        "plt.tick_params(labelsize=16)\n",
        "plt.yticks(range(0,4500, 1000))\n",
        "plt.xticks(range(0,45, 5))\n",
        "plt.savefig(DRIVE_PATH+'/'+'CommunitySize.pdf',bbox_inches='tight')\n",
        "plt.show()"
      ],
      "execution_count": 11,
      "outputs": [
        {
          "output_type": "stream",
          "name": "stdout",
          "text": [
            "[4353 4003 3976 3371 3082 2659 2657 2350 2224 2161 2159 1963 1829 1167\n",
            "  969  493  477  278  266  257  245  173   68   53   33   18   17   17\n",
            "   17   16   14   14   12   11   10    9    8    8    7    6    6    5\n",
            "    4]\n"
          ]
        },
        {
          "output_type": "display_data",
          "data": {
            "image/png": "[encoded data removed]",
            "text/plain": [
              "<Figure size 432x288 with 1 Axes>"
            ]
          },
          "metadata": {
            "needs_background": "light"
          }
        }
      ]
    },
    {
      "cell_type": "code",
      "metadata": {
        "id": "nKmU2jVLuyIV"
      },
      "source": [
        "comm_id_sort = dict(zip(range(len(length_list)), sort_idx))\n",
        "comm_id_sort_reverse = dict(zip(sort_idx, range(len(length_list))))"
      ],
      "execution_count": 12,
      "outputs": []
    },
    {
      "cell_type": "code",
      "metadata": {
        "id": "bD5QIjpHrZTl"
      },
      "source": [
        "community_dict_sorted = {}\n",
        "for ii in range(len(length_list)):\n",
        "  community_dict_sorted[ii] = community_dict[comm_id_sort[ii]]"
      ],
      "execution_count": 13,
      "outputs": []
    },
    {
      "cell_type": "code",
      "metadata": {
        "id": "Eeak1T8V5VWJ"
      },
      "source": [
        "# save\n",
        "np.savez(DRIVE_PATH +'/comm_detection.npz', \n",
        "         community_dict_sorted=community_dict_sorted, \n",
        "         comm_id_sort=comm_id_sort, \n",
        "         comm_id_sort_reverse=comm_id_sort_reverse,\n",
        "         c=c, allow_pickle=True)\n",
        "\n"
      ],
      "execution_count": 14,
      "outputs": []
    }
  ]
}